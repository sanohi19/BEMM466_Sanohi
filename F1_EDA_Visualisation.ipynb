{
 "cells": [
  {
   "cell_type": "markdown",
   "metadata": {},
   "source": [
    "### Data Pre-processing Code"
   ]
  },
  {
   "cell_type": "code",
   "execution_count": 1,
   "metadata": {},
   "outputs": [
    {
     "name": "stdout",
     "output_type": "stream",
     "text": [
      "\n",
      "Merged Data:\n",
      "Year\n",
      "2019    63\n",
      "2020    51\n",
      "2021    66\n",
      "2022    66\n",
      "2023    66\n",
      "2024    42\n",
      "Name: count, dtype: int64\n",
      "\n",
      "Date range in the final dataset:\n",
      "2019-03-17 00:00:00 - 2024-07-28 00:00:00\n",
      "\n",
      "Last few races in the dataset:\n",
      "           Country  Position  No           Driver                        Team  \\\n",
      "339          Spain       1.0   1   Max Verstappen  Red Bull Racing Honda RBPT   \n",
      "340          Spain       2.0   4     Lando Norris            McLaren Mercedes   \n",
      "341          Spain       3.0  44   Lewis Hamilton                    Mercedes   \n",
      "342        Austria       1.0  63   George Russell                    Mercedes   \n",
      "343        Austria       2.0  81    Oscar Piastri            McLaren Mercedes   \n",
      "344        Austria       3.0  55     Carlos Sainz                     Ferrari   \n",
      "345  Great Britain       1.0  44   Lewis Hamilton                    Mercedes   \n",
      "346  Great Britain       2.0   1   Max Verstappen  Red Bull Racing Honda RBPT   \n",
      "347  Great Britain       3.0   4     Lando Norris            McLaren Mercedes   \n",
      "348        Hungary       1.0  81    Oscar Piastri            McLaren Mercedes   \n",
      "349        Hungary       2.0   4     Lando Norris            McLaren Mercedes   \n",
      "350        Hungary       3.0  44   Lewis Hamilton                    Mercedes   \n",
      "351        Belgium       1.0  44   Lewis Hamilton                    Mercedes   \n",
      "352        Belgium       2.0  81    Oscar Piastri            McLaren Mercedes   \n",
      "353        Belgium       3.0  16  Charles Leclerc                     Ferrari   \n",
      "\n",
      "     Starting Grid  Laps Time/Retired  Points Fastest Lap  Unnamed: 10  \\\n",
      "339            2.0    66     01:28:20    25.0         NaN          NaN   \n",
      "340            1.0    66      +2.219s    19.0         NaN          NaN   \n",
      "341            3.0    66     +17.790s    15.0         NaN          NaN   \n",
      "342            3.0    71     01:24:23    25.0         NaN          NaN   \n",
      "343            7.0    71      +1.906s    18.0         NaN          NaN   \n",
      "344            4.0    71      +4.533s    15.0         NaN          NaN   \n",
      "345            2.0    52     01:22:27    25.0         NaN          NaN   \n",
      "346            4.0    52      +1.465s    18.0         NaN          NaN   \n",
      "347            3.0    52      +7.547s    15.0         NaN          NaN   \n",
      "348            2.0    70     01:38:02    25.0         NaN          NaN   \n",
      "349            1.0    70      +2.141s    18.0         NaN          NaN   \n",
      "350            5.0    70     +14.880s    15.0         NaN          NaN   \n",
      "351            3.0    44      +0.526s    25.0         NaN          NaN   \n",
      "352            5.0    44      +1.173s    18.0         NaN          NaN   \n",
      "353            1.0    44      +8.549s    15.0         NaN          NaN   \n",
      "\n",
      "     Unnamed: 11  Unnamed: 12  Unnamed: 13  Unnamed: 14  Unnamed: 15  Year  \\\n",
      "339          NaN          NaN          NaN          NaN          NaN  2024   \n",
      "340          NaN          NaN          NaN          NaN          NaN  2024   \n",
      "341          NaN          NaN          NaN          NaN          NaN  2024   \n",
      "342          NaN          NaN          NaN          NaN          NaN  2024   \n",
      "343          NaN          NaN          NaN          NaN          NaN  2024   \n",
      "344          NaN          NaN          NaN          NaN          NaN  2024   \n",
      "345          NaN          NaN          NaN          NaN          NaN  2024   \n",
      "346          NaN          NaN          NaN          NaN          NaN  2024   \n",
      "347          NaN          NaN          NaN          NaN          NaN  2024   \n",
      "348          NaN          NaN          NaN          NaN          NaN  2024   \n",
      "349          NaN          NaN          NaN          NaN          NaN  2024   \n",
      "350          NaN          NaN          NaN          NaN          NaN  2024   \n",
      "351          NaN          NaN          NaN          NaN          NaN  2024   \n",
      "352          NaN          NaN          NaN          NaN          NaN  2024   \n",
      "353          NaN          NaN          NaN          NaN          NaN  2024   \n",
      "\n",
      "    Set Fastest Lap  Race Date                       GP Name  \n",
      "339              No 2024-06-23  Aramco Gran Premio de Espana  \n",
      "340             Yes 2024-06-23  Aramco Gran Premio de Espana  \n",
      "341              No 2024-06-23  Aramco Gran Premio de Espana  \n",
      "342              No 2024-06-30     Qatar Airways Austrian GP  \n",
      "343              No 2024-06-30     Qatar Airways Austrian GP  \n",
      "344              No 2024-06-30     Qatar Airways Austrian GP  \n",
      "345              No 2024-07-07      Qatar Airways British GP  \n",
      "346              No 2024-07-07      Qatar Airways British GP  \n",
      "347              No 2024-07-07      Qatar Airways British GP  \n",
      "348              No 2024-07-23                  Hungarian GP  \n",
      "349              No 2024-07-23                  Hungarian GP  \n",
      "350              No 2024-07-23                  Hungarian GP  \n",
      "351              No 2024-07-28              Rolex Belgian GP  \n",
      "352              No 2024-07-28              Rolex Belgian GP  \n",
      "353              No 2024-07-28              Rolex Belgian GP  \n",
      "\n",
      "Races in 2024:\n",
      "            Country  Position  No           Driver  \\\n",
      "312         Bahrain       1.0   1   Max Verstappen   \n",
      "313         Bahrain       2.0  11     Sergio Perez   \n",
      "314         Bahrain       3.0  55     Carlos Sainz   \n",
      "315    Saudi Arabia       1.0   1   Max Verstappen   \n",
      "316    Saudi Arabia       2.0  11     Sergio Perez   \n",
      "317    Saudi Arabia       3.0  16  Charles Leclerc   \n",
      "318       Australia       1.0  55     Carlos Sainz   \n",
      "319       Australia       2.0  16  Charles Leclerc   \n",
      "320       Australia       3.0   4     Lando Norris   \n",
      "321           Japan       1.0   1   Max Verstappen   \n",
      "322           Japan       2.0  11     Sergio Perez   \n",
      "323           Japan       3.0  55     Carlos Sainz   \n",
      "324           China       1.0   1   Max Verstappen   \n",
      "325           China       2.0   4     Lando Norris   \n",
      "326           China       3.0  11     Sergio Perez   \n",
      "327           Miami       1.0   4     Lando Norris   \n",
      "328           Miami       2.0   1   Max Verstappen   \n",
      "329           Miami       3.0  16  Charles Leclerc   \n",
      "330  Emilia Romagna       1.0   1   Max Verstappen   \n",
      "331  Emilia Romagna       2.0   4     Lando Norris   \n",
      "332  Emilia Romagna       3.0  16  Charles Leclerc   \n",
      "333          Monaco       1.0  16  Charles Leclerc   \n",
      "334          Monaco       2.0  81    Oscar Piastri   \n",
      "335          Monaco       3.0  55     Carlos Sainz   \n",
      "336          Canada       1.0   1   Max Verstappen   \n",
      "337          Canada       2.0   4     Lando Norris   \n",
      "338          Canada       3.0  63   George Russell   \n",
      "339           Spain       1.0   1   Max Verstappen   \n",
      "340           Spain       2.0   4     Lando Norris   \n",
      "341           Spain       3.0  44   Lewis Hamilton   \n",
      "342         Austria       1.0  63   George Russell   \n",
      "343         Austria       2.0  81    Oscar Piastri   \n",
      "344         Austria       3.0  55     Carlos Sainz   \n",
      "345   Great Britain       1.0  44   Lewis Hamilton   \n",
      "346   Great Britain       2.0   1   Max Verstappen   \n",
      "347   Great Britain       3.0   4     Lando Norris   \n",
      "348         Hungary       1.0  81    Oscar Piastri   \n",
      "349         Hungary       2.0   4     Lando Norris   \n",
      "350         Hungary       3.0  44   Lewis Hamilton   \n",
      "351         Belgium       1.0  44   Lewis Hamilton   \n",
      "352         Belgium       2.0  81    Oscar Piastri   \n",
      "353         Belgium       3.0  16  Charles Leclerc   \n",
      "\n",
      "                           Team  Starting Grid  Laps Time/Retired  Points  \\\n",
      "312  Red Bull Racing Honda RBPT            1.0    57     01:31:45    26.0   \n",
      "313  Red Bull Racing Honda RBPT            5.0    57     +22.457s    18.0   \n",
      "314                     Ferrari            4.0    57     +25.110s    15.0   \n",
      "315  Red Bull Racing Honda RBPT            1.0    50     01:20:43    25.0   \n",
      "316  Red Bull Racing Honda RBPT            3.0    50     +13.643s    18.0   \n",
      "317                     Ferrari            2.0    50     +18.639s    16.0   \n",
      "318                     Ferrari            2.0    58     01:20:27    25.0   \n",
      "319                     Ferrari            4.0    58      +2.366s    19.0   \n",
      "320            McLaren Mercedes            3.0    58      +5.904s    15.0   \n",
      "321  Red Bull Racing Honda RBPT            1.0    53     01:54:24    26.0   \n",
      "322  Red Bull Racing Honda RBPT            2.0    53     +12.535s    18.0   \n",
      "323                     Ferrari            4.0    53     +20.866s    15.0   \n",
      "324  Red Bull Racing Honda RBPT            1.0    56     01:40:53    25.0   \n",
      "325            McLaren Mercedes            4.0    56     +13.773s    18.0   \n",
      "326  Red Bull Racing Honda RBPT            2.0    56     +19.160s    15.0   \n",
      "327            McLaren Mercedes            5.0    57     01:30:50    25.0   \n",
      "328  Red Bull Racing Honda RBPT            1.0    57      +7.612s    18.0   \n",
      "329                     Ferrari            2.0    57      +9.920s    15.0   \n",
      "330  Red Bull Racing Honda RBPT            1.0    63     01:25:25    25.0   \n",
      "331            McLaren Mercedes            2.0    63      +0.725s    18.0   \n",
      "332                     Ferrari            3.0    63      +7.916s    15.0   \n",
      "333                     Ferrari            1.0    78     02:23:16    25.0   \n",
      "334            McLaren Mercedes            2.0    78      +7.152s    18.0   \n",
      "335                     Ferrari            3.0    78      +7.585s    15.0   \n",
      "336  Red Bull Racing Honda RBPT            2.0    70     01:45:48    25.0   \n",
      "337            McLaren Mercedes            3.0    70      +3.879s    18.0   \n",
      "338                    Mercedes            1.0    70      +4.317s    15.0   \n",
      "339  Red Bull Racing Honda RBPT            2.0    66     01:28:20    25.0   \n",
      "340            McLaren Mercedes            1.0    66      +2.219s    19.0   \n",
      "341                    Mercedes            3.0    66     +17.790s    15.0   \n",
      "342                    Mercedes            3.0    71     01:24:23    25.0   \n",
      "343            McLaren Mercedes            7.0    71      +1.906s    18.0   \n",
      "344                     Ferrari            4.0    71      +4.533s    15.0   \n",
      "345                    Mercedes            2.0    52     01:22:27    25.0   \n",
      "346  Red Bull Racing Honda RBPT            4.0    52      +1.465s    18.0   \n",
      "347            McLaren Mercedes            3.0    52      +7.547s    15.0   \n",
      "348            McLaren Mercedes            2.0    70     01:38:02    25.0   \n",
      "349            McLaren Mercedes            1.0    70      +2.141s    18.0   \n",
      "350                    Mercedes            5.0    70     +14.880s    15.0   \n",
      "351                    Mercedes            3.0    44      +0.526s    25.0   \n",
      "352            McLaren Mercedes            5.0    44      +1.173s    18.0   \n",
      "353                     Ferrari            1.0    44      +8.549s    15.0   \n",
      "\n",
      "    Fastest Lap  Unnamed: 10  Unnamed: 11  Unnamed: 12  Unnamed: 13  \\\n",
      "312         NaN          NaN          NaN          NaN          NaN   \n",
      "313         NaN          NaN          NaN          NaN          NaN   \n",
      "314         NaN          NaN          NaN          NaN          NaN   \n",
      "315         NaN          NaN          NaN          NaN          NaN   \n",
      "316         NaN          NaN          NaN          NaN          NaN   \n",
      "317         NaN          NaN          NaN          NaN          NaN   \n",
      "318         NaN          NaN          NaN          NaN          NaN   \n",
      "319         NaN          NaN          NaN          NaN          NaN   \n",
      "320         NaN          NaN          NaN          NaN          NaN   \n",
      "321         NaN          NaN          NaN          NaN          NaN   \n",
      "322         NaN          NaN          NaN          NaN          NaN   \n",
      "323         NaN          NaN          NaN          NaN          NaN   \n",
      "324         NaN          NaN          NaN          NaN          NaN   \n",
      "325         NaN          NaN          NaN          NaN          NaN   \n",
      "326         NaN          NaN          NaN          NaN          NaN   \n",
      "327         NaN          NaN          NaN          NaN          NaN   \n",
      "328         NaN          NaN          NaN          NaN          NaN   \n",
      "329         NaN          NaN          NaN          NaN          NaN   \n",
      "330         NaN          NaN          NaN          NaN          NaN   \n",
      "331         NaN          NaN          NaN          NaN          NaN   \n",
      "332         NaN          NaN          NaN          NaN          NaN   \n",
      "333         NaN          NaN          NaN          NaN          NaN   \n",
      "334         NaN          NaN          NaN          NaN          NaN   \n",
      "335         NaN          NaN          NaN          NaN          NaN   \n",
      "336         NaN          NaN          NaN          NaN          NaN   \n",
      "337         NaN          NaN          NaN          NaN          NaN   \n",
      "338         NaN          NaN          NaN          NaN          NaN   \n",
      "339         NaN          NaN          NaN          NaN          NaN   \n",
      "340         NaN          NaN          NaN          NaN          NaN   \n",
      "341         NaN          NaN          NaN          NaN          NaN   \n",
      "342         NaN          NaN          NaN          NaN          NaN   \n",
      "343         NaN          NaN          NaN          NaN          NaN   \n",
      "344         NaN          NaN          NaN          NaN          NaN   \n",
      "345         NaN          NaN          NaN          NaN          NaN   \n",
      "346         NaN          NaN          NaN          NaN          NaN   \n",
      "347         NaN          NaN          NaN          NaN          NaN   \n",
      "348         NaN          NaN          NaN          NaN          NaN   \n",
      "349         NaN          NaN          NaN          NaN          NaN   \n",
      "350         NaN          NaN          NaN          NaN          NaN   \n",
      "351         NaN          NaN          NaN          NaN          NaN   \n",
      "352         NaN          NaN          NaN          NaN          NaN   \n",
      "353         NaN          NaN          NaN          NaN          NaN   \n",
      "\n",
      "     Unnamed: 14  Unnamed: 15  Year Set Fastest Lap  Race Date  \\\n",
      "312          NaN          NaN  2024             Yes 2024-03-02   \n",
      "313          NaN          NaN  2024              No 2024-03-02   \n",
      "314          NaN          NaN  2024              No 2024-03-02   \n",
      "315          NaN          NaN  2024              No 2024-03-09   \n",
      "316          NaN          NaN  2024              No 2024-03-09   \n",
      "317          NaN          NaN  2024             Yes 2024-03-09   \n",
      "318          NaN          NaN  2024              No 2024-03-24   \n",
      "319          NaN          NaN  2024             Yes 2024-03-24   \n",
      "320          NaN          NaN  2024              No 2024-03-24   \n",
      "321          NaN          NaN  2024             Yes 2024-04-07   \n",
      "322          NaN          NaN  2024              No 2024-04-07   \n",
      "323          NaN          NaN  2024              No 2024-04-07   \n",
      "324          NaN          NaN  2024              No 2024-04-21   \n",
      "325          NaN          NaN  2024              No 2024-04-21   \n",
      "326          NaN          NaN  2024              No 2024-04-21   \n",
      "327          NaN          NaN  2024              No 2024-05-05   \n",
      "328          NaN          NaN  2024              No 2024-05-05   \n",
      "329          NaN          NaN  2024              No 2024-05-05   \n",
      "330          NaN          NaN  2024              No 2024-05-19   \n",
      "331          NaN          NaN  2024              No 2024-05-19   \n",
      "332          NaN          NaN  2024              No 2024-05-19   \n",
      "333          NaN          NaN  2024              No 2024-05-26   \n",
      "334          NaN          NaN  2024              No 2024-05-26   \n",
      "335          NaN          NaN  2024              No 2024-05-26   \n",
      "336          NaN          NaN  2024              No 2024-06-09   \n",
      "337          NaN          NaN  2024              No 2024-06-09   \n",
      "338          NaN          NaN  2024              No 2024-06-09   \n",
      "339          NaN          NaN  2024              No 2024-06-23   \n",
      "340          NaN          NaN  2024             Yes 2024-06-23   \n",
      "341          NaN          NaN  2024              No 2024-06-23   \n",
      "342          NaN          NaN  2024              No 2024-06-30   \n",
      "343          NaN          NaN  2024              No 2024-06-30   \n",
      "344          NaN          NaN  2024              No 2024-06-30   \n",
      "345          NaN          NaN  2024              No 2024-07-07   \n",
      "346          NaN          NaN  2024              No 2024-07-07   \n",
      "347          NaN          NaN  2024              No 2024-07-07   \n",
      "348          NaN          NaN  2024              No 2024-07-23   \n",
      "349          NaN          NaN  2024              No 2024-07-23   \n",
      "350          NaN          NaN  2024              No 2024-07-23   \n",
      "351          NaN          NaN  2024              No 2024-07-28   \n",
      "352          NaN          NaN  2024              No 2024-07-28   \n",
      "353          NaN          NaN  2024              No 2024-07-28   \n",
      "\n",
      "                                               GP Name  \n",
      "312                                Gulf Air Bahrain GP  \n",
      "313                                Gulf Air Bahrain GP  \n",
      "314                                Gulf Air Bahrain GP  \n",
      "315                               STC Saudi Arabian GP  \n",
      "316                               STC Saudi Arabian GP  \n",
      "317                               STC Saudi Arabian GP  \n",
      "318                                Rolex Australian GP  \n",
      "319                                Rolex Australian GP  \n",
      "320                                Rolex Australian GP  \n",
      "321                            MSC Cruises Japanese GP  \n",
      "322                            MSC Cruises Japanese GP  \n",
      "323                            MSC Cruises Japanese GP  \n",
      "324                                  Lenovo Chinese GP  \n",
      "325                                  Lenovo Chinese GP  \n",
      "326                                  Lenovo Chinese GP  \n",
      "327                                Crypto.com Miami GP  \n",
      "328                                Crypto.com Miami GP  \n",
      "329                                Crypto.com Miami GP  \n",
      "330  Qatar Airways Gran Premio Del Made In Italy e ...  \n",
      "331  Qatar Airways Gran Premio Del Made In Italy e ...  \n",
      "332  Qatar Airways Gran Premio Del Made In Italy e ...  \n",
      "333                               Grand Prix de Monaco  \n",
      "334                               Grand Prix de Monaco  \n",
      "335                               Grand Prix de Monaco  \n",
      "336                           AWS Grand Prix du Canada  \n",
      "337                           AWS Grand Prix du Canada  \n",
      "338                           AWS Grand Prix du Canada  \n",
      "339                       Aramco Gran Premio de Espana  \n",
      "340                       Aramco Gran Premio de Espana  \n",
      "341                       Aramco Gran Premio de Espana  \n",
      "342                          Qatar Airways Austrian GP  \n",
      "343                          Qatar Airways Austrian GP  \n",
      "344                          Qatar Airways Austrian GP  \n",
      "345                           Qatar Airways British GP  \n",
      "346                           Qatar Airways British GP  \n",
      "347                           Qatar Airways British GP  \n",
      "348                                       Hungarian GP  \n",
      "349                                       Hungarian GP  \n",
      "350                                       Hungarian GP  \n",
      "351                                   Rolex Belgian GP  \n",
      "352                                   Rolex Belgian GP  \n",
      "353                                   Rolex Belgian GP  \n",
      "\n",
      "Merged data saved to 'merged_race_data.csv'\n"
     ]
    }
   ],
   "source": [
    "import pandas as pd\n",
    "from datetime import datetime\n",
    "from sklearn.linear_model import LogisticRegression\n",
    "from sklearn.metrics import accuracy_score, classification_report, confusion_matrix\n",
    "from sklearn.model_selection import train_test_split, cross_val_score\n",
    "from sklearn.preprocessing import StandardScaler\n",
    "from sklearn.impute import SimpleImputer\n",
    "\n",
    "# Directory containing the F1 dataset\n",
    "base_dir = '/Users/sanohijatav/Downloads/Business_Project/F1_Dataset/'\n",
    "\n",
    "# Load race results and calendar data for each year (2019-2024)\n",
    "years = range(2019, 2025)\n",
    "race_results_data = []\n",
    "calendar_data = []\n",
    "\n",
    "for year in years:\n",
    "    race_results_file = f'{base_dir}/{year}/formula1_{year}season_raceResults.csv'\n",
    "    calendar_file = f'{base_dir}/{year}/formula1_{year}season_calendar.csv'\n",
    "    \n",
    "    race_results = pd.read_csv(race_results_file)\n",
    "    calendar = pd.read_csv(calendar_file)\n",
    "    \n",
    "    # Add year column to both datasets\n",
    "    race_results['Year'] = year\n",
    "    calendar['Year'] = year\n",
    "    \n",
    "    race_results_data.append(race_results)\n",
    "    calendar_data.append(calendar)\n",
    "\n",
    "# Concatenate data from all years\n",
    "race_results_data = pd.concat(race_results_data, ignore_index=True)\n",
    "calendar_data = pd.concat(calendar_data, ignore_index=True)\n",
    "\n",
    "# Convert Race Date to datetime in calendar data\n",
    "calendar_data['Race Date'] = pd.to_datetime(calendar_data['Race Date'], format='%d/%m/%Y', errors='coerce')\n",
    "\n",
    "# Ensure 'Position' is numeric in race results data\n",
    "race_results_data['Position'] = pd.to_numeric(race_results_data['Position'], errors='coerce')\n",
    "\n",
    "# Filter for top 3 positions only\n",
    "podium_data = race_results_data[race_results_data['Position'].isin([1, 2, 3])]\n",
    "\n",
    "# Merge podium data with calendar data\n",
    "merged_data = pd.merge(podium_data, calendar_data[['Country', 'Race Date', 'Year', 'GP Name']], \n",
    "                       on=['Country', 'Year'], how='left')\n",
    "\n",
    "# Sort the data by Race Date and then by Position\n",
    "merged_data = merged_data.sort_values(['Race Date', 'Position'])\n",
    "\n",
    "# Handle the cancelled race in Italy for 2023\n",
    "cancelled_race = merged_data[(merged_data['Country'] == 'Italy') & (merged_data['Year'] == 2023) & (merged_data['Race Date'].isna())]\n",
    "if not cancelled_race.empty:\n",
    "    print(\"\\nCancelled race detected:\")\n",
    "    print(cancelled_race[['Country', 'Year', 'GP Name']])\n",
    "    # choose to keep or remove this entry\n",
    "    merged_data = merged_data.dropna(subset=['Race Date'])\n",
    "    # Leave as it is\n",
    "    merged_data.loc[(merged_data['Country'] == 'Italy') & (merged_data['Year'] == 2023) & (merged_data['Race Date'].isna()), 'GP Name'] += ' (Cancelled)'\n",
    "\n",
    "# Get current date\n",
    "current_date = datetime.now()\n",
    "\n",
    "# Filter out future races\n",
    "merged_data = merged_data[merged_data['Race Date'] <= current_date]\n",
    "\n",
    "print(\"\\nMerged Data:\")\n",
    "print(merged_data['Year'].value_counts().sort_index())\n",
    "\n",
    "# Check the date range in the final dataset\n",
    "print(\"\\nDate range in the final dataset:\")\n",
    "print(merged_data['Race Date'].min(), \"-\", merged_data['Race Date'].max())\n",
    "\n",
    "# Print the last few races in the dataset\n",
    "print(\"\\nLast few races in the dataset:\")\n",
    "print(merged_data.tail(15))\n",
    "\n",
    "# Check for any races in 2024\n",
    "print(\"\\nRaces in 2024:\")\n",
    "print(merged_data[merged_data['Year'] == 2024])\n",
    "\n",
    "# Save the merged data to a CSV file\n",
    "merged_data.to_csv(f'{base_dir}/merged_race_data.csv', index=False)\n",
    "print(\"\\nMerged data saved to 'merged_race_data.csv'\")"
   ]
  },
  {
   "cell_type": "markdown",
   "metadata": {},
   "source": [
    "### BELOW SECTION CONTAINS ALL THE FUNCTIONS WHICH WILL BE USED FREQUENTLY IN THE FURTHER EDA ANALYSIS"
   ]
  },
  {
   "cell_type": "code",
   "execution_count": 2,
   "metadata": {},
   "outputs": [],
   "source": [
    "import pandas as pd\n",
    "import os\n",
    "import numpy as np\n",
    "import plotly.graph_objects as go\n",
    "\n",
    "data = {}\n",
    "base_path = 'F1_Dataset'\n",
    "\n",
    "for year in range(2019, 2025):\n",
    "    year_path = os.path.join(base_path, str(year))\n",
    "    for file in os.listdir(year_path):\n",
    "        if file.endswith('.csv'):\n",
    "            key = f\"{year}_{file[:-4]}\"\n",
    "            data[key] = pd.read_csv(os.path.join(year_path, file))\n",
    "\n",
    "\n",
    "#Function to load race results from 2019-2024 which will be used further in the EDA Analysis\n",
    "\n",
    "def get_race_results():\n",
    "    all_results = pd.DataFrame()\n",
    "    for year in range(2019, 2025):\n",
    "        key = f\"{year}_formula1_{year}season_raceResults\"\n",
    "        if key in data:\n",
    "            year_results = data[key].copy()\n",
    "            year_results['Year'] = year\n",
    "            all_results = pd.concat([all_results, year_results], ignore_index=True)\n",
    "    return all_results\n",
    "\n",
    "#Function to load qualifying race results from 2019-2024 which will be used further in the EDA Analysis\n",
    "\n",
    "def get_qualifying_results():\n",
    "    all_results = pd.DataFrame()\n",
    "    for year in range(2019, 2025):\n",
    "        # Constructing the file path for qualifying results\n",
    "        file_path = f\"/Users/sanohijatav/Downloads/Business_Project/F1_Dataset/{year}/formula1_{year}season_qualifyingResults.csv\"\n",
    "        try:\n",
    "            # Read the CSV file\n",
    "            year_results = pd.read_csv(file_path)\n",
    "            # Add a year column\n",
    "            year_results['Year'] = year\n",
    "            # Concatenate the results\n",
    "            all_results = pd.concat([all_results, year_results], ignore_index=True)\n",
    "        except FileNotFoundError:\n",
    "            print(f\"File not found: {file_path}\")\n",
    "        except pd.errors.EmptyDataError:\n",
    "            print(f\"Empty data file: {file_path}\")\n",
    "        except Exception as e:\n",
    "            print(f\"An error occurred while processing {file_path}: {e}\")\n",
    "    return all_results\n",
    "\n",
    "\n",
    "#Function to load race calendars from 2019-2024 which will be used further in the EDA Analysis\n",
    "\n",
    "def get_races_per_year():\n",
    "    races_per_year = {}\n",
    "    for year in range(2019, 2025):\n",
    "        key = f\"{year}_formula1_{year}season_calendar\"\n",
    "        if key in data:\n",
    "            races_per_year[year] = len(data[key])\n",
    "    \n",
    "    return pd.Series(races_per_year)\n",
    "\n",
    "def clean_position(pos):\n",
    "    try:\n",
    "        return int(pos)\n",
    "    except ValueError:\n",
    "        return np.nan"
   ]
  },
  {
   "cell_type": "code",
   "execution_count": null,
   "metadata": {},
   "outputs": [],
   "source": [
    "\"\"\"import pandas as pd\n",
    "import numpy as np\n",
    "import plotly.graph_objects as go\n",
    "\n",
    "def clean_position(pos):\n",
    "    try:\n",
    "        return int(pos)\n",
    "    except ValueError:\n",
    "        return np.nan\n",
    "\n",
    "def get_race_results():\n",
    "    all_results = pd.DataFrame()\n",
    "    for year in range(2019, 2025):\n",
    "        key = f\"{year}_formula1_{year}season_raceResults\"\n",
    "        if key in data:\n",
    "            year_results = data[key].copy()\n",
    "            year_results['Year'] = year\n",
    "            all_results = pd.concat([all_results, year_results], ignore_index=True)\n",
    "    return all_results\n",
    "\n",
    "def get_qualifying_results():\n",
    "    all_results = pd.DataFrame()\n",
    "    for year in range(2019, 2025):\n",
    "        file_path = f\"/Users/sanohijatav/Downloads/Business_Project/F1_Dataset/{year}/formula1_{year}season_qualifyingResults.csv\"\n",
    "        try:\n",
    "            year_results = pd.read_csv(file_path)\n",
    "            year_results['Year'] = year\n",
    "            all_results = pd.concat([all_results, year_results], ignore_index=True)\n",
    "        except FileNotFoundError:\n",
    "            print(f\"File not found: {file_path}\")\n",
    "        except pd.errors.EmptyDataError:\n",
    "            print(f\"Empty data file: {file_path}\")\n",
    "        except Exception as e:\n",
    "            print(f\"An error occurred while processing {file_path}: {e}\")\n",
    "    return all_results\"\"\"\n"
   ]
  },
  {
   "cell_type": "code",
   "execution_count": 3,
   "metadata": {},
   "outputs": [],
   "source": [
    "#Normalizing Team Names Mapping\n",
    "\n",
    "def get_team_mapping():\n",
    "    return {\n",
    "        'Red Bull': ['Red Bull', 'Red Bull Racing', 'Red Bull Racing Honda', 'Red Bull Racing RBPT', 'Red Bull Racing Honda RBPT'],\n",
    "        'Mercedes': ['Mercedes', 'Mercedes AMG', 'Mercedes-AMG Petronas'],\n",
    "        'Ferrari': ['Ferrari', 'Scuderia Ferrari'],\n",
    "        'McLaren': ['McLaren', 'McLaren F1 Team', 'McLaren Renault', 'McLaren Mercedes'],\n",
    "        'Aston Martin': ['Aston Martin', 'Racing Point', 'Force India', 'Racing Point BWT Mercedes', 'Aston Martin Mercedes', 'Aston Martin Aramco Mercedes'],\n",
    "        'Alpine': ['Alpine', 'Renault', 'Alpine Renault'],\n",
    "        'AlphaTauri': ['AlphaTauri', 'Toro Rosso', 'Scuderia Toro Rosso Honda', 'AlphaTauri Honda', 'AlphaTauri RBPT', 'AlphaTauri Honda RBPT', 'RB Honda RBPT'],\n",
    "        'Kick Sauber': ['Alfa Romeo', 'Sauber', 'Alfa Romeo Racing Ferrari', 'Alfa Romeo Ferrari', 'Kick Sauber Ferrari'],\n",
    "        'Williams': ['Williams', 'Williams Mercedes'],\n",
    "        'Haas': ['Haas', 'Haas F1 Team', 'Haas Ferrari'],\n",
    "    }\n",
    "\n",
    "def normalize_team_name(team, team_mapping):\n",
    "    team = team.strip()\n",
    "    for normalized_name, variations in team_mapping.items():\n",
    "        if any(variation.lower() == team.lower() for variation in variations):\n",
    "            return normalized_name\n",
    "    return team"
   ]
  },
  {
   "cell_type": "code",
   "execution_count": 4,
   "metadata": {},
   "outputs": [],
   "source": [
    "# Define the traditional colors for each team\n",
    "team_colors = {\n",
    "    'Mercedes': '#00D2BE',  \n",
    "    'Red Bull': '#1E41FF',  \n",
    "    'Ferrari': '#DC0000',   \n",
    "    'McLaren': '#FF8700',   \n",
    "    'Aston Martin': '#006F62',  \n",
    "    'Alpine': '#0090FF',    \n",
    "    'AlphaTauri': '#2B4562',  \n",
    "    'Alfa Romeo': '#900000',  \n",
    "    'Williams': '#005AFF',  \n",
    "    'Haas': '#F0D787'\n",
    "}"
   ]
  },
  {
   "cell_type": "code",
   "execution_count": null,
   "metadata": {},
   "outputs": [],
   "source": [
    "\"\"\"def explore_dataset(df, name):\n",
    "    print(f\"Dataset: {name}\")\n",
    "    print(f\"Shape: {df.shape}\")\n",
    "    print(\"\\nColumns:\")\n",
    "    print(df.dtypes)\n",
    "    print(\"\\nMissing Values:\")\n",
    "    print(df.isnull().sum())\n",
    "    print(\"\\nBasic Statistics:\")\n",
    "    print(df.describe())\n",
    "    print(\"\\n\" + \"=\"*50 + \"\\n\")\n",
    "\n",
    "# Apply to each dataset\n",
    "for name, df in data.items():\n",
    "    explore_dataset(df, name)\"\"\""
   ]
  },
  {
   "cell_type": "markdown",
   "metadata": {},
   "source": [
    "## BELOW SECTION WILL COVER EDA IN DETAIL"
   ]
  },
  {
   "cell_type": "markdown",
   "metadata": {},
   "source": [
    "### Number of Races per year"
   ]
  },
  {
   "cell_type": "code",
   "execution_count": 5,
   "metadata": {},
   "outputs": [
    {
     "name": "stdout",
     "output_type": "stream",
     "text": [
      "Number of races per year:\n",
      "2019    21\n",
      "2020    17\n",
      "2021    22\n",
      "2022    22\n",
      "2023    23\n",
      "2024    24\n",
      "dtype: int64\n"
     ]
    },
    {
     "data": {
      "application/vnd.plotly.v1+json": {
       "config": {
        "plotlyServerURL": "https://plot.ly"
       },
       "data": [
        {
         "type": "bar",
         "x": [
          2019,
          2020,
          2021,
          2022,
          2023,
          2024
         ],
         "y": [
          21,
          17,
          22,
          22,
          23,
          24
         ]
        }
       ],
       "layout": {
        "height": 500,
        "template": {
         "data": {
          "bar": [
           {
            "error_x": {
             "color": "#2a3f5f"
            },
            "error_y": {
             "color": "#2a3f5f"
            },
            "marker": {
             "line": {
              "color": "#E5ECF6",
              "width": 0.5
             },
             "pattern": {
              "fillmode": "overlay",
              "size": 10,
              "solidity": 0.2
             }
            },
            "type": "bar"
           }
          ],
          "barpolar": [
           {
            "marker": {
             "line": {
              "color": "#E5ECF6",
              "width": 0.5
             },
             "pattern": {
              "fillmode": "overlay",
              "size": 10,
              "solidity": 0.2
             }
            },
            "type": "barpolar"
           }
          ],
          "carpet": [
           {
            "aaxis": {
             "endlinecolor": "#2a3f5f",
             "gridcolor": "white",
             "linecolor": "white",
             "minorgridcolor": "white",
             "startlinecolor": "#2a3f5f"
            },
            "baxis": {
             "endlinecolor": "#2a3f5f",
             "gridcolor": "white",
             "linecolor": "white",
             "minorgridcolor": "white",
             "startlinecolor": "#2a3f5f"
            },
            "type": "carpet"
           }
          ],
          "choropleth": [
           {
            "colorbar": {
             "outlinewidth": 0,
             "ticks": ""
            },
            "type": "choropleth"
           }
          ],
          "contour": [
           {
            "colorbar": {
             "outlinewidth": 0,
             "ticks": ""
            },
            "colorscale": [
             [
              0,
              "#0d0887"
             ],
             [
              0.1111111111111111,
              "#46039f"
             ],
             [
              0.2222222222222222,
              "#7201a8"
             ],
             [
              0.3333333333333333,
              "#9c179e"
             ],
             [
              0.4444444444444444,
              "#bd3786"
             ],
             [
              0.5555555555555556,
              "#d8576b"
             ],
             [
              0.6666666666666666,
              "#ed7953"
             ],
             [
              0.7777777777777778,
              "#fb9f3a"
             ],
             [
              0.8888888888888888,
              "#fdca26"
             ],
             [
              1,
              "#f0f921"
             ]
            ],
            "type": "contour"
           }
          ],
          "contourcarpet": [
           {
            "colorbar": {
             "outlinewidth": 0,
             "ticks": ""
            },
            "type": "contourcarpet"
           }
          ],
          "heatmap": [
           {
            "colorbar": {
             "outlinewidth": 0,
             "ticks": ""
            },
            "colorscale": [
             [
              0,
              "#0d0887"
             ],
             [
              0.1111111111111111,
              "#46039f"
             ],
             [
              0.2222222222222222,
              "#7201a8"
             ],
             [
              0.3333333333333333,
              "#9c179e"
             ],
             [
              0.4444444444444444,
              "#bd3786"
             ],
             [
              0.5555555555555556,
              "#d8576b"
             ],
             [
              0.6666666666666666,
              "#ed7953"
             ],
             [
              0.7777777777777778,
              "#fb9f3a"
             ],
             [
              0.8888888888888888,
              "#fdca26"
             ],
             [
              1,
              "#f0f921"
             ]
            ],
            "type": "heatmap"
           }
          ],
          "heatmapgl": [
           {
            "colorbar": {
             "outlinewidth": 0,
             "ticks": ""
            },
            "colorscale": [
             [
              0,
              "#0d0887"
             ],
             [
              0.1111111111111111,
              "#46039f"
             ],
             [
              0.2222222222222222,
              "#7201a8"
             ],
             [
              0.3333333333333333,
              "#9c179e"
             ],
             [
              0.4444444444444444,
              "#bd3786"
             ],
             [
              0.5555555555555556,
              "#d8576b"
             ],
             [
              0.6666666666666666,
              "#ed7953"
             ],
             [
              0.7777777777777778,
              "#fb9f3a"
             ],
             [
              0.8888888888888888,
              "#fdca26"
             ],
             [
              1,
              "#f0f921"
             ]
            ],
            "type": "heatmapgl"
           }
          ],
          "histogram": [
           {
            "marker": {
             "pattern": {
              "fillmode": "overlay",
              "size": 10,
              "solidity": 0.2
             }
            },
            "type": "histogram"
           }
          ],
          "histogram2d": [
           {
            "colorbar": {
             "outlinewidth": 0,
             "ticks": ""
            },
            "colorscale": [
             [
              0,
              "#0d0887"
             ],
             [
              0.1111111111111111,
              "#46039f"
             ],
             [
              0.2222222222222222,
              "#7201a8"
             ],
             [
              0.3333333333333333,
              "#9c179e"
             ],
             [
              0.4444444444444444,
              "#bd3786"
             ],
             [
              0.5555555555555556,
              "#d8576b"
             ],
             [
              0.6666666666666666,
              "#ed7953"
             ],
             [
              0.7777777777777778,
              "#fb9f3a"
             ],
             [
              0.8888888888888888,
              "#fdca26"
             ],
             [
              1,
              "#f0f921"
             ]
            ],
            "type": "histogram2d"
           }
          ],
          "histogram2dcontour": [
           {
            "colorbar": {
             "outlinewidth": 0,
             "ticks": ""
            },
            "colorscale": [
             [
              0,
              "#0d0887"
             ],
             [
              0.1111111111111111,
              "#46039f"
             ],
             [
              0.2222222222222222,
              "#7201a8"
             ],
             [
              0.3333333333333333,
              "#9c179e"
             ],
             [
              0.4444444444444444,
              "#bd3786"
             ],
             [
              0.5555555555555556,
              "#d8576b"
             ],
             [
              0.6666666666666666,
              "#ed7953"
             ],
             [
              0.7777777777777778,
              "#fb9f3a"
             ],
             [
              0.8888888888888888,
              "#fdca26"
             ],
             [
              1,
              "#f0f921"
             ]
            ],
            "type": "histogram2dcontour"
           }
          ],
          "mesh3d": [
           {
            "colorbar": {
             "outlinewidth": 0,
             "ticks": ""
            },
            "type": "mesh3d"
           }
          ],
          "parcoords": [
           {
            "line": {
             "colorbar": {
              "outlinewidth": 0,
              "ticks": ""
             }
            },
            "type": "parcoords"
           }
          ],
          "pie": [
           {
            "automargin": true,
            "type": "pie"
           }
          ],
          "scatter": [
           {
            "fillpattern": {
             "fillmode": "overlay",
             "size": 10,
             "solidity": 0.2
            },
            "type": "scatter"
           }
          ],
          "scatter3d": [
           {
            "line": {
             "colorbar": {
              "outlinewidth": 0,
              "ticks": ""
             }
            },
            "marker": {
             "colorbar": {
              "outlinewidth": 0,
              "ticks": ""
             }
            },
            "type": "scatter3d"
           }
          ],
          "scattercarpet": [
           {
            "marker": {
             "colorbar": {
              "outlinewidth": 0,
              "ticks": ""
             }
            },
            "type": "scattercarpet"
           }
          ],
          "scattergeo": [
           {
            "marker": {
             "colorbar": {
              "outlinewidth": 0,
              "ticks": ""
             }
            },
            "type": "scattergeo"
           }
          ],
          "scattergl": [
           {
            "marker": {
             "colorbar": {
              "outlinewidth": 0,
              "ticks": ""
             }
            },
            "type": "scattergl"
           }
          ],
          "scattermapbox": [
           {
            "marker": {
             "colorbar": {
              "outlinewidth": 0,
              "ticks": ""
             }
            },
            "type": "scattermapbox"
           }
          ],
          "scatterpolar": [
           {
            "marker": {
             "colorbar": {
              "outlinewidth": 0,
              "ticks": ""
             }
            },
            "type": "scatterpolar"
           }
          ],
          "scatterpolargl": [
           {
            "marker": {
             "colorbar": {
              "outlinewidth": 0,
              "ticks": ""
             }
            },
            "type": "scatterpolargl"
           }
          ],
          "scatterternary": [
           {
            "marker": {
             "colorbar": {
              "outlinewidth": 0,
              "ticks": ""
             }
            },
            "type": "scatterternary"
           }
          ],
          "surface": [
           {
            "colorbar": {
             "outlinewidth": 0,
             "ticks": ""
            },
            "colorscale": [
             [
              0,
              "#0d0887"
             ],
             [
              0.1111111111111111,
              "#46039f"
             ],
             [
              0.2222222222222222,
              "#7201a8"
             ],
             [
              0.3333333333333333,
              "#9c179e"
             ],
             [
              0.4444444444444444,
              "#bd3786"
             ],
             [
              0.5555555555555556,
              "#d8576b"
             ],
             [
              0.6666666666666666,
              "#ed7953"
             ],
             [
              0.7777777777777778,
              "#fb9f3a"
             ],
             [
              0.8888888888888888,
              "#fdca26"
             ],
             [
              1,
              "#f0f921"
             ]
            ],
            "type": "surface"
           }
          ],
          "table": [
           {
            "cells": {
             "fill": {
              "color": "#EBF0F8"
             },
             "line": {
              "color": "white"
             }
            },
            "header": {
             "fill": {
              "color": "#C8D4E3"
             },
             "line": {
              "color": "white"
             }
            },
            "type": "table"
           }
          ]
         },
         "layout": {
          "annotationdefaults": {
           "arrowcolor": "#2a3f5f",
           "arrowhead": 0,
           "arrowwidth": 1
          },
          "autotypenumbers": "strict",
          "coloraxis": {
           "colorbar": {
            "outlinewidth": 0,
            "ticks": ""
           }
          },
          "colorscale": {
           "diverging": [
            [
             0,
             "#8e0152"
            ],
            [
             0.1,
             "#c51b7d"
            ],
            [
             0.2,
             "#de77ae"
            ],
            [
             0.3,
             "#f1b6da"
            ],
            [
             0.4,
             "#fde0ef"
            ],
            [
             0.5,
             "#f7f7f7"
            ],
            [
             0.6,
             "#e6f5d0"
            ],
            [
             0.7,
             "#b8e186"
            ],
            [
             0.8,
             "#7fbc41"
            ],
            [
             0.9,
             "#4d9221"
            ],
            [
             1,
             "#276419"
            ]
           ],
           "sequential": [
            [
             0,
             "#0d0887"
            ],
            [
             0.1111111111111111,
             "#46039f"
            ],
            [
             0.2222222222222222,
             "#7201a8"
            ],
            [
             0.3333333333333333,
             "#9c179e"
            ],
            [
             0.4444444444444444,
             "#bd3786"
            ],
            [
             0.5555555555555556,
             "#d8576b"
            ],
            [
             0.6666666666666666,
             "#ed7953"
            ],
            [
             0.7777777777777778,
             "#fb9f3a"
            ],
            [
             0.8888888888888888,
             "#fdca26"
            ],
            [
             1,
             "#f0f921"
            ]
           ],
           "sequentialminus": [
            [
             0,
             "#0d0887"
            ],
            [
             0.1111111111111111,
             "#46039f"
            ],
            [
             0.2222222222222222,
             "#7201a8"
            ],
            [
             0.3333333333333333,
             "#9c179e"
            ],
            [
             0.4444444444444444,
             "#bd3786"
            ],
            [
             0.5555555555555556,
             "#d8576b"
            ],
            [
             0.6666666666666666,
             "#ed7953"
            ],
            [
             0.7777777777777778,
             "#fb9f3a"
            ],
            [
             0.8888888888888888,
             "#fdca26"
            ],
            [
             1,
             "#f0f921"
            ]
           ]
          },
          "colorway": [
           "#636efa",
           "#EF553B",
           "#00cc96",
           "#ab63fa",
           "#FFA15A",
           "#19d3f3",
           "#FF6692",
           "#B6E880",
           "#FF97FF",
           "#FECB52"
          ],
          "font": {
           "color": "#2a3f5f"
          },
          "geo": {
           "bgcolor": "white",
           "lakecolor": "white",
           "landcolor": "#E5ECF6",
           "showlakes": true,
           "showland": true,
           "subunitcolor": "white"
          },
          "hoverlabel": {
           "align": "left"
          },
          "hovermode": "closest",
          "mapbox": {
           "style": "light"
          },
          "paper_bgcolor": "white",
          "plot_bgcolor": "#E5ECF6",
          "polar": {
           "angularaxis": {
            "gridcolor": "white",
            "linecolor": "white",
            "ticks": ""
           },
           "bgcolor": "#E5ECF6",
           "radialaxis": {
            "gridcolor": "white",
            "linecolor": "white",
            "ticks": ""
           }
          },
          "scene": {
           "xaxis": {
            "backgroundcolor": "#E5ECF6",
            "gridcolor": "white",
            "gridwidth": 2,
            "linecolor": "white",
            "showbackground": true,
            "ticks": "",
            "zerolinecolor": "white"
           },
           "yaxis": {
            "backgroundcolor": "#E5ECF6",
            "gridcolor": "white",
            "gridwidth": 2,
            "linecolor": "white",
            "showbackground": true,
            "ticks": "",
            "zerolinecolor": "white"
           },
           "zaxis": {
            "backgroundcolor": "#E5ECF6",
            "gridcolor": "white",
            "gridwidth": 2,
            "linecolor": "white",
            "showbackground": true,
            "ticks": "",
            "zerolinecolor": "white"
           }
          },
          "shapedefaults": {
           "line": {
            "color": "#2a3f5f"
           }
          },
          "ternary": {
           "aaxis": {
            "gridcolor": "white",
            "linecolor": "white",
            "ticks": ""
           },
           "baxis": {
            "gridcolor": "white",
            "linecolor": "white",
            "ticks": ""
           },
           "bgcolor": "#E5ECF6",
           "caxis": {
            "gridcolor": "white",
            "linecolor": "white",
            "ticks": ""
           }
          },
          "title": {
           "x": 0.05
          },
          "xaxis": {
           "automargin": true,
           "gridcolor": "white",
           "linecolor": "white",
           "ticks": "",
           "title": {
            "standoff": 15
           },
           "zerolinecolor": "white",
           "zerolinewidth": 2
          },
          "yaxis": {
           "automargin": true,
           "gridcolor": "white",
           "linecolor": "white",
           "ticks": "",
           "title": {
            "standoff": 15
           },
           "zerolinecolor": "white",
           "zerolinewidth": 2
          }
         }
        },
        "title": {
         "text": "Number of Races per Year",
         "x": 0.5
        },
        "xaxis": {
         "title": {
          "text": "Year"
         }
        },
        "yaxis": {
         "title": {
          "text": "Number of Races"
         }
        }
       }
      }
     },
     "metadata": {},
     "output_type": "display_data"
    }
   ],
   "source": [
    "races_count = get_races_per_year()\n",
    "print(\"Number of races per year:\")\n",
    "print(races_count)\n",
    "\n",
    "\n",
    "import plotly.graph_objects as go\n",
    "\n",
    "def plot_races_per_year():\n",
    "    races_count = get_races_per_year()\n",
    "    \n",
    "    fig = go.Figure(data=[\n",
    "        go.Bar(x=races_count.index, y=races_count.values)\n",
    "    ])\n",
    "    \n",
    "    fig.update_layout(\n",
    "        title='Number of Races per Year',\n",
    "        title_x=0.5,\n",
    "        xaxis_title='Year',\n",
    "        yaxis_title='Number of Races',\n",
    "        height=500\n",
    "    )\n",
    "    \n",
    "    fig.show()\n",
    "\n",
    "plot_races_per_year()"
   ]
  },
  {
   "cell_type": "markdown",
   "metadata": {},
   "source": [
    "## Points scored by Teams"
   ]
  },
  {
   "cell_type": "code",
   "execution_count": 6,
   "metadata": {},
   "outputs": [
    {
     "name": "stdout",
     "output_type": "stream",
     "text": [
      "\n",
      "Total points scored by each team per year:\n",
      "Team  AlphaTauri  Alpine  Aston Martin  Ferrari  Haas  Kick Sauber  McLaren  \\\n",
      "Year                                                                          \n",
      "2019        85.0    91.0          73.0    504.0  28.0         57.0    145.0   \n",
      "2020       107.0   181.0         210.0    131.0   3.0          8.0    202.0   \n",
      "2021       142.0   155.0          77.0    322.5   0.0         13.0    274.0   \n",
      "2022        35.0   170.0          55.0    519.0  33.0         53.0    150.0   \n",
      "2023        22.0   110.0         266.0    363.0   9.0         16.0    266.0   \n",
      "2024        28.0    11.0          73.0    319.0  25.0          0.0    345.0   \n",
      "\n",
      "Team  Mercedes  Red Bull  Williams  \n",
      "Year                                \n",
      "2019     739.0     417.0       1.0  \n",
      "2020     573.0     319.0       0.0  \n",
      "2021     604.5     578.5      23.0  \n",
      "2022     495.0     724.0       8.0  \n",
      "2023     374.0     790.0      26.0  \n",
      "2024     250.0     371.0       4.0  \n"
     ]
    }
   ],
   "source": [
    "def get_team_points_per_year():\n",
    "    all_results = get_race_results()\n",
    "    all_results['Points'] = pd.to_numeric(all_results['Points'], errors='coerce')\n",
    "    team_mapping = get_team_mapping()\n",
    "    \n",
    "    # Normalize team names\n",
    "    all_results['Team'] = all_results['Team'].apply(lambda team: normalize_team_name(team, team_mapping))\n",
    "    \n",
    "    # To check for entries that are not mapped correctly\n",
    "    unmatched = all_results[all_results['Team'].apply(lambda x: x not in team_mapping.keys())]\n",
    "    if not unmatched.empty:\n",
    "        print(\"\\nEntries with unmatched team names:\")\n",
    "        print(unmatched)\n",
    "        print()\n",
    "    \n",
    "    # Grouping by year and team and sum of points\n",
    "    team_points = all_results.groupby(['Year', 'Team'])['Points'].sum().unstack(level='Team')\n",
    "    return team_points\n",
    "\n",
    "team_points = get_team_points_per_year()\n",
    "print(\"\\nTotal points scored by each team per year:\")\n",
    "print(team_points)"
   ]
  },
  {
   "cell_type": "markdown",
   "metadata": {},
   "source": [
    "## Race Finishing Positions of Top Drivers"
   ]
  },
  {
   "cell_type": "code",
   "execution_count": 7,
   "metadata": {},
   "outputs": [
    {
     "data": {
      "application/vnd.plotly.v1+json": {
       "config": {
        "plotlyServerURL": "https://plot.ly"
       },
       "data": [
        {
         "line": {
          "color": "#636EFA"
         },
         "marker": {
          "size": 10
         },
         "mode": "lines+markers",
         "name": "Max Verstappen",
         "type": "scatter",
         "x": [
          2019,
          2020,
          2021,
          2022,
          2023,
          2024
         ],
         "y": [
          3,
          2,
          4,
          6,
          2,
          1,
          1,
          2,
          6,
          3,
          1,
          10,
          8,
          1,
          1,
          15,
          1,
          1,
          1,
          2,
          1,
          19,
          2,
          1,
          7,
          2,
          1,
          2,
          1
         ]
        },
        {
         "line": {
          "color": "#EF553B"
         },
         "marker": {
          "size": 10
         },
         "mode": "lines+markers",
         "name": "Lewis Hamilton",
         "type": "scatter",
         "x": [
          2019,
          2020,
          2021,
          2022,
          2023,
          2024
         ],
         "y": [
          11,
          4,
          2,
          1,
          1,
          1,
          1,
          11,
          1,
          2,
          1,
          1,
          8,
          8,
          1,
          1,
          1,
          1,
          1,
          5,
          4,
          3,
          3,
          1,
          1,
          1,
          1,
          1,
          1,
          3,
          3,
          3,
          3,
          4,
          1,
          2,
          1,
          2,
          2,
          2,
          2,
          2,
          3
         ]
        },
        {
         "line": {
          "color": "#00CC96"
         },
         "marker": {
          "size": 10
         },
         "mode": "lines+markers",
         "name": "Charles Leclerc",
         "type": "scatter",
         "x": [
          2019,
          2020,
          2021,
          2022,
          2023,
          2024
         ],
         "y": [
          2,
          2,
          6,
          3,
          4,
          1,
          1,
          1,
          1,
          3,
          1,
          1,
          1,
          1,
          1,
          1,
          1,
          1,
          1,
          6,
          3,
          2,
          2,
          3,
          1,
          1,
          1,
          3,
          5,
          3,
          3,
          1,
          4,
          3,
          3,
          4,
          1,
          1,
          3,
          1,
          1,
          1,
          1,
          4,
          4,
          1,
          1,
          1
         ]
        },
        {
         "line": {
          "color": "#AB63FA"
         },
         "marker": {
          "size": 10
         },
         "mode": "lines+markers",
         "name": "Sergio Perez",
         "type": "scatter",
         "x": [
          2019,
          2020,
          2021,
          2022,
          2023,
          2024
         ],
         "y": [
          2,
          4,
          2,
          1,
          2,
          2,
          3,
          1,
          1,
          1,
          1,
          1,
          2,
          2,
          3,
          2,
          2,
          1,
          1,
          4,
          5,
          3,
          1,
          1,
          1,
          1,
          1,
          1,
          1,
          2,
          7,
          2,
          4,
          2,
          1,
          1,
          1,
          2,
          4,
          3,
          5,
          1,
          2,
          1,
          1,
          1,
          3,
          1,
          1,
          1,
          3,
          2,
          1
         ]
        },
        {
         "line": {
          "color": "#FFA15A"
         },
         "marker": {
          "size": 10
         },
         "mode": "lines+markers",
         "name": "Carlos Sainz",
         "type": "scatter",
         "x": [
          2019,
          2020,
          2021,
          2022,
          2023,
          2024
         ],
         "y": [
          1,
          3,
          4,
          1,
          3,
          1,
          1,
          1,
          1,
          1,
          1,
          1,
          1,
          4,
          3,
          1,
          2,
          2,
          1,
          3,
          2,
          5,
          4,
          4,
          1,
          2,
          1,
          3,
          5,
          4,
          2,
          1,
          1,
          2,
          2,
          5,
          5,
          2,
          1,
          1,
          1,
          1,
          4,
          4,
          3
         ]
        },
        {
         "line": {
          "color": "#19D3F3"
         },
         "marker": {
          "size": 10
         },
         "mode": "lines+markers",
         "name": "Valtteri Bottas",
         "type": "scatter",
         "x": [
          2019,
          2020,
          2021,
          2022,
          2023,
          2024
         ],
         "y": [
          4,
          7,
          4,
          2,
          1,
          1,
          2,
          6,
          3,
          1,
          2,
          1,
          1,
          1,
          1,
          9,
          1,
          1,
          2,
          2,
          1,
          1,
          2,
          2,
          1,
          2,
          1,
          3,
          1,
          1,
          2,
          1,
          2,
          2,
          2,
          4,
          1,
          1,
          2,
          1,
          2,
          2,
          2,
          2,
          2,
          4,
          1,
          1,
          1
         ]
        },
        {
         "line": {
          "color": "#FF6692"
         },
         "marker": {
          "size": 10
         },
         "mode": "lines+markers",
         "name": "Lando Norris",
         "type": "scatter",
         "x": [
          2019,
          2020,
          2021,
          2022,
          2023,
          2024
         ],
         "y": [
          2,
          2,
          4,
          2,
          1,
          4,
          1,
          1,
          1,
          2,
          3,
          1,
          1,
          2,
          1,
          2,
          2,
          1,
          1,
          3,
          2,
          4,
          3,
          2,
          1,
          4,
          1,
          1,
          1,
          1,
          4,
          6,
          1,
          2,
          1,
          1,
          2,
          6,
          1,
          1,
          2,
          1,
          2,
          1,
          2,
          1,
          4,
          1,
          5,
          2,
          1,
          2,
          1,
          1,
          1
         ]
        },
        {
         "line": {
          "color": "#B6E880"
         },
         "marker": {
          "size": 10
         },
         "mode": "lines+markers",
         "name": "George Russell",
         "type": "scatter",
         "x": [
          2019,
          2020,
          2021,
          2022,
          2023,
          2024
         ],
         "y": [
          1,
          1,
          2,
          4,
          6,
          3,
          1,
          1,
          1,
          1,
          2,
          2,
          1,
          2,
          1,
          3,
          1,
          1,
          1,
          1,
          1,
          2,
          1,
          4,
          1,
          2,
          3,
          1,
          1,
          6,
          6,
          5,
          1,
          1,
          2,
          3,
          4,
          3,
          3,
          2,
          1,
          1,
          1,
          1,
          1,
          2,
          2,
          2,
          2,
          1
         ]
        },
        {
         "line": {
          "color": "#FF97FF"
         },
         "marker": {
          "size": 10
         },
         "mode": "lines+markers",
         "name": "Fernando Alonso",
         "type": "scatter",
         "x": [
          2019,
          2020,
          2021,
          2022,
          2023,
          2024
         ],
         "y": [
          1,
          1,
          3,
          1,
          4,
          3,
          2,
          1,
          2,
          1,
          1,
          3,
          2,
          4,
          1,
          3,
          1,
          1,
          1,
          1,
          3,
          5,
          1,
          2,
          1,
          3,
          1,
          3,
          1,
          1,
          2,
          1,
          3,
          2,
          2,
          1,
          1,
          1
         ]
        },
        {
         "line": {
          "color": "#FECB52"
         },
         "marker": {
          "size": 10
         },
         "mode": "lines+markers",
         "name": "Pierre Gasly",
         "type": "scatter",
         "x": [
          2019,
          2020,
          2021,
          2022,
          2023,
          2024
         ],
         "y": [
          1,
          1,
          1,
          3,
          2,
          3,
          2,
          1,
          2,
          2,
          1,
          1,
          1,
          1,
          2,
          2,
          2,
          2,
          2,
          1,
          1,
          1,
          2,
          2,
          4,
          3,
          1,
          2,
          2,
          1,
          1,
          1,
          2,
          2,
          1,
          3,
          3,
          1,
          4,
          1,
          1,
          1,
          2,
          2,
          1,
          2,
          3,
          3,
          2,
          2,
          1,
          1,
          1,
          2,
          2,
          1,
          3,
          2,
          1
         ]
        }
       ],
       "layout": {
        "height": 600,
        "hovermode": "x unified",
        "legend": {
         "x": 1.05,
         "xanchor": "left",
         "y": 1,
         "yanchor": "top"
        },
        "template": {
         "data": {
          "bar": [
           {
            "error_x": {
             "color": "#2a3f5f"
            },
            "error_y": {
             "color": "#2a3f5f"
            },
            "marker": {
             "line": {
              "color": "#E5ECF6",
              "width": 0.5
             },
             "pattern": {
              "fillmode": "overlay",
              "size": 10,
              "solidity": 0.2
             }
            },
            "type": "bar"
           }
          ],
          "barpolar": [
           {
            "marker": {
             "line": {
              "color": "#E5ECF6",
              "width": 0.5
             },
             "pattern": {
              "fillmode": "overlay",
              "size": 10,
              "solidity": 0.2
             }
            },
            "type": "barpolar"
           }
          ],
          "carpet": [
           {
            "aaxis": {
             "endlinecolor": "#2a3f5f",
             "gridcolor": "white",
             "linecolor": "white",
             "minorgridcolor": "white",
             "startlinecolor": "#2a3f5f"
            },
            "baxis": {
             "endlinecolor": "#2a3f5f",
             "gridcolor": "white",
             "linecolor": "white",
             "minorgridcolor": "white",
             "startlinecolor": "#2a3f5f"
            },
            "type": "carpet"
           }
          ],
          "choropleth": [
           {
            "colorbar": {
             "outlinewidth": 0,
             "ticks": ""
            },
            "type": "choropleth"
           }
          ],
          "contour": [
           {
            "colorbar": {
             "outlinewidth": 0,
             "ticks": ""
            },
            "colorscale": [
             [
              0,
              "#0d0887"
             ],
             [
              0.1111111111111111,
              "#46039f"
             ],
             [
              0.2222222222222222,
              "#7201a8"
             ],
             [
              0.3333333333333333,
              "#9c179e"
             ],
             [
              0.4444444444444444,
              "#bd3786"
             ],
             [
              0.5555555555555556,
              "#d8576b"
             ],
             [
              0.6666666666666666,
              "#ed7953"
             ],
             [
              0.7777777777777778,
              "#fb9f3a"
             ],
             [
              0.8888888888888888,
              "#fdca26"
             ],
             [
              1,
              "#f0f921"
             ]
            ],
            "type": "contour"
           }
          ],
          "contourcarpet": [
           {
            "colorbar": {
             "outlinewidth": 0,
             "ticks": ""
            },
            "type": "contourcarpet"
           }
          ],
          "heatmap": [
           {
            "colorbar": {
             "outlinewidth": 0,
             "ticks": ""
            },
            "colorscale": [
             [
              0,
              "#0d0887"
             ],
             [
              0.1111111111111111,
              "#46039f"
             ],
             [
              0.2222222222222222,
              "#7201a8"
             ],
             [
              0.3333333333333333,
              "#9c179e"
             ],
             [
              0.4444444444444444,
              "#bd3786"
             ],
             [
              0.5555555555555556,
              "#d8576b"
             ],
             [
              0.6666666666666666,
              "#ed7953"
             ],
             [
              0.7777777777777778,
              "#fb9f3a"
             ],
             [
              0.8888888888888888,
              "#fdca26"
             ],
             [
              1,
              "#f0f921"
             ]
            ],
            "type": "heatmap"
           }
          ],
          "heatmapgl": [
           {
            "colorbar": {
             "outlinewidth": 0,
             "ticks": ""
            },
            "colorscale": [
             [
              0,
              "#0d0887"
             ],
             [
              0.1111111111111111,
              "#46039f"
             ],
             [
              0.2222222222222222,
              "#7201a8"
             ],
             [
              0.3333333333333333,
              "#9c179e"
             ],
             [
              0.4444444444444444,
              "#bd3786"
             ],
             [
              0.5555555555555556,
              "#d8576b"
             ],
             [
              0.6666666666666666,
              "#ed7953"
             ],
             [
              0.7777777777777778,
              "#fb9f3a"
             ],
             [
              0.8888888888888888,
              "#fdca26"
             ],
             [
              1,
              "#f0f921"
             ]
            ],
            "type": "heatmapgl"
           }
          ],
          "histogram": [
           {
            "marker": {
             "pattern": {
              "fillmode": "overlay",
              "size": 10,
              "solidity": 0.2
             }
            },
            "type": "histogram"
           }
          ],
          "histogram2d": [
           {
            "colorbar": {
             "outlinewidth": 0,
             "ticks": ""
            },
            "colorscale": [
             [
              0,
              "#0d0887"
             ],
             [
              0.1111111111111111,
              "#46039f"
             ],
             [
              0.2222222222222222,
              "#7201a8"
             ],
             [
              0.3333333333333333,
              "#9c179e"
             ],
             [
              0.4444444444444444,
              "#bd3786"
             ],
             [
              0.5555555555555556,
              "#d8576b"
             ],
             [
              0.6666666666666666,
              "#ed7953"
             ],
             [
              0.7777777777777778,
              "#fb9f3a"
             ],
             [
              0.8888888888888888,
              "#fdca26"
             ],
             [
              1,
              "#f0f921"
             ]
            ],
            "type": "histogram2d"
           }
          ],
          "histogram2dcontour": [
           {
            "colorbar": {
             "outlinewidth": 0,
             "ticks": ""
            },
            "colorscale": [
             [
              0,
              "#0d0887"
             ],
             [
              0.1111111111111111,
              "#46039f"
             ],
             [
              0.2222222222222222,
              "#7201a8"
             ],
             [
              0.3333333333333333,
              "#9c179e"
             ],
             [
              0.4444444444444444,
              "#bd3786"
             ],
             [
              0.5555555555555556,
              "#d8576b"
             ],
             [
              0.6666666666666666,
              "#ed7953"
             ],
             [
              0.7777777777777778,
              "#fb9f3a"
             ],
             [
              0.8888888888888888,
              "#fdca26"
             ],
             [
              1,
              "#f0f921"
             ]
            ],
            "type": "histogram2dcontour"
           }
          ],
          "mesh3d": [
           {
            "colorbar": {
             "outlinewidth": 0,
             "ticks": ""
            },
            "type": "mesh3d"
           }
          ],
          "parcoords": [
           {
            "line": {
             "colorbar": {
              "outlinewidth": 0,
              "ticks": ""
             }
            },
            "type": "parcoords"
           }
          ],
          "pie": [
           {
            "automargin": true,
            "type": "pie"
           }
          ],
          "scatter": [
           {
            "fillpattern": {
             "fillmode": "overlay",
             "size": 10,
             "solidity": 0.2
            },
            "type": "scatter"
           }
          ],
          "scatter3d": [
           {
            "line": {
             "colorbar": {
              "outlinewidth": 0,
              "ticks": ""
             }
            },
            "marker": {
             "colorbar": {
              "outlinewidth": 0,
              "ticks": ""
             }
            },
            "type": "scatter3d"
           }
          ],
          "scattercarpet": [
           {
            "marker": {
             "colorbar": {
              "outlinewidth": 0,
              "ticks": ""
             }
            },
            "type": "scattercarpet"
           }
          ],
          "scattergeo": [
           {
            "marker": {
             "colorbar": {
              "outlinewidth": 0,
              "ticks": ""
             }
            },
            "type": "scattergeo"
           }
          ],
          "scattergl": [
           {
            "marker": {
             "colorbar": {
              "outlinewidth": 0,
              "ticks": ""
             }
            },
            "type": "scattergl"
           }
          ],
          "scattermapbox": [
           {
            "marker": {
             "colorbar": {
              "outlinewidth": 0,
              "ticks": ""
             }
            },
            "type": "scattermapbox"
           }
          ],
          "scatterpolar": [
           {
            "marker": {
             "colorbar": {
              "outlinewidth": 0,
              "ticks": ""
             }
            },
            "type": "scatterpolar"
           }
          ],
          "scatterpolargl": [
           {
            "marker": {
             "colorbar": {
              "outlinewidth": 0,
              "ticks": ""
             }
            },
            "type": "scatterpolargl"
           }
          ],
          "scatterternary": [
           {
            "marker": {
             "colorbar": {
              "outlinewidth": 0,
              "ticks": ""
             }
            },
            "type": "scatterternary"
           }
          ],
          "surface": [
           {
            "colorbar": {
             "outlinewidth": 0,
             "ticks": ""
            },
            "colorscale": [
             [
              0,
              "#0d0887"
             ],
             [
              0.1111111111111111,
              "#46039f"
             ],
             [
              0.2222222222222222,
              "#7201a8"
             ],
             [
              0.3333333333333333,
              "#9c179e"
             ],
             [
              0.4444444444444444,
              "#bd3786"
             ],
             [
              0.5555555555555556,
              "#d8576b"
             ],
             [
              0.6666666666666666,
              "#ed7953"
             ],
             [
              0.7777777777777778,
              "#fb9f3a"
             ],
             [
              0.8888888888888888,
              "#fdca26"
             ],
             [
              1,
              "#f0f921"
             ]
            ],
            "type": "surface"
           }
          ],
          "table": [
           {
            "cells": {
             "fill": {
              "color": "#EBF0F8"
             },
             "line": {
              "color": "white"
             }
            },
            "header": {
             "fill": {
              "color": "#C8D4E3"
             },
             "line": {
              "color": "white"
             }
            },
            "type": "table"
           }
          ]
         },
         "layout": {
          "annotationdefaults": {
           "arrowcolor": "#2a3f5f",
           "arrowhead": 0,
           "arrowwidth": 1
          },
          "autotypenumbers": "strict",
          "coloraxis": {
           "colorbar": {
            "outlinewidth": 0,
            "ticks": ""
           }
          },
          "colorscale": {
           "diverging": [
            [
             0,
             "#8e0152"
            ],
            [
             0.1,
             "#c51b7d"
            ],
            [
             0.2,
             "#de77ae"
            ],
            [
             0.3,
             "#f1b6da"
            ],
            [
             0.4,
             "#fde0ef"
            ],
            [
             0.5,
             "#f7f7f7"
            ],
            [
             0.6,
             "#e6f5d0"
            ],
            [
             0.7,
             "#b8e186"
            ],
            [
             0.8,
             "#7fbc41"
            ],
            [
             0.9,
             "#4d9221"
            ],
            [
             1,
             "#276419"
            ]
           ],
           "sequential": [
            [
             0,
             "#0d0887"
            ],
            [
             0.1111111111111111,
             "#46039f"
            ],
            [
             0.2222222222222222,
             "#7201a8"
            ],
            [
             0.3333333333333333,
             "#9c179e"
            ],
            [
             0.4444444444444444,
             "#bd3786"
            ],
            [
             0.5555555555555556,
             "#d8576b"
            ],
            [
             0.6666666666666666,
             "#ed7953"
            ],
            [
             0.7777777777777778,
             "#fb9f3a"
            ],
            [
             0.8888888888888888,
             "#fdca26"
            ],
            [
             1,
             "#f0f921"
            ]
           ],
           "sequentialminus": [
            [
             0,
             "#0d0887"
            ],
            [
             0.1111111111111111,
             "#46039f"
            ],
            [
             0.2222222222222222,
             "#7201a8"
            ],
            [
             0.3333333333333333,
             "#9c179e"
            ],
            [
             0.4444444444444444,
             "#bd3786"
            ],
            [
             0.5555555555555556,
             "#d8576b"
            ],
            [
             0.6666666666666666,
             "#ed7953"
            ],
            [
             0.7777777777777778,
             "#fb9f3a"
            ],
            [
             0.8888888888888888,
             "#fdca26"
            ],
            [
             1,
             "#f0f921"
            ]
           ]
          },
          "colorway": [
           "#636efa",
           "#EF553B",
           "#00cc96",
           "#ab63fa",
           "#FFA15A",
           "#19d3f3",
           "#FF6692",
           "#B6E880",
           "#FF97FF",
           "#FECB52"
          ],
          "font": {
           "color": "#2a3f5f"
          },
          "geo": {
           "bgcolor": "white",
           "lakecolor": "white",
           "landcolor": "#E5ECF6",
           "showlakes": true,
           "showland": true,
           "subunitcolor": "white"
          },
          "hoverlabel": {
           "align": "left"
          },
          "hovermode": "closest",
          "mapbox": {
           "style": "light"
          },
          "paper_bgcolor": "white",
          "plot_bgcolor": "#E5ECF6",
          "polar": {
           "angularaxis": {
            "gridcolor": "white",
            "linecolor": "white",
            "ticks": ""
           },
           "bgcolor": "#E5ECF6",
           "radialaxis": {
            "gridcolor": "white",
            "linecolor": "white",
            "ticks": ""
           }
          },
          "scene": {
           "xaxis": {
            "backgroundcolor": "#E5ECF6",
            "gridcolor": "white",
            "gridwidth": 2,
            "linecolor": "white",
            "showbackground": true,
            "ticks": "",
            "zerolinecolor": "white"
           },
           "yaxis": {
            "backgroundcolor": "#E5ECF6",
            "gridcolor": "white",
            "gridwidth": 2,
            "linecolor": "white",
            "showbackground": true,
            "ticks": "",
            "zerolinecolor": "white"
           },
           "zaxis": {
            "backgroundcolor": "#E5ECF6",
            "gridcolor": "white",
            "gridwidth": 2,
            "linecolor": "white",
            "showbackground": true,
            "ticks": "",
            "zerolinecolor": "white"
           }
          },
          "shapedefaults": {
           "line": {
            "color": "#2a3f5f"
           }
          },
          "ternary": {
           "aaxis": {
            "gridcolor": "white",
            "linecolor": "white",
            "ticks": ""
           },
           "baxis": {
            "gridcolor": "white",
            "linecolor": "white",
            "ticks": ""
           },
           "bgcolor": "#E5ECF6",
           "caxis": {
            "gridcolor": "white",
            "linecolor": "white",
            "ticks": ""
           }
          },
          "title": {
           "x": 0.05
          },
          "xaxis": {
           "automargin": true,
           "gridcolor": "white",
           "linecolor": "white",
           "ticks": "",
           "title": {
            "standoff": 15
           },
           "zerolinecolor": "white",
           "zerolinewidth": 2
          },
          "yaxis": {
           "automargin": true,
           "gridcolor": "white",
           "linecolor": "white",
           "ticks": "",
           "title": {
            "standoff": 15
           },
           "zerolinecolor": "white",
           "zerolinewidth": 2
          }
         }
        },
        "title": {
         "text": "Finishing Positions of Top Drivers",
         "x": 0.5
        },
        "width": 1300,
        "xaxis": {
         "title": {
          "text": "Year"
         }
        },
        "yaxis": {
         "dtick": 2,
         "range": [
          -0.4,
          12
         ],
         "tickmode": "linear",
         "title": {
          "text": "Position"
         }
        }
       }
      }
     },
     "metadata": {},
     "output_type": "display_data"
    }
   ],
   "source": [
    "import pandas as pd\n",
    "import numpy as np\n",
    "import plotly.graph_objects as go\n",
    "import plotly.express as px\n",
    "\n",
    "def clean_position(pos):\n",
    "    try:\n",
    "        return int(pos)\n",
    "    except ValueError:\n",
    "        return np.nan\n",
    "\n",
    "def identify_top_drivers(n=10):\n",
    "    results = get_race_results()\n",
    "    results['Points'] = pd.to_numeric(results['Points'], errors='coerce')\n",
    "    driver_points = results.groupby('Driver')['Points'].sum().sort_values(ascending=False)\n",
    "    return driver_points.head(n).index.tolist()\n",
    "\n",
    "# Identify top drivers\n",
    "top_drivers = identify_top_drivers()\n",
    "#print(\"Top drivers:\", top_drivers)\n",
    "\n",
    "# Compare race finishes for top drivers across seasons\n",
    "position_counts = {driver: [] for driver in top_drivers}\n",
    "\n",
    "results = get_race_results()\n",
    "results['Position'] = results['Position'].apply(clean_position)\n",
    "\n",
    "max_value = results['Position'].max()\n",
    "\n",
    "for year in range(2019, 2025):\n",
    "    year_results = results[results['Year'] == year]\n",
    "    for driver in top_drivers:\n",
    "        positions = year_results[year_results['Driver'] == driver]['Position'].value_counts().sort_index()\n",
    "        position_counts[driver].append(positions)\n",
    "\n",
    "fig = go.Figure()\n",
    "\n",
    "# Create a color map with unique colors for each driver\n",
    "color_map = px.colors.qualitative.Plotly\n",
    "unique_colors = color_map[:len(top_drivers)]\n",
    "\n",
    "for idx, (driver, yearly_positions) in enumerate(position_counts.items()):\n",
    "   \n",
    "    all_positions = [pos for year_positions in yearly_positions for pos in year_positions]\n",
    "    fig.add_trace(go.Scatter(\n",
    "        x=list(range(2019, 2025)),\n",
    "        y=all_positions,\n",
    "        mode='lines+markers',\n",
    "        name=driver,\n",
    "        line=dict(color=unique_colors[idx]),\n",
    "        marker=dict(size=10)\n",
    "    ))\n",
    "\n",
    "fig.update_layout(\n",
    "    title='Finishing Positions of Top Drivers',\n",
    "    title_x=0.5,\n",
    "    xaxis_title='Year',\n",
    "    yaxis_title='Position',\n",
    "    legend=dict(\n",
    "        x=1.05,\n",
    "        y=1,\n",
    "        xanchor='left',\n",
    "        yanchor='top'\n",
    "    ),\n",
    "    width=1300,\n",
    "    height=600,\n",
    "    hovermode='x unified'\n",
    ")\n",
    "\n",
    "fig.update_yaxes(\n",
    "    range=[-max_value * 0.02, max_value * 0.6],\n",
    "    tickmode='linear',\n",
    "    dtick=2\n",
    ")\n",
    "\n",
    "fig.show()"
   ]
  },
  {
   "cell_type": "markdown",
   "metadata": {},
   "source": [
    "## Analysis of Qualifying v/s Race Position"
   ]
  },
  {
   "cell_type": "code",
   "execution_count": 8,
   "metadata": {},
   "outputs": [
    {
     "data": {
      "image/png": "[encoded data removed]",
      "text/plain": [
       "<Figure size 1000x800 with 1 Axes>"
      ]
     },
     "metadata": {},
     "output_type": "display_data"
    }
   ],
   "source": [
    "import matplotlib.pyplot as plt\n",
    "import seaborn as sns\n",
    "from scipy import stats\n",
    "\n",
    "def plot_correlation_scatter():\n",
    "    # data retrieval functions\n",
    "    race_results = get_race_results()\n",
    "    qualifying_results = get_qualifying_results()\n",
    "    \n",
    "    # Merge data\n",
    "    combined_results = pd.merge(\n",
    "        qualifying_results[['Driver', 'Team', 'Year', 'Position']],\n",
    "        race_results[['Driver', 'Team', 'Year', 'Position']],\n",
    "        on=['Driver', 'Team', 'Year'],\n",
    "        suffixes=('_Qualifying', '_Race')\n",
    "    )\n",
    "    # Convert positions to numeric, replacing non-numeric values with NaN\n",
    "    combined_results['Position_Qualifying'] = pd.to_numeric(combined_results['Position_Qualifying'], errors='coerce')\n",
    "    combined_results['Position_Race'] = pd.to_numeric(combined_results['Position_Race'], errors='coerce')\n",
    "\n",
    "    # Drop rows with NaN values\n",
    "    combined_results = combined_results.dropna(subset=['Position_Qualifying', 'Position_Race'])\n",
    "    \n",
    "    # Calculate correlation\n",
    "    correlation, _ = stats.pearsonr(combined_results['Position_Qualifying'], combined_results['Position_Race'])\n",
    "    \n",
    "    # scatter plot\n",
    "    plt.figure(figsize=(10, 8))\n",
    "    sns.scatterplot(x='Position_Qualifying', y='Position_Race', data=combined_results, alpha=0.6, s=50)\n",
    "    \n",
    "    plt.title(f'Correlation between Qualifying and Race Positions (r = {correlation:.2f})')\n",
    "    plt.xlabel('Qualifying Position')\n",
    "    plt.ylabel('Race Position')\n",
    "    x = combined_results['Position_Qualifying']\n",
    "    y = combined_results['Position_Race']\n",
    "    m, b = np.polyfit(x, y, 1)\n",
    "    plt.plot(x, m*x + b, color='red')\n",
    "    max_pos = max(combined_results['Position_Qualifying'].max(), combined_results['Position_Race'].max())\n",
    "    plt.xticks(range(1, int(max_pos) + 1))\n",
    "    plt.yticks(range(1, int(max_pos) + 1))\n",
    "    plt.gca().invert_xaxis()\n",
    "    plt.gca().invert_yaxis()\n",
    "    plt.show()\n",
    "\n",
    "plot_correlation_scatter()"
   ]
  },
  {
   "cell_type": "markdown",
   "metadata": {},
   "source": [
    "## Wins from POLE Position"
   ]
  },
  {
   "cell_type": "code",
   "execution_count": 9,
   "metadata": {},
   "outputs": [
    {
     "name": "stdout",
     "output_type": "stream",
     "text": [
      "\n",
      "Total wins from pole position (2019-2024): 50\n",
      "\n",
      "Driver wins from pole:\n",
      "         Driver  Wins_From_Pole\n",
      " Max Verstappen              33\n",
      " Lewis Hamilton               7\n",
      "Charles Leclerc               5\n",
      "Valtteri Bottas               2\n",
      "   Carlos Sainz               2\n",
      "   Sergio Perez               1\n"
     ]
    }
   ],
   "source": [
    "def analyze_wins_from_pole():\n",
    "    qualifying_results = get_qualifying_results()\n",
    "    race_results = get_race_results()\n",
    "    \n",
    "    # Load and combine calendar data from multiple files\n",
    "    calendar = pd.DataFrame()\n",
    "    for year in range(2019, 2025):\n",
    "        file_name = f'/Users/sanohijatav/Downloads/Business_Project/F1_Dataset/{year}/formula1_{year}season_calendar.csv'\n",
    "        if os.path.exists(file_name):\n",
    "            year_data = pd.read_csv(file_name)\n",
    "            year_data['Year'] = year\n",
    "            calendar = pd.concat([calendar, year_data], ignore_index=True)\n",
    "    \n",
    "    if qualifying_results.empty or race_results.empty or calendar.empty:\n",
    "        print(\"One or more required datasets are empty.\")\n",
    "        return\n",
    "    \n",
    "    # Rename columns in calendar DataFrame\n",
    "    calendar = calendar.rename(columns={\n",
    "        'GP Name': 'Race',\n",
    "        'Circuit Name': 'Track'\n",
    "    })\n",
    "    \n",
    "    # checking if the columns exist\n",
    "    qual_columns = {'Track', 'Position', 'Driver'}\n",
    "    race_columns = {'Country', 'Position', 'Driver'}\n",
    "    calendar_columns = {'Race', 'Track'}\n",
    "    if not qual_columns.issubset(qualifying_results.columns) or \\\n",
    "       not race_columns.issubset(race_results.columns) or \\\n",
    "       not calendar_columns.issubset(calendar.columns):\n",
    "        print(\"One or more datasets are missing required columns.\")\n",
    "        return\n",
    "\n",
    "    # Rename 'Country' to 'Track' in race_results for consistency\n",
    "    race_results = race_results.rename(columns={'Country': 'Track'})\n",
    "\n",
    "    # Merge calendar data with qualifying and race results\n",
    "    qualifying_results = pd.merge(qualifying_results, calendar[['Race', 'Track', 'Year']], on=['Track', 'Year'], how='left')\n",
    "    race_results = pd.merge(race_results, calendar[['Race', 'Track', 'Year']], on=['Track', 'Year'], how='left')\n",
    "\n",
    "    # Identify pole position drivers and race winners\n",
    "    pole_positions = qualifying_results[qualifying_results['Position'] == '1']\n",
    "    race_winners = race_results[race_results['Position'] == '1']\n",
    "\n",
    "    # Calculate wins from pole\n",
    "    wins_from_pole = 0\n",
    "    driver_wins = {}\n",
    "\n",
    "    for _, pole in pole_positions.iterrows():\n",
    "        winner = race_winners[(race_winners['Track'] == pole['Track']) & \n",
    "                              (race_winners['Year'] == pole['Year'])]\n",
    "        if not winner.empty:\n",
    "            winner = winner.iloc[0]\n",
    "            if pole['Driver'] == winner['Driver']:\n",
    "                wins_from_pole += 1\n",
    "                driver_wins[pole['Driver']] = driver_wins.get(pole['Driver'], 0) + 1\n",
    "        else:\n",
    "            print(f\"No race winner data found for {pole['Race']} {pole['Year']}\")\n",
    "\n",
    "    # Create DataFrame for driver wins\n",
    "    driver_wins_df = pd.DataFrame(list(driver_wins.items()), columns=['Driver', 'Wins_From_Pole'])\n",
    "    driver_wins_df = driver_wins_df.sort_values('Wins_From_Pole', ascending=False)\n",
    "    \n",
    "    return wins_from_pole, driver_wins_df\n",
    "\n",
    "# Call the function\n",
    "total_wins, driver_wins_df = analyze_wins_from_pole()\n",
    "\n",
    "# Display the results\n",
    "print(f\"\\nTotal wins from pole position (2019-2024): {total_wins}\")\n",
    "print(\"\\nDriver wins from pole:\")\n",
    "print(driver_wins_df.to_string(index=False))"
   ]
  },
  {
   "cell_type": "code",
   "execution_count": 10,
   "metadata": {},
   "outputs": [
    {
     "data": {
      "application/vnd.plotly.v1+json": {
       "config": {
        "plotlyServerURL": "https://plot.ly"
       },
       "data": [
        {
         "alignmentgroup": "True",
         "hovertemplate": "Driver=%{x}<br>Wins_From_Pole=%{y}<extra></extra>",
         "legendgroup": "",
         "marker": {
          "color": "#32CD32",
          "pattern": {
           "shape": ""
          }
         },
         "name": "",
         "offsetgroup": "",
         "orientation": "v",
         "showlegend": false,
         "textposition": "auto",
         "type": "bar",
         "x": [
          "Max Verstappen",
          "Lewis Hamilton",
          "Charles Leclerc",
          "Valtteri Bottas",
          "Carlos Sainz",
          "Sergio Perez"
         ],
         "xaxis": "x",
         "y": [
          33,
          7,
          5,
          2,
          2,
          1
         ],
         "yaxis": "y"
        }
       ],
       "layout": {
        "barmode": "relative",
        "height": 500,
        "legend": {
         "tracegroupgap": 0
        },
        "template": {
         "data": {
          "bar": [
           {
            "error_x": {
             "color": "#2a3f5f"
            },
            "error_y": {
             "color": "#2a3f5f"
            },
            "marker": {
             "line": {
              "color": "#E5ECF6",
              "width": 0.5
             },
             "pattern": {
              "fillmode": "overlay",
              "size": 10,
              "solidity": 0.2
             }
            },
            "type": "bar"
           }
          ],
          "barpolar": [
           {
            "marker": {
             "line": {
              "color": "#E5ECF6",
              "width": 0.5
             },
             "pattern": {
              "fillmode": "overlay",
              "size": 10,
              "solidity": 0.2
             }
            },
            "type": "barpolar"
           }
          ],
          "carpet": [
           {
            "aaxis": {
             "endlinecolor": "#2a3f5f",
             "gridcolor": "white",
             "linecolor": "white",
             "minorgridcolor": "white",
             "startlinecolor": "#2a3f5f"
            },
            "baxis": {
             "endlinecolor": "#2a3f5f",
             "gridcolor": "white",
             "linecolor": "white",
             "minorgridcolor": "white",
             "startlinecolor": "#2a3f5f"
            },
            "type": "carpet"
           }
          ],
          "choropleth": [
           {
            "colorbar": {
             "outlinewidth": 0,
             "ticks": ""
            },
            "type": "choropleth"
           }
          ],
          "contour": [
           {
            "colorbar": {
             "outlinewidth": 0,
             "ticks": ""
            },
            "colorscale": [
             [
              0,
              "#0d0887"
             ],
             [
              0.1111111111111111,
              "#46039f"
             ],
             [
              0.2222222222222222,
              "#7201a8"
             ],
             [
              0.3333333333333333,
              "#9c179e"
             ],
             [
              0.4444444444444444,
              "#bd3786"
             ],
             [
              0.5555555555555556,
              "#d8576b"
             ],
             [
              0.6666666666666666,
              "#ed7953"
             ],
             [
              0.7777777777777778,
              "#fb9f3a"
             ],
             [
              0.8888888888888888,
              "#fdca26"
             ],
             [
              1,
              "#f0f921"
             ]
            ],
            "type": "contour"
           }
          ],
          "contourcarpet": [
           {
            "colorbar": {
             "outlinewidth": 0,
             "ticks": ""
            },
            "type": "contourcarpet"
           }
          ],
          "heatmap": [
           {
            "colorbar": {
             "outlinewidth": 0,
             "ticks": ""
            },
            "colorscale": [
             [
              0,
              "#0d0887"
             ],
             [
              0.1111111111111111,
              "#46039f"
             ],
             [
              0.2222222222222222,
              "#7201a8"
             ],
             [
              0.3333333333333333,
              "#9c179e"
             ],
             [
              0.4444444444444444,
              "#bd3786"
             ],
             [
              0.5555555555555556,
              "#d8576b"
             ],
             [
              0.6666666666666666,
              "#ed7953"
             ],
             [
              0.7777777777777778,
              "#fb9f3a"
             ],
             [
              0.8888888888888888,
              "#fdca26"
             ],
             [
              1,
              "#f0f921"
             ]
            ],
            "type": "heatmap"
           }
          ],
          "heatmapgl": [
           {
            "colorbar": {
             "outlinewidth": 0,
             "ticks": ""
            },
            "colorscale": [
             [
              0,
              "#0d0887"
             ],
             [
              0.1111111111111111,
              "#46039f"
             ],
             [
              0.2222222222222222,
              "#7201a8"
             ],
             [
              0.3333333333333333,
              "#9c179e"
             ],
             [
              0.4444444444444444,
              "#bd3786"
             ],
             [
              0.5555555555555556,
              "#d8576b"
             ],
             [
              0.6666666666666666,
              "#ed7953"
             ],
             [
              0.7777777777777778,
              "#fb9f3a"
             ],
             [
              0.8888888888888888,
              "#fdca26"
             ],
             [
              1,
              "#f0f921"
             ]
            ],
            "type": "heatmapgl"
           }
          ],
          "histogram": [
           {
            "marker": {
             "pattern": {
              "fillmode": "overlay",
              "size": 10,
              "solidity": 0.2
             }
            },
            "type": "histogram"
           }
          ],
          "histogram2d": [
           {
            "colorbar": {
             "outlinewidth": 0,
             "ticks": ""
            },
            "colorscale": [
             [
              0,
              "#0d0887"
             ],
             [
              0.1111111111111111,
              "#46039f"
             ],
             [
              0.2222222222222222,
              "#7201a8"
             ],
             [
              0.3333333333333333,
              "#9c179e"
             ],
             [
              0.4444444444444444,
              "#bd3786"
             ],
             [
              0.5555555555555556,
              "#d8576b"
             ],
             [
              0.6666666666666666,
              "#ed7953"
             ],
             [
              0.7777777777777778,
              "#fb9f3a"
             ],
             [
              0.8888888888888888,
              "#fdca26"
             ],
             [
              1,
              "#f0f921"
             ]
            ],
            "type": "histogram2d"
           }
          ],
          "histogram2dcontour": [
           {
            "colorbar": {
             "outlinewidth": 0,
             "ticks": ""
            },
            "colorscale": [
             [
              0,
              "#0d0887"
             ],
             [
              0.1111111111111111,
              "#46039f"
             ],
             [
              0.2222222222222222,
              "#7201a8"
             ],
             [
              0.3333333333333333,
              "#9c179e"
             ],
             [
              0.4444444444444444,
              "#bd3786"
             ],
             [
              0.5555555555555556,
              "#d8576b"
             ],
             [
              0.6666666666666666,
              "#ed7953"
             ],
             [
              0.7777777777777778,
              "#fb9f3a"
             ],
             [
              0.8888888888888888,
              "#fdca26"
             ],
             [
              1,
              "#f0f921"
             ]
            ],
            "type": "histogram2dcontour"
           }
          ],
          "mesh3d": [
           {
            "colorbar": {
             "outlinewidth": 0,
             "ticks": ""
            },
            "type": "mesh3d"
           }
          ],
          "parcoords": [
           {
            "line": {
             "colorbar": {
              "outlinewidth": 0,
              "ticks": ""
             }
            },
            "type": "parcoords"
           }
          ],
          "pie": [
           {
            "automargin": true,
            "type": "pie"
           }
          ],
          "scatter": [
           {
            "fillpattern": {
             "fillmode": "overlay",
             "size": 10,
             "solidity": 0.2
            },
            "type": "scatter"
           }
          ],
          "scatter3d": [
           {
            "line": {
             "colorbar": {
              "outlinewidth": 0,
              "ticks": ""
             }
            },
            "marker": {
             "colorbar": {
              "outlinewidth": 0,
              "ticks": ""
             }
            },
            "type": "scatter3d"
           }
          ],
          "scattercarpet": [
           {
            "marker": {
             "colorbar": {
              "outlinewidth": 0,
              "ticks": ""
             }
            },
            "type": "scattercarpet"
           }
          ],
          "scattergeo": [
           {
            "marker": {
             "colorbar": {
              "outlinewidth": 0,
              "ticks": ""
             }
            },
            "type": "scattergeo"
           }
          ],
          "scattergl": [
           {
            "marker": {
             "colorbar": {
              "outlinewidth": 0,
              "ticks": ""
             }
            },
            "type": "scattergl"
           }
          ],
          "scattermapbox": [
           {
            "marker": {
             "colorbar": {
              "outlinewidth": 0,
              "ticks": ""
             }
            },
            "type": "scattermapbox"
           }
          ],
          "scatterpolar": [
           {
            "marker": {
             "colorbar": {
              "outlinewidth": 0,
              "ticks": ""
             }
            },
            "type": "scatterpolar"
           }
          ],
          "scatterpolargl": [
           {
            "marker": {
             "colorbar": {
              "outlinewidth": 0,
              "ticks": ""
             }
            },
            "type": "scatterpolargl"
           }
          ],
          "scatterternary": [
           {
            "marker": {
             "colorbar": {
              "outlinewidth": 0,
              "ticks": ""
             }
            },
            "type": "scatterternary"
           }
          ],
          "surface": [
           {
            "colorbar": {
             "outlinewidth": 0,
             "ticks": ""
            },
            "colorscale": [
             [
              0,
              "#0d0887"
             ],
             [
              0.1111111111111111,
              "#46039f"
             ],
             [
              0.2222222222222222,
              "#7201a8"
             ],
             [
              0.3333333333333333,
              "#9c179e"
             ],
             [
              0.4444444444444444,
              "#bd3786"
             ],
             [
              0.5555555555555556,
              "#d8576b"
             ],
             [
              0.6666666666666666,
              "#ed7953"
             ],
             [
              0.7777777777777778,
              "#fb9f3a"
             ],
             [
              0.8888888888888888,
              "#fdca26"
             ],
             [
              1,
              "#f0f921"
             ]
            ],
            "type": "surface"
           }
          ],
          "table": [
           {
            "cells": {
             "fill": {
              "color": "#EBF0F8"
             },
             "line": {
              "color": "white"
             }
            },
            "header": {
             "fill": {
              "color": "#C8D4E3"
             },
             "line": {
              "color": "white"
             }
            },
            "type": "table"
           }
          ]
         },
         "layout": {
          "annotationdefaults": {
           "arrowcolor": "#2a3f5f",
           "arrowhead": 0,
           "arrowwidth": 1
          },
          "autotypenumbers": "strict",
          "coloraxis": {
           "colorbar": {
            "outlinewidth": 0,
            "ticks": ""
           }
          },
          "colorscale": {
           "diverging": [
            [
             0,
             "#8e0152"
            ],
            [
             0.1,
             "#c51b7d"
            ],
            [
             0.2,
             "#de77ae"
            ],
            [
             0.3,
             "#f1b6da"
            ],
            [
             0.4,
             "#fde0ef"
            ],
            [
             0.5,
             "#f7f7f7"
            ],
            [
             0.6,
             "#e6f5d0"
            ],
            [
             0.7,
             "#b8e186"
            ],
            [
             0.8,
             "#7fbc41"
            ],
            [
             0.9,
             "#4d9221"
            ],
            [
             1,
             "#276419"
            ]
           ],
           "sequential": [
            [
             0,
             "#0d0887"
            ],
            [
             0.1111111111111111,
             "#46039f"
            ],
            [
             0.2222222222222222,
             "#7201a8"
            ],
            [
             0.3333333333333333,
             "#9c179e"
            ],
            [
             0.4444444444444444,
             "#bd3786"
            ],
            [
             0.5555555555555556,
             "#d8576b"
            ],
            [
             0.6666666666666666,
             "#ed7953"
            ],
            [
             0.7777777777777778,
             "#fb9f3a"
            ],
            [
             0.8888888888888888,
             "#fdca26"
            ],
            [
             1,
             "#f0f921"
            ]
           ],
           "sequentialminus": [
            [
             0,
             "#0d0887"
            ],
            [
             0.1111111111111111,
             "#46039f"
            ],
            [
             0.2222222222222222,
             "#7201a8"
            ],
            [
             0.3333333333333333,
             "#9c179e"
            ],
            [
             0.4444444444444444,
             "#bd3786"
            ],
            [
             0.5555555555555556,
             "#d8576b"
            ],
            [
             0.6666666666666666,
             "#ed7953"
            ],
            [
             0.7777777777777778,
             "#fb9f3a"
            ],
            [
             0.8888888888888888,
             "#fdca26"
            ],
            [
             1,
             "#f0f921"
            ]
           ]
          },
          "colorway": [
           "#636efa",
           "#EF553B",
           "#00cc96",
           "#ab63fa",
           "#FFA15A",
           "#19d3f3",
           "#FF6692",
           "#B6E880",
           "#FF97FF",
           "#FECB52"
          ],
          "font": {
           "color": "#2a3f5f"
          },
          "geo": {
           "bgcolor": "white",
           "lakecolor": "white",
           "landcolor": "#E5ECF6",
           "showlakes": true,
           "showland": true,
           "subunitcolor": "white"
          },
          "hoverlabel": {
           "align": "left"
          },
          "hovermode": "closest",
          "mapbox": {
           "style": "light"
          },
          "paper_bgcolor": "white",
          "plot_bgcolor": "#E5ECF6",
          "polar": {
           "angularaxis": {
            "gridcolor": "white",
            "linecolor": "white",
            "ticks": ""
           },
           "bgcolor": "#E5ECF6",
           "radialaxis": {
            "gridcolor": "white",
            "linecolor": "white",
            "ticks": ""
           }
          },
          "scene": {
           "xaxis": {
            "backgroundcolor": "#E5ECF6",
            "gridcolor": "white",
            "gridwidth": 2,
            "linecolor": "white",
            "showbackground": true,
            "ticks": "",
            "zerolinecolor": "white"
           },
           "yaxis": {
            "backgroundcolor": "#E5ECF6",
            "gridcolor": "white",
            "gridwidth": 2,
            "linecolor": "white",
            "showbackground": true,
            "ticks": "",
            "zerolinecolor": "white"
           },
           "zaxis": {
            "backgroundcolor": "#E5ECF6",
            "gridcolor": "white",
            "gridwidth": 2,
            "linecolor": "white",
            "showbackground": true,
            "ticks": "",
            "zerolinecolor": "white"
           }
          },
          "shapedefaults": {
           "line": {
            "color": "#2a3f5f"
           }
          },
          "ternary": {
           "aaxis": {
            "gridcolor": "white",
            "linecolor": "white",
            "ticks": ""
           },
           "baxis": {
            "gridcolor": "white",
            "linecolor": "white",
            "ticks": ""
           },
           "bgcolor": "#E5ECF6",
           "caxis": {
            "gridcolor": "white",
            "linecolor": "white",
            "ticks": ""
           }
          },
          "title": {
           "x": 0.05
          },
          "xaxis": {
           "automargin": true,
           "gridcolor": "white",
           "linecolor": "white",
           "ticks": "",
           "title": {
            "standoff": 15
           },
           "zerolinecolor": "white",
           "zerolinewidth": 2
          },
          "yaxis": {
           "automargin": true,
           "gridcolor": "white",
           "linecolor": "white",
           "ticks": "",
           "title": {
            "standoff": 15
           },
           "zerolinecolor": "white",
           "zerolinewidth": 2
          }
         }
        },
        "title": {
         "text": "Wins from Pole Position by Driver",
         "x": 0.5
        },
        "width": 800,
        "xaxis": {
         "anchor": "y",
         "domain": [
          0,
          1
         ],
         "title": {
          "text": "Driver"
         }
        },
        "yaxis": {
         "anchor": "x",
         "domain": [
          0,
          1
         ],
         "title": {
          "text": "Number of Wins"
         }
        }
       }
      }
     },
     "metadata": {},
     "output_type": "display_data"
    }
   ],
   "source": [
    "def plot_driver_wins(driver_wins_df):\n",
    "    driver_wins_df_sorted = driver_wins_df.sort_values('Wins_From_Pole', ascending=False)\n",
    "\n",
    "    # Plotting bar chart\n",
    "    fig = px.bar(driver_wins_df_sorted, \n",
    "                 x='Driver', \n",
    "                 y='Wins_From_Pole',\n",
    "                 title='Wins from Pole Position by Driver',\n",
    "                 color_discrete_sequence=[ '#32CD32'])\n",
    "    \n",
    "    fig.update_layout(\n",
    "        title_x=0.5,\n",
    "        xaxis_title='Driver',\n",
    "        yaxis_title='Number of Wins',\n",
    "        height=500,\n",
    "        width=800\n",
    "    )\n",
    "    fig.show()\n",
    "\n",
    "total_wins, driver_wins_df = analyze_wins_from_pole()\n",
    "\n",
    "# Create the interactive plot\n",
    "plot_driver_wins(driver_wins_df)\n"
   ]
  },
  {
   "cell_type": "markdown",
   "metadata": {},
   "source": [
    "## F1 Track Analysis"
   ]
  },
  {
   "cell_type": "code",
   "execution_count": 11,
   "metadata": {},
   "outputs": [
    {
     "name": "stdout",
     "output_type": "stream",
     "text": [
      "Track Race Statistics:\n",
      "       Country  RaceCount  AvgRaceTime  FastestRaceTime  SlowestRaceTime DNFCount DNSCount NCCount DQCount InvalidTimeCount  DNFRate  DNSRate  InvalidTimeRate\n",
      "         Italy          5  4968.964500      4421.000000      6766.317000       16        2      18       0               36 0.160000 0.020000         0.360000\n",
      "       Belgium          6  5222.891500       207.000000      6489.336000       11        1      10       1               23 0.091667 0.008333         0.191667\n",
      "  Saudi Arabia          4  5370.211000      4843.000000      8345.128000       14        2      15       0               31 0.175000 0.025000         0.387500\n",
      " Great Britain          6  5449.089000      4782.000000      8527.167000       18        2      19       0               39 0.150000 0.016667         0.325000\n",
      "        Styria          2  5469.084000      4939.000000      6589.084000        5        0       5       0               10 0.125000 0.000000         0.250000\n",
      "       Austria          6  5478.783000      4922.000000      6757.265000       15        0      12       0               27 0.125000 0.000000         0.225000\n",
      "     Las Vegas          1  5482.687000      5348.000000      5869.595000        3        0       1       0                4 0.150000 0.000000         0.200000\n",
      "        Sakhir          1  5585.618000      5475.000000      5801.463000        3        0       3       0                6 0.150000 0.000000         0.300000\n",
      "         Qatar          2  5622.387000      5068.000000      6502.387000        4        1       5       0               10 0.100000 0.025000         0.250000\n",
      "     Australia          4  5673.972000      4827.000000      9204.244000       17        0      11       0               28 0.212500 0.000000         0.350000\n",
      "        France          3  5687.500000      5071.000000      6585.616000        5        0       5       0               10 0.083333 0.000000         0.166667\n",
      "         Miami          3  5718.658000      5258.000000      6410.021000        6        0       4       0               10 0.100000 0.000000         0.166667\n",
      "Emilia Romagna          4  5751.675000      5125.000000      8381.637000       12        0      11       0               23 0.150000 0.000000         0.287500\n",
      "     Abu Dhabi          5  5833.012000      5223.000000      7137.042000       11        1       8       0               20 0.110000 0.010000         0.200000\n",
      "        Russia          3  5952.013000      5441.000000      6894.211000        9        0       8       0               17 0.150000 0.000000         0.283333\n",
      "        Brazil          4  5980.408000      5543.000000      7845.505000       14        1      12       0               27 0.175000 0.012500         0.337500\n",
      "         Spain          6  5981.458500      5278.000000      7244.349000        6        0       6       0               12 0.050000 0.000000         0.100000\n",
      "       Bahrain          6  6054.897000      5505.000000     11534.176000       17        0       9       0               26 0.141667 0.000000         0.216667\n",
      "        Canada          4  6059.211000      5347.000000      6824.052000       12        0      12       0               24 0.150000 0.000000         0.300000\n",
      "      Portugal          2  6083.450500      5397.000000      7119.907000        2        0       2       0                4 0.050000 0.000000         0.100000\n",
      "   Netherlands          3  6137.359000      5405.000000      8965.452000        8        0       7       0               15 0.133333 0.000000         0.250000\n",
      " United States          4  6177.724000      5636.000000      7098.026000       13        0      11       2               26 0.162500 0.000000         0.325000\n",
      "         China          2  6178.384500      5526.000000      6934.996000        6        0       5       0               11 0.150000 0.000000         0.275000\n",
      "       Germany          2  6186.464000      5750.000000      6507.963000       12        0      11       0               23 0.300000 0.000000         0.575000\n",
      "    Azerbaijan          4  6219.254000      5513.000000      8178.015000       15        0      12       0               27 0.187500 0.000000         0.337500\n",
      "        Turkey          2  6253.632500      5464.000000      7071.243000        4        0       3       0                7 0.100000 0.000000         0.175000\n",
      "       Hungary          6  6424.964000      5704.000000      8214.929000       13        0      11       1               25 0.108333 0.000000         0.208333\n",
      "        Mexico          4  6539.636000      5809.000000      8078.337000       11        0       8       0               19 0.137500 0.000000         0.237500\n",
      "         Japan          4  6864.000000      4907.000000     12006.702000       11        0      11       2               24 0.137500 0.000000         0.300000\n",
      "        Monaco          5  6994.106000      5937.000000      9861.457000       11        1      11       0               23 0.110000 0.010000         0.230000\n",
      "     Singapore          3  7181.527000      6397.000000      8155.047000       13        1      13       0               27 0.216667 0.016667         0.450000\n",
      "       Tuscany          1  8443.772000      8375.000000      8617.188000        8        0       8       0               16 0.400000 0.000000         0.800000\n"
     ]
    }
   ],
   "source": [
    "import pandas as pd\n",
    "import numpy as np\n",
    "import re\n",
    "\n",
    "def time_to_seconds(time_str, prev_total=0, avg_lap_time=80):\n",
    "    \"\"\" Convert a time string into total seconds, accounting for cumulative times. \"\"\"\n",
    "    if pd.isna(time_str) or time_str in [\"DNF\", \"DNS\"]:\n",
    "        return None\n",
    "    time_str = str(time_str).strip()\n",
    "\n",
    "    # Handling lap differences\n",
    "    if time_str.endswith('lap') or time_str.endswith('laps'):\n",
    "        laps = int(time_str.split()[0])\n",
    "        return prev_total + (laps * avg_lap_time)\n",
    "\n",
    "    # Handling '+X.XXXs' format\n",
    "    if time_str.startswith('+') and time_str.endswith('s'):\n",
    "        return prev_total + float(time_str[1:-1])\n",
    "\n",
    "    # Full time format (for the race winner)\n",
    "    match = re.match(r'(\\d+):(\\d+):(\\d+)', time_str)\n",
    "    if match:\n",
    "        h, m, s = match.groups()\n",
    "        return int(h) * 3600 + int(m) * 60 + float(s)\n",
    "\n",
    "    return None  # For other unexpected formats\n",
    "\n",
    "def position_to_numeric(pos_str):\n",
    "    \"\"\" Convert position string to numeric value \"\"\"\n",
    "    if pd.isna(pos_str):\n",
    "        return None\n",
    "    pos_str = str(pos_str).strip()\n",
    "    if pos_str.isdigit():\n",
    "        return int(pos_str)\n",
    "    elif pos_str in [\"NC\", \"DQ\"]:\n",
    "        return None\n",
    "    return None  # For other unexpected formats\n",
    "\n",
    "def check_required_columns(df, required_columns):\n",
    "    \"\"\" Check if required columns are present in the DataFrame \"\"\"\n",
    "    df.columns = df.columns.str.strip()  # Remove any whitespace from column names\n",
    "    missing_columns = [col for col in required_columns if col not in df.columns]\n",
    "    if missing_columns:\n",
    "        raise ValueError(f\"The following required columns are missing: {', '.join(missing_columns)}\")\n",
    "\n",
    "def analyze_track_race_times(race_results):\n",
    "    \"\"\" Analyze race results data to generate track statistics \"\"\"\n",
    "    if race_results is None or not isinstance(race_results, pd.DataFrame):\n",
    "        raise ValueError(\"race_results must be a valid pandas DataFrame\")\n",
    "    \n",
    "    if race_results.empty:\n",
    "        raise ValueError(\"race_results DataFrame is empty\")\n",
    "    \n",
    "    # Ensure correct column names are used\n",
    "    check_required_columns(race_results, ['Country', 'Time/Retired', 'Year', 'Position'])\n",
    "    \n",
    "    # Rename \"70th Anniversary\" to \"Great Britain\"\n",
    "    race_results['Country'] = race_results['Country'].replace(\"70th Anniversary\", \"Great Britain\")\n",
    "\n",
    "    # Function to calculate cumulative race times for each race\n",
    "    def calculate_race_times(group):\n",
    "        total_time = 0\n",
    "        race_times = []\n",
    "        for time in group['Time/Retired']:\n",
    "            if time not in ['DNF', 'DNS']:\n",
    "                time_seconds = time_to_seconds(time, total_time)\n",
    "                if time_seconds is not None:\n",
    "                    total_time = time_seconds\n",
    "                    race_times.append(total_time)\n",
    "        return pd.Series({\n",
    "            'RaceTimes': race_times,\n",
    "            'DNFCount': (group['Time/Retired'] == 'DNF').sum(),\n",
    "            'DNSCount': (group['Time/Retired'] == 'DNS').sum(),\n",
    "            'NCCount': (group['Position'] == 'NC').sum(),\n",
    "            'DQCount': (group['Position'] == 'DQ').sum()\n",
    "        })\n",
    "\n",
    "    # Group by 'Country' and 'Year', then calculate race times and other statistics\n",
    "    grouped_stats = race_results.groupby(['Country', 'Year']).apply(calculate_race_times)\n",
    "\n",
    "    # Calculate country-level statistics\n",
    "    track_stats = grouped_stats.groupby(level=0).agg({\n",
    "        'RaceTimes': lambda x: [item for sublist in x for item in sublist],  \n",
    "        'DNFCount': 'sum',\n",
    "        'DNSCount': 'sum',\n",
    "        'NCCount': 'sum',\n",
    "        'DQCount': 'sum'\n",
    "    })\n",
    "\n",
    "    # Calculate additional statistics\n",
    "    track_stats['RaceCount'] = grouped_stats.groupby(level=0).size()\n",
    "    track_stats['AvgRaceTime'] = track_stats['RaceTimes'].apply(lambda x: np.median(x) if len(x) > 0 else np.nan) \n",
    "    track_stats['FastestRaceTime'] = track_stats['RaceTimes'].apply(lambda x: np.min(x) if len(x) > 0 else np.nan)\n",
    "    track_stats['SlowestRaceTime'] = track_stats['RaceTimes'].apply(lambda x: np.max(x) if len(x) > 0 else np.nan)\n",
    "\n",
    "    # Calculate total InvalidTimeCount and rates\n",
    "    track_stats['InvalidTimeCount'] = track_stats['DNFCount'] + track_stats['DNSCount'] + track_stats['NCCount'] + track_stats['DQCount']\n",
    "    total_entries = track_stats['RaceCount'] * 20  # Assuming 20 entries per race\n",
    "    track_stats['DNFRate'] = track_stats['DNFCount'] / total_entries\n",
    "    track_stats['DNSRate'] = track_stats['DNSCount'] / total_entries\n",
    "    track_stats['InvalidTimeRate'] = track_stats['InvalidTimeCount'] / total_entries\n",
    "\n",
    "    # Convert count columns to integers\n",
    "    integer_columns = ['DNFCount', 'DNSCount', 'NCCount', 'DQCount', 'InvalidTimeCount']\n",
    "    for col in integer_columns:\n",
    "        track_stats[col] = track_stats[col].astype(int)\n",
    "\n",
    "    # Clean up and sort\n",
    "    track_stats = track_stats.drop('RaceTimes', axis=1).reset_index()\n",
    "\n",
    "    # Reorder the columns as requested\n",
    "    column_order = [\n",
    "        'Country', 'RaceCount', 'AvgRaceTime', 'FastestRaceTime', 'SlowestRaceTime',\n",
    "        'DNFCount', 'DNSCount', 'NCCount', 'DQCount', 'InvalidTimeCount',\n",
    "        'DNFRate', 'DNSRate', 'InvalidTimeRate'\n",
    "    ]\n",
    "    \n",
    "    # Reorder the columns and sort by AvgRaceTime\n",
    "    track_stats = track_stats[column_order].sort_values('AvgRaceTime')\n",
    "\n",
    "    return track_stats\n",
    "\n",
    "# Main execution\n",
    "if __name__ == \"__main__\":\n",
    "    try:\n",
    "        # Get race results\n",
    "        race_results = get_race_results()\n",
    "        race_results['Country'] = race_results['Country'].replace(\"70th Anniversary\", \"Great Britain\")\n",
    "\n",
    "        # Reset index to ensure 'Country' is a column\n",
    "        race_results = race_results.reset_index(drop=True)\n",
    "\n",
    "        # If there's a MultiIndex, flatten it\n",
    "        if isinstance(race_results.columns, pd.MultiIndex):\n",
    "            race_results.columns = ['_'.join(col).strip() for col in race_results.columns.values]\n",
    "\n",
    "        # Ensure 'Country' is a column name\n",
    "        if 'Country' not in race_results.columns:\n",
    "            raise ValueError(\"'Country' column is missing from the DataFrame\")\n",
    "\n",
    "        # Perform the analysis\n",
    "        track_stats = analyze_track_race_times(race_results)\n",
    "\n",
    "        # Print detailed results with custom formatting\n",
    "        print(\"Track Race Statistics:\")\n",
    "        pd.set_option('display.max_columns', None)\n",
    "        pd.set_option('display.width', None)\n",
    "        pd.set_option('display.float_format', '{:.6f}'.format)\n",
    "        \n",
    "        # Custom formatting to display integer columns without decimal places\n",
    "        integer_columns = ['DNFCount', 'DNSCount', 'NCCount', 'DQCount', 'InvalidTimeCount']\n",
    "        for col in integer_columns:\n",
    "            track_stats[col] = track_stats[col].apply(lambda x: f\"{x:d}\")\n",
    "\n",
    "        print(track_stats.to_string(index=False))\n",
    "\n",
    "    except ValueError as e:\n",
    "        print(f\"Error: {e}\")\n",
    "    except KeyError as e:\n",
    "        print(f\"Error: Missing key in data dictionary - {e}\")\n",
    "    except Exception as e:\n",
    "        print(f\"An unexpected error occurred: {e}\")\n",
    "        import traceback\n",
    "        traceback.print_exc()"
   ]
  },
  {
   "cell_type": "code",
   "execution_count": 12,
   "metadata": {},
   "outputs": [
    {
     "data": {
      "image/png": "[encoded data removed]",
      "text/plain": [
       "<Figure size 1200x800 with 1 Axes>"
      ]
     },
     "metadata": {},
     "output_type": "display_data"
    }
   ],
   "source": [
    "plt.figure(figsize=(12, 8))\n",
    "sns.barplot(x='AvgRaceTime', y='Country', data=track_stats, palette='viridis')\n",
    "plt.title('Average Race Time by Country')\n",
    "plt.xlabel('Average Race Time (seconds)')\n",
    "plt.ylabel('Country')\n",
    "plt.show()"
   ]
  },
  {
   "cell_type": "code",
   "execution_count": 13,
   "metadata": {},
   "outputs": [
    {
     "data": {
      "image/png": "[encoded data removed]",
      "text/plain": [
       "<Figure size 1200x800 with 1 Axes>"
      ]
     },
     "metadata": {},
     "output_type": "display_data"
    }
   ],
   "source": [
    "# Scatter Plot Average Race Time vs DNF Rate\n",
    "\n",
    "plt.figure(figsize=(12, 8))\n",
    "plt.scatter(track_stats['AvgRaceTime'], track_stats['DNFRate'], color='blue')\n",
    "plt.title('Average Race Time v/s DNF Rate')\n",
    "plt.xlabel('Average Race Time (seconds)')\n",
    "plt.ylabel('DNF Rate')\n",
    "plt.grid(True)\n",
    "plt.show()\n"
   ]
  },
  {
   "cell_type": "code",
   "execution_count": 14,
   "metadata": {},
   "outputs": [
    {
     "data": {
      "application/vnd.plotly.v1+json": {
       "config": {
        "plotlyServerURL": "https://plot.ly"
       },
       "data": [
        {
         "name": "DNFCount",
         "type": "bar",
         "x": [
          "Italy",
          "Belgium",
          "Saudi Arabia",
          "Great Britain",
          "Styria",
          "Austria",
          "Las Vegas",
          "Sakhir",
          "Qatar",
          "Australia",
          "France",
          "Miami",
          "Emilia Romagna",
          "Abu Dhabi",
          "Russia",
          "Brazil",
          "Spain",
          "Bahrain",
          "Canada",
          "Portugal",
          "Netherlands",
          "United States",
          "China",
          "Germany",
          "Azerbaijan",
          "Turkey",
          "Hungary",
          "Mexico",
          "Japan",
          "Monaco",
          "Singapore",
          "Tuscany"
         ],
         "y": [
          16,
          11,
          14,
          18,
          5,
          15,
          3,
          3,
          4,
          17,
          5,
          6,
          12,
          11,
          9,
          14,
          6,
          17,
          12,
          2,
          8,
          13,
          6,
          12,
          15,
          4,
          13,
          11,
          11,
          11,
          13,
          8
         ]
        },
        {
         "name": "DNSCount",
         "type": "bar",
         "x": [
          "Italy",
          "Belgium",
          "Saudi Arabia",
          "Great Britain",
          "Styria",
          "Austria",
          "Las Vegas",
          "Sakhir",
          "Qatar",
          "Australia",
          "France",
          "Miami",
          "Emilia Romagna",
          "Abu Dhabi",
          "Russia",
          "Brazil",
          "Spain",
          "Bahrain",
          "Canada",
          "Portugal",
          "Netherlands",
          "United States",
          "China",
          "Germany",
          "Azerbaijan",
          "Turkey",
          "Hungary",
          "Mexico",
          "Japan",
          "Monaco",
          "Singapore",
          "Tuscany"
         ],
         "y": [
          2,
          1,
          2,
          2,
          0,
          0,
          0,
          0,
          1,
          0,
          0,
          0,
          0,
          1,
          0,
          1,
          0,
          0,
          0,
          0,
          0,
          0,
          0,
          0,
          0,
          0,
          0,
          0,
          0,
          1,
          1,
          0
         ]
        },
        {
         "name": "NCCount",
         "type": "bar",
         "x": [
          "Italy",
          "Belgium",
          "Saudi Arabia",
          "Great Britain",
          "Styria",
          "Austria",
          "Las Vegas",
          "Sakhir",
          "Qatar",
          "Australia",
          "France",
          "Miami",
          "Emilia Romagna",
          "Abu Dhabi",
          "Russia",
          "Brazil",
          "Spain",
          "Bahrain",
          "Canada",
          "Portugal",
          "Netherlands",
          "United States",
          "China",
          "Germany",
          "Azerbaijan",
          "Turkey",
          "Hungary",
          "Mexico",
          "Japan",
          "Monaco",
          "Singapore",
          "Tuscany"
         ],
         "y": [
          18,
          10,
          15,
          19,
          5,
          12,
          1,
          3,
          5,
          11,
          5,
          4,
          11,
          8,
          8,
          12,
          6,
          9,
          12,
          2,
          7,
          11,
          5,
          11,
          12,
          3,
          11,
          8,
          11,
          11,
          13,
          8
         ]
        },
        {
         "name": "DQCount",
         "type": "bar",
         "x": [
          "Italy",
          "Belgium",
          "Saudi Arabia",
          "Great Britain",
          "Styria",
          "Austria",
          "Las Vegas",
          "Sakhir",
          "Qatar",
          "Australia",
          "France",
          "Miami",
          "Emilia Romagna",
          "Abu Dhabi",
          "Russia",
          "Brazil",
          "Spain",
          "Bahrain",
          "Canada",
          "Portugal",
          "Netherlands",
          "United States",
          "China",
          "Germany",
          "Azerbaijan",
          "Turkey",
          "Hungary",
          "Mexico",
          "Japan",
          "Monaco",
          "Singapore",
          "Tuscany"
         ],
         "y": [
          0,
          1,
          0,
          0,
          0,
          0,
          0,
          0,
          0,
          0,
          0,
          0,
          0,
          0,
          0,
          0,
          0,
          0,
          0,
          0,
          0,
          2,
          0,
          0,
          0,
          0,
          1,
          0,
          2,
          0,
          0,
          0
         ]
        }
       ],
       "layout": {
        "barmode": "stack",
        "height": 600,
        "legend": {
         "title": {
          "text": "Outcome"
         }
        },
        "template": {
         "data": {
          "bar": [
           {
            "error_x": {
             "color": "#2a3f5f"
            },
            "error_y": {
             "color": "#2a3f5f"
            },
            "marker": {
             "line": {
              "color": "#E5ECF6",
              "width": 0.5
             },
             "pattern": {
              "fillmode": "overlay",
              "size": 10,
              "solidity": 0.2
             }
            },
            "type": "bar"
           }
          ],
          "barpolar": [
           {
            "marker": {
             "line": {
              "color": "#E5ECF6",
              "width": 0.5
             },
             "pattern": {
              "fillmode": "overlay",
              "size": 10,
              "solidity": 0.2
             }
            },
            "type": "barpolar"
           }
          ],
          "carpet": [
           {
            "aaxis": {
             "endlinecolor": "#2a3f5f",
             "gridcolor": "white",
             "linecolor": "white",
             "minorgridcolor": "white",
             "startlinecolor": "#2a3f5f"
            },
            "baxis": {
             "endlinecolor": "#2a3f5f",
             "gridcolor": "white",
             "linecolor": "white",
             "minorgridcolor": "white",
             "startlinecolor": "#2a3f5f"
            },
            "type": "carpet"
           }
          ],
          "choropleth": [
           {
            "colorbar": {
             "outlinewidth": 0,
             "ticks": ""
            },
            "type": "choropleth"
           }
          ],
          "contour": [
           {
            "colorbar": {
             "outlinewidth": 0,
             "ticks": ""
            },
            "colorscale": [
             [
              0,
              "#0d0887"
             ],
             [
              0.1111111111111111,
              "#46039f"
             ],
             [
              0.2222222222222222,
              "#7201a8"
             ],
             [
              0.3333333333333333,
              "#9c179e"
             ],
             [
              0.4444444444444444,
              "#bd3786"
             ],
             [
              0.5555555555555556,
              "#d8576b"
             ],
             [
              0.6666666666666666,
              "#ed7953"
             ],
             [
              0.7777777777777778,
              "#fb9f3a"
             ],
             [
              0.8888888888888888,
              "#fdca26"
             ],
             [
              1,
              "#f0f921"
             ]
            ],
            "type": "contour"
           }
          ],
          "contourcarpet": [
           {
            "colorbar": {
             "outlinewidth": 0,
             "ticks": ""
            },
            "type": "contourcarpet"
           }
          ],
          "heatmap": [
           {
            "colorbar": {
             "outlinewidth": 0,
             "ticks": ""
            },
            "colorscale": [
             [
              0,
              "#0d0887"
             ],
             [
              0.1111111111111111,
              "#46039f"
             ],
             [
              0.2222222222222222,
              "#7201a8"
             ],
             [
              0.3333333333333333,
              "#9c179e"
             ],
             [
              0.4444444444444444,
              "#bd3786"
             ],
             [
              0.5555555555555556,
              "#d8576b"
             ],
             [
              0.6666666666666666,
              "#ed7953"
             ],
             [
              0.7777777777777778,
              "#fb9f3a"
             ],
             [
              0.8888888888888888,
              "#fdca26"
             ],
             [
              1,
              "#f0f921"
             ]
            ],
            "type": "heatmap"
           }
          ],
          "heatmapgl": [
           {
            "colorbar": {
             "outlinewidth": 0,
             "ticks": ""
            },
            "colorscale": [
             [
              0,
              "#0d0887"
             ],
             [
              0.1111111111111111,
              "#46039f"
             ],
             [
              0.2222222222222222,
              "#7201a8"
             ],
             [
              0.3333333333333333,
              "#9c179e"
             ],
             [
              0.4444444444444444,
              "#bd3786"
             ],
             [
              0.5555555555555556,
              "#d8576b"
             ],
             [
              0.6666666666666666,
              "#ed7953"
             ],
             [
              0.7777777777777778,
              "#fb9f3a"
             ],
             [
              0.8888888888888888,
              "#fdca26"
             ],
             [
              1,
              "#f0f921"
             ]
            ],
            "type": "heatmapgl"
           }
          ],
          "histogram": [
           {
            "marker": {
             "pattern": {
              "fillmode": "overlay",
              "size": 10,
              "solidity": 0.2
             }
            },
            "type": "histogram"
           }
          ],
          "histogram2d": [
           {
            "colorbar": {
             "outlinewidth": 0,
             "ticks": ""
            },
            "colorscale": [
             [
              0,
              "#0d0887"
             ],
             [
              0.1111111111111111,
              "#46039f"
             ],
             [
              0.2222222222222222,
              "#7201a8"
             ],
             [
              0.3333333333333333,
              "#9c179e"
             ],
             [
              0.4444444444444444,
              "#bd3786"
             ],
             [
              0.5555555555555556,
              "#d8576b"
             ],
             [
              0.6666666666666666,
              "#ed7953"
             ],
             [
              0.7777777777777778,
              "#fb9f3a"
             ],
             [
              0.8888888888888888,
              "#fdca26"
             ],
             [
              1,
              "#f0f921"
             ]
            ],
            "type": "histogram2d"
           }
          ],
          "histogram2dcontour": [
           {
            "colorbar": {
             "outlinewidth": 0,
             "ticks": ""
            },
            "colorscale": [
             [
              0,
              "#0d0887"
             ],
             [
              0.1111111111111111,
              "#46039f"
             ],
             [
              0.2222222222222222,
              "#7201a8"
             ],
             [
              0.3333333333333333,
              "#9c179e"
             ],
             [
              0.4444444444444444,
              "#bd3786"
             ],
             [
              0.5555555555555556,
              "#d8576b"
             ],
             [
              0.6666666666666666,
              "#ed7953"
             ],
             [
              0.7777777777777778,
              "#fb9f3a"
             ],
             [
              0.8888888888888888,
              "#fdca26"
             ],
             [
              1,
              "#f0f921"
             ]
            ],
            "type": "histogram2dcontour"
           }
          ],
          "mesh3d": [
           {
            "colorbar": {
             "outlinewidth": 0,
             "ticks": ""
            },
            "type": "mesh3d"
           }
          ],
          "parcoords": [
           {
            "line": {
             "colorbar": {
              "outlinewidth": 0,
              "ticks": ""
             }
            },
            "type": "parcoords"
           }
          ],
          "pie": [
           {
            "automargin": true,
            "type": "pie"
           }
          ],
          "scatter": [
           {
            "fillpattern": {
             "fillmode": "overlay",
             "size": 10,
             "solidity": 0.2
            },
            "type": "scatter"
           }
          ],
          "scatter3d": [
           {
            "line": {
             "colorbar": {
              "outlinewidth": 0,
              "ticks": ""
             }
            },
            "marker": {
             "colorbar": {
              "outlinewidth": 0,
              "ticks": ""
             }
            },
            "type": "scatter3d"
           }
          ],
          "scattercarpet": [
           {
            "marker": {
             "colorbar": {
              "outlinewidth": 0,
              "ticks": ""
             }
            },
            "type": "scattercarpet"
           }
          ],
          "scattergeo": [
           {
            "marker": {
             "colorbar": {
              "outlinewidth": 0,
              "ticks": ""
             }
            },
            "type": "scattergeo"
           }
          ],
          "scattergl": [
           {
            "marker": {
             "colorbar": {
              "outlinewidth": 0,
              "ticks": ""
             }
            },
            "type": "scattergl"
           }
          ],
          "scattermapbox": [
           {
            "marker": {
             "colorbar": {
              "outlinewidth": 0,
              "ticks": ""
             }
            },
            "type": "scattermapbox"
           }
          ],
          "scatterpolar": [
           {
            "marker": {
             "colorbar": {
              "outlinewidth": 0,
              "ticks": ""
             }
            },
            "type": "scatterpolar"
           }
          ],
          "scatterpolargl": [
           {
            "marker": {
             "colorbar": {
              "outlinewidth": 0,
              "ticks": ""
             }
            },
            "type": "scatterpolargl"
           }
          ],
          "scatterternary": [
           {
            "marker": {
             "colorbar": {
              "outlinewidth": 0,
              "ticks": ""
             }
            },
            "type": "scatterternary"
           }
          ],
          "surface": [
           {
            "colorbar": {
             "outlinewidth": 0,
             "ticks": ""
            },
            "colorscale": [
             [
              0,
              "#0d0887"
             ],
             [
              0.1111111111111111,
              "#46039f"
             ],
             [
              0.2222222222222222,
              "#7201a8"
             ],
             [
              0.3333333333333333,
              "#9c179e"
             ],
             [
              0.4444444444444444,
              "#bd3786"
             ],
             [
              0.5555555555555556,
              "#d8576b"
             ],
             [
              0.6666666666666666,
              "#ed7953"
             ],
             [
              0.7777777777777778,
              "#fb9f3a"
             ],
             [
              0.8888888888888888,
              "#fdca26"
             ],
             [
              1,
              "#f0f921"
             ]
            ],
            "type": "surface"
           }
          ],
          "table": [
           {
            "cells": {
             "fill": {
              "color": "#EBF0F8"
             },
             "line": {
              "color": "white"
             }
            },
            "header": {
             "fill": {
              "color": "#C8D4E3"
             },
             "line": {
              "color": "white"
             }
            },
            "type": "table"
           }
          ]
         },
         "layout": {
          "annotationdefaults": {
           "arrowcolor": "#2a3f5f",
           "arrowhead": 0,
           "arrowwidth": 1
          },
          "autotypenumbers": "strict",
          "coloraxis": {
           "colorbar": {
            "outlinewidth": 0,
            "ticks": ""
           }
          },
          "colorscale": {
           "diverging": [
            [
             0,
             "#8e0152"
            ],
            [
             0.1,
             "#c51b7d"
            ],
            [
             0.2,
             "#de77ae"
            ],
            [
             0.3,
             "#f1b6da"
            ],
            [
             0.4,
             "#fde0ef"
            ],
            [
             0.5,
             "#f7f7f7"
            ],
            [
             0.6,
             "#e6f5d0"
            ],
            [
             0.7,
             "#b8e186"
            ],
            [
             0.8,
             "#7fbc41"
            ],
            [
             0.9,
             "#4d9221"
            ],
            [
             1,
             "#276419"
            ]
           ],
           "sequential": [
            [
             0,
             "#0d0887"
            ],
            [
             0.1111111111111111,
             "#46039f"
            ],
            [
             0.2222222222222222,
             "#7201a8"
            ],
            [
             0.3333333333333333,
             "#9c179e"
            ],
            [
             0.4444444444444444,
             "#bd3786"
            ],
            [
             0.5555555555555556,
             "#d8576b"
            ],
            [
             0.6666666666666666,
             "#ed7953"
            ],
            [
             0.7777777777777778,
             "#fb9f3a"
            ],
            [
             0.8888888888888888,
             "#fdca26"
            ],
            [
             1,
             "#f0f921"
            ]
           ],
           "sequentialminus": [
            [
             0,
             "#0d0887"
            ],
            [
             0.1111111111111111,
             "#46039f"
            ],
            [
             0.2222222222222222,
             "#7201a8"
            ],
            [
             0.3333333333333333,
             "#9c179e"
            ],
            [
             0.4444444444444444,
             "#bd3786"
            ],
            [
             0.5555555555555556,
             "#d8576b"
            ],
            [
             0.6666666666666666,
             "#ed7953"
            ],
            [
             0.7777777777777778,
             "#fb9f3a"
            ],
            [
             0.8888888888888888,
             "#fdca26"
            ],
            [
             1,
             "#f0f921"
            ]
           ]
          },
          "colorway": [
           "#636efa",
           "#EF553B",
           "#00cc96",
           "#ab63fa",
           "#FFA15A",
           "#19d3f3",
           "#FF6692",
           "#B6E880",
           "#FF97FF",
           "#FECB52"
          ],
          "font": {
           "color": "#2a3f5f"
          },
          "geo": {
           "bgcolor": "white",
           "lakecolor": "white",
           "landcolor": "#E5ECF6",
           "showlakes": true,
           "showland": true,
           "subunitcolor": "white"
          },
          "hoverlabel": {
           "align": "left"
          },
          "hovermode": "closest",
          "mapbox": {
           "style": "light"
          },
          "paper_bgcolor": "white",
          "plot_bgcolor": "#E5ECF6",
          "polar": {
           "angularaxis": {
            "gridcolor": "white",
            "linecolor": "white",
            "ticks": ""
           },
           "bgcolor": "#E5ECF6",
           "radialaxis": {
            "gridcolor": "white",
            "linecolor": "white",
            "ticks": ""
           }
          },
          "scene": {
           "xaxis": {
            "backgroundcolor": "#E5ECF6",
            "gridcolor": "white",
            "gridwidth": 2,
            "linecolor": "white",
            "showbackground": true,
            "ticks": "",
            "zerolinecolor": "white"
           },
           "yaxis": {
            "backgroundcolor": "#E5ECF6",
            "gridcolor": "white",
            "gridwidth": 2,
            "linecolor": "white",
            "showbackground": true,
            "ticks": "",
            "zerolinecolor": "white"
           },
           "zaxis": {
            "backgroundcolor": "#E5ECF6",
            "gridcolor": "white",
            "gridwidth": 2,
            "linecolor": "white",
            "showbackground": true,
            "ticks": "",
            "zerolinecolor": "white"
           }
          },
          "shapedefaults": {
           "line": {
            "color": "#2a3f5f"
           }
          },
          "ternary": {
           "aaxis": {
            "gridcolor": "white",
            "linecolor": "white",
            "ticks": ""
           },
           "baxis": {
            "gridcolor": "white",
            "linecolor": "white",
            "ticks": ""
           },
           "bgcolor": "#E5ECF6",
           "caxis": {
            "gridcolor": "white",
            "linecolor": "white",
            "ticks": ""
           }
          },
          "title": {
           "x": 0.05
          },
          "xaxis": {
           "automargin": true,
           "gridcolor": "white",
           "linecolor": "white",
           "ticks": "",
           "title": {
            "standoff": 15
           },
           "zerolinecolor": "white",
           "zerolinewidth": 2
          },
          "yaxis": {
           "automargin": true,
           "gridcolor": "white",
           "linecolor": "white",
           "ticks": "",
           "title": {
            "standoff": 15
           },
           "zerolinecolor": "white",
           "zerolinewidth": 2
          }
         }
        },
        "title": {
         "text": "Count of Different Race Outcomes by Country",
         "x": 0.5
        },
        "width": 1300,
        "xaxis": {
         "tickangle": -90,
         "title": {
          "text": "Country"
         }
        },
        "yaxis": {
         "title": {
          "text": "Count"
         }
        }
       }
      }
     },
     "metadata": {},
     "output_type": "display_data"
    }
   ],
   "source": [
    "\n",
    "columns_to_convert = ['DNFCount', 'DNSCount', 'NCCount', 'DQCount']\n",
    "for col in columns_to_convert:\n",
    "    track_stats[col] = pd.to_numeric(track_stats[col], errors='coerce')\n",
    "\n",
    "# Prepare data for plotting\n",
    "outcomes = track_stats[['Country'] + columns_to_convert].set_index('Country')\n",
    "\n",
    "# Create the stacked bar chart\n",
    "fig = go.Figure()\n",
    "\n",
    "for column in columns_to_convert:\n",
    "    fig.add_trace(go.Bar(\n",
    "        x=outcomes.index,\n",
    "        y=outcomes[column],\n",
    "        name=column\n",
    "    ))\n",
    "\n",
    "# Update layout\n",
    "fig.update_layout(\n",
    "    title='Count of Different Race Outcomes by Country',\n",
    "    title_x=0.5,\n",
    "    xaxis_title='Country',\n",
    "    yaxis_title='Count',\n",
    "    barmode='stack',\n",
    "    xaxis_tickangle=-90,\n",
    "    legend_title='Outcome',\n",
    "    height=600,\n",
    "    width=1300\n",
    ")\n",
    "\n",
    "fig.show()"
   ]
  },
  {
   "cell_type": "code",
   "execution_count": 15,
   "metadata": {},
   "outputs": [
    {
     "data": {
      "application/vnd.plotly.v1+json": {
       "config": {
        "plotlyServerURL": "https://plot.ly"
       },
       "data": [
        {
         "alignmentgroup": "True",
         "customdata": [
          [
           16,
           2
          ],
          [
           11,
           1
          ],
          [
           14,
           2
          ],
          [
           18,
           2
          ],
          [
           5,
           0
          ],
          [
           15,
           0
          ],
          [
           3,
           0
          ],
          [
           3,
           0
          ],
          [
           4,
           1
          ],
          [
           17,
           0
          ],
          [
           5,
           0
          ],
          [
           6,
           0
          ],
          [
           12,
           0
          ],
          [
           11,
           1
          ],
          [
           9,
           0
          ],
          [
           14,
           1
          ],
          [
           6,
           0
          ],
          [
           17,
           0
          ],
          [
           12,
           0
          ],
          [
           2,
           0
          ],
          [
           8,
           0
          ],
          [
           13,
           0
          ],
          [
           6,
           0
          ],
          [
           12,
           0
          ],
          [
           15,
           0
          ],
          [
           4,
           0
          ],
          [
           13,
           0
          ],
          [
           11,
           0
          ],
          [
           11,
           0
          ],
          [
           11,
           1
          ],
          [
           13,
           1
          ],
          [
           8,
           0
          ]
         ],
         "hovertemplate": "Race Time Type=Fastest Race Time<br>Country=%{x}<br>Race Time (s)=%{y}<br>DNFCount=%{customdata[0]}<br>DNSCount=%{customdata[1]}<extra></extra>",
         "legendgroup": "Fastest Race Time",
         "marker": {
          "color": "#87CEEB",
          "pattern": {
           "shape": ""
          }
         },
         "name": "Fastest Race Time",
         "offsetgroup": "Fastest Race Time",
         "orientation": "v",
         "showlegend": true,
         "textposition": "auto",
         "type": "bar",
         "x": [
          "Italy",
          "Belgium",
          "Saudi Arabia",
          "Great Britain",
          "Styria",
          "Austria",
          "Las Vegas",
          "Sakhir",
          "Qatar",
          "Australia",
          "France",
          "Miami",
          "Emilia Romagna",
          "Abu Dhabi",
          "Russia",
          "Brazil",
          "Spain",
          "Bahrain",
          "Canada",
          "Portugal",
          "Netherlands",
          "United States",
          "China",
          "Germany",
          "Azerbaijan",
          "Turkey",
          "Hungary",
          "Mexico",
          "Japan",
          "Monaco",
          "Singapore",
          "Tuscany"
         ],
         "xaxis": "x",
         "y": [
          4421,
          207,
          4843,
          4782,
          4939,
          4922,
          5348,
          5475,
          5068,
          4827,
          5071,
          5258,
          5125,
          5223,
          5441,
          5543,
          5278,
          5505,
          5347,
          5397,
          5405,
          5636,
          5526,
          5750,
          5513,
          5464,
          5704,
          5809,
          4907,
          5937,
          6397,
          8375
         ],
         "yaxis": "y"
        },
        {
         "alignmentgroup": "True",
         "customdata": [
          [
           16,
           2
          ],
          [
           11,
           1
          ],
          [
           14,
           2
          ],
          [
           18,
           2
          ],
          [
           5,
           0
          ],
          [
           15,
           0
          ],
          [
           3,
           0
          ],
          [
           3,
           0
          ],
          [
           4,
           1
          ],
          [
           17,
           0
          ],
          [
           5,
           0
          ],
          [
           6,
           0
          ],
          [
           12,
           0
          ],
          [
           11,
           1
          ],
          [
           9,
           0
          ],
          [
           14,
           1
          ],
          [
           6,
           0
          ],
          [
           17,
           0
          ],
          [
           12,
           0
          ],
          [
           2,
           0
          ],
          [
           8,
           0
          ],
          [
           13,
           0
          ],
          [
           6,
           0
          ],
          [
           12,
           0
          ],
          [
           15,
           0
          ],
          [
           4,
           0
          ],
          [
           13,
           0
          ],
          [
           11,
           0
          ],
          [
           11,
           0
          ],
          [
           11,
           1
          ],
          [
           13,
           1
          ],
          [
           8,
           0
          ]
         ],
         "hovertemplate": "Race Time Type=Slowest Race Time<br>Country=%{x}<br>Race Time (s)=%{y}<br>DNFCount=%{customdata[0]}<br>DNSCount=%{customdata[1]}<extra></extra>",
         "legendgroup": "Slowest Race Time",
         "marker": {
          "color": "lightcoral",
          "pattern": {
           "shape": ""
          }
         },
         "name": "Slowest Race Time",
         "offsetgroup": "Slowest Race Time",
         "orientation": "v",
         "showlegend": true,
         "textposition": "auto",
         "type": "bar",
         "x": [
          "Italy",
          "Belgium",
          "Saudi Arabia",
          "Great Britain",
          "Styria",
          "Austria",
          "Las Vegas",
          "Sakhir",
          "Qatar",
          "Australia",
          "France",
          "Miami",
          "Emilia Romagna",
          "Abu Dhabi",
          "Russia",
          "Brazil",
          "Spain",
          "Bahrain",
          "Canada",
          "Portugal",
          "Netherlands",
          "United States",
          "China",
          "Germany",
          "Azerbaijan",
          "Turkey",
          "Hungary",
          "Mexico",
          "Japan",
          "Monaco",
          "Singapore",
          "Tuscany"
         ],
         "xaxis": "x",
         "y": [
          6766.316999999999,
          6489.336,
          8345.128,
          8527.167000000001,
          6589.084000000001,
          6757.264999999998,
          5869.595,
          5801.462999999999,
          6502.387000000001,
          9204.243999999999,
          6585.616000000001,
          6410.020999999999,
          8381.636999999999,
          7137.042,
          6894.211000000001,
          7845.505,
          7244.348999999998,
          11534.176,
          6824.052,
          7119.906999999998,
          8965.452000000003,
          7098.025999999999,
          6934.996,
          6507.963000000001,
          8178.0149999999985,
          7071.243,
          8214.929,
          8078.337,
          12006.702,
          9861.456999999997,
          8155.0470000000005,
          8617.187999999998
         ],
         "yaxis": "y"
        }
       ],
       "layout": {
        "barmode": "relative",
        "legend": {
         "title": {
          "text": "Race Time Type"
         },
         "tracegroupgap": 0
        },
        "template": {
         "data": {
          "bar": [
           {
            "error_x": {
             "color": "#2a3f5f"
            },
            "error_y": {
             "color": "#2a3f5f"
            },
            "marker": {
             "line": {
              "color": "#E5ECF6",
              "width": 0.5
             },
             "pattern": {
              "fillmode": "overlay",
              "size": 10,
              "solidity": 0.2
             }
            },
            "type": "bar"
           }
          ],
          "barpolar": [
           {
            "marker": {
             "line": {
              "color": "#E5ECF6",
              "width": 0.5
             },
             "pattern": {
              "fillmode": "overlay",
              "size": 10,
              "solidity": 0.2
             }
            },
            "type": "barpolar"
           }
          ],
          "carpet": [
           {
            "aaxis": {
             "endlinecolor": "#2a3f5f",
             "gridcolor": "white",
             "linecolor": "white",
             "minorgridcolor": "white",
             "startlinecolor": "#2a3f5f"
            },
            "baxis": {
             "endlinecolor": "#2a3f5f",
             "gridcolor": "white",
             "linecolor": "white",
             "minorgridcolor": "white",
             "startlinecolor": "#2a3f5f"
            },
            "type": "carpet"
           }
          ],
          "choropleth": [
           {
            "colorbar": {
             "outlinewidth": 0,
             "ticks": ""
            },
            "type": "choropleth"
           }
          ],
          "contour": [
           {
            "colorbar": {
             "outlinewidth": 0,
             "ticks": ""
            },
            "colorscale": [
             [
              0,
              "#0d0887"
             ],
             [
              0.1111111111111111,
              "#46039f"
             ],
             [
              0.2222222222222222,
              "#7201a8"
             ],
             [
              0.3333333333333333,
              "#9c179e"
             ],
             [
              0.4444444444444444,
              "#bd3786"
             ],
             [
              0.5555555555555556,
              "#d8576b"
             ],
             [
              0.6666666666666666,
              "#ed7953"
             ],
             [
              0.7777777777777778,
              "#fb9f3a"
             ],
             [
              0.8888888888888888,
              "#fdca26"
             ],
             [
              1,
              "#f0f921"
             ]
            ],
            "type": "contour"
           }
          ],
          "contourcarpet": [
           {
            "colorbar": {
             "outlinewidth": 0,
             "ticks": ""
            },
            "type": "contourcarpet"
           }
          ],
          "heatmap": [
           {
            "colorbar": {
             "outlinewidth": 0,
             "ticks": ""
            },
            "colorscale": [
             [
              0,
              "#0d0887"
             ],
             [
              0.1111111111111111,
              "#46039f"
             ],
             [
              0.2222222222222222,
              "#7201a8"
             ],
             [
              0.3333333333333333,
              "#9c179e"
             ],
             [
              0.4444444444444444,
              "#bd3786"
             ],
             [
              0.5555555555555556,
              "#d8576b"
             ],
             [
              0.6666666666666666,
              "#ed7953"
             ],
             [
              0.7777777777777778,
              "#fb9f3a"
             ],
             [
              0.8888888888888888,
              "#fdca26"
             ],
             [
              1,
              "#f0f921"
             ]
            ],
            "type": "heatmap"
           }
          ],
          "heatmapgl": [
           {
            "colorbar": {
             "outlinewidth": 0,
             "ticks": ""
            },
            "colorscale": [
             [
              0,
              "#0d0887"
             ],
             [
              0.1111111111111111,
              "#46039f"
             ],
             [
              0.2222222222222222,
              "#7201a8"
             ],
             [
              0.3333333333333333,
              "#9c179e"
             ],
             [
              0.4444444444444444,
              "#bd3786"
             ],
             [
              0.5555555555555556,
              "#d8576b"
             ],
             [
              0.6666666666666666,
              "#ed7953"
             ],
             [
              0.7777777777777778,
              "#fb9f3a"
             ],
             [
              0.8888888888888888,
              "#fdca26"
             ],
             [
              1,
              "#f0f921"
             ]
            ],
            "type": "heatmapgl"
           }
          ],
          "histogram": [
           {
            "marker": {
             "pattern": {
              "fillmode": "overlay",
              "size": 10,
              "solidity": 0.2
             }
            },
            "type": "histogram"
           }
          ],
          "histogram2d": [
           {
            "colorbar": {
             "outlinewidth": 0,
             "ticks": ""
            },
            "colorscale": [
             [
              0,
              "#0d0887"
             ],
             [
              0.1111111111111111,
              "#46039f"
             ],
             [
              0.2222222222222222,
              "#7201a8"
             ],
             [
              0.3333333333333333,
              "#9c179e"
             ],
             [
              0.4444444444444444,
              "#bd3786"
             ],
             [
              0.5555555555555556,
              "#d8576b"
             ],
             [
              0.6666666666666666,
              "#ed7953"
             ],
             [
              0.7777777777777778,
              "#fb9f3a"
             ],
             [
              0.8888888888888888,
              "#fdca26"
             ],
             [
              1,
              "#f0f921"
             ]
            ],
            "type": "histogram2d"
           }
          ],
          "histogram2dcontour": [
           {
            "colorbar": {
             "outlinewidth": 0,
             "ticks": ""
            },
            "colorscale": [
             [
              0,
              "#0d0887"
             ],
             [
              0.1111111111111111,
              "#46039f"
             ],
             [
              0.2222222222222222,
              "#7201a8"
             ],
             [
              0.3333333333333333,
              "#9c179e"
             ],
             [
              0.4444444444444444,
              "#bd3786"
             ],
             [
              0.5555555555555556,
              "#d8576b"
             ],
             [
              0.6666666666666666,
              "#ed7953"
             ],
             [
              0.7777777777777778,
              "#fb9f3a"
             ],
             [
              0.8888888888888888,
              "#fdca26"
             ],
             [
              1,
              "#f0f921"
             ]
            ],
            "type": "histogram2dcontour"
           }
          ],
          "mesh3d": [
           {
            "colorbar": {
             "outlinewidth": 0,
             "ticks": ""
            },
            "type": "mesh3d"
           }
          ],
          "parcoords": [
           {
            "line": {
             "colorbar": {
              "outlinewidth": 0,
              "ticks": ""
             }
            },
            "type": "parcoords"
           }
          ],
          "pie": [
           {
            "automargin": true,
            "type": "pie"
           }
          ],
          "scatter": [
           {
            "fillpattern": {
             "fillmode": "overlay",
             "size": 10,
             "solidity": 0.2
            },
            "type": "scatter"
           }
          ],
          "scatter3d": [
           {
            "line": {
             "colorbar": {
              "outlinewidth": 0,
              "ticks": ""
             }
            },
            "marker": {
             "colorbar": {
              "outlinewidth": 0,
              "ticks": ""
             }
            },
            "type": "scatter3d"
           }
          ],
          "scattercarpet": [
           {
            "marker": {
             "colorbar": {
              "outlinewidth": 0,
              "ticks": ""
             }
            },
            "type": "scattercarpet"
           }
          ],
          "scattergeo": [
           {
            "marker": {
             "colorbar": {
              "outlinewidth": 0,
              "ticks": ""
             }
            },
            "type": "scattergeo"
           }
          ],
          "scattergl": [
           {
            "marker": {
             "colorbar": {
              "outlinewidth": 0,
              "ticks": ""
             }
            },
            "type": "scattergl"
           }
          ],
          "scattermapbox": [
           {
            "marker": {
             "colorbar": {
              "outlinewidth": 0,
              "ticks": ""
             }
            },
            "type": "scattermapbox"
           }
          ],
          "scatterpolar": [
           {
            "marker": {
             "colorbar": {
              "outlinewidth": 0,
              "ticks": ""
             }
            },
            "type": "scatterpolar"
           }
          ],
          "scatterpolargl": [
           {
            "marker": {
             "colorbar": {
              "outlinewidth": 0,
              "ticks": ""
             }
            },
            "type": "scatterpolargl"
           }
          ],
          "scatterternary": [
           {
            "marker": {
             "colorbar": {
              "outlinewidth": 0,
              "ticks": ""
             }
            },
            "type": "scatterternary"
           }
          ],
          "surface": [
           {
            "colorbar": {
             "outlinewidth": 0,
             "ticks": ""
            },
            "colorscale": [
             [
              0,
              "#0d0887"
             ],
             [
              0.1111111111111111,
              "#46039f"
             ],
             [
              0.2222222222222222,
              "#7201a8"
             ],
             [
              0.3333333333333333,
              "#9c179e"
             ],
             [
              0.4444444444444444,
              "#bd3786"
             ],
             [
              0.5555555555555556,
              "#d8576b"
             ],
             [
              0.6666666666666666,
              "#ed7953"
             ],
             [
              0.7777777777777778,
              "#fb9f3a"
             ],
             [
              0.8888888888888888,
              "#fdca26"
             ],
             [
              1,
              "#f0f921"
             ]
            ],
            "type": "surface"
           }
          ],
          "table": [
           {
            "cells": {
             "fill": {
              "color": "#EBF0F8"
             },
             "line": {
              "color": "white"
             }
            },
            "header": {
             "fill": {
              "color": "#C8D4E3"
             },
             "line": {
              "color": "white"
             }
            },
            "type": "table"
           }
          ]
         },
         "layout": {
          "annotationdefaults": {
           "arrowcolor": "#2a3f5f",
           "arrowhead": 0,
           "arrowwidth": 1
          },
          "autotypenumbers": "strict",
          "coloraxis": {
           "colorbar": {
            "outlinewidth": 0,
            "ticks": ""
           }
          },
          "colorscale": {
           "diverging": [
            [
             0,
             "#8e0152"
            ],
            [
             0.1,
             "#c51b7d"
            ],
            [
             0.2,
             "#de77ae"
            ],
            [
             0.3,
             "#f1b6da"
            ],
            [
             0.4,
             "#fde0ef"
            ],
            [
             0.5,
             "#f7f7f7"
            ],
            [
             0.6,
             "#e6f5d0"
            ],
            [
             0.7,
             "#b8e186"
            ],
            [
             0.8,
             "#7fbc41"
            ],
            [
             0.9,
             "#4d9221"
            ],
            [
             1,
             "#276419"
            ]
           ],
           "sequential": [
            [
             0,
             "#0d0887"
            ],
            [
             0.1111111111111111,
             "#46039f"
            ],
            [
             0.2222222222222222,
             "#7201a8"
            ],
            [
             0.3333333333333333,
             "#9c179e"
            ],
            [
             0.4444444444444444,
             "#bd3786"
            ],
            [
             0.5555555555555556,
             "#d8576b"
            ],
            [
             0.6666666666666666,
             "#ed7953"
            ],
            [
             0.7777777777777778,
             "#fb9f3a"
            ],
            [
             0.8888888888888888,
             "#fdca26"
            ],
            [
             1,
             "#f0f921"
            ]
           ],
           "sequentialminus": [
            [
             0,
             "#0d0887"
            ],
            [
             0.1111111111111111,
             "#46039f"
            ],
            [
             0.2222222222222222,
             "#7201a8"
            ],
            [
             0.3333333333333333,
             "#9c179e"
            ],
            [
             0.4444444444444444,
             "#bd3786"
            ],
            [
             0.5555555555555556,
             "#d8576b"
            ],
            [
             0.6666666666666666,
             "#ed7953"
            ],
            [
             0.7777777777777778,
             "#fb9f3a"
            ],
            [
             0.8888888888888888,
             "#fdca26"
            ],
            [
             1,
             "#f0f921"
            ]
           ]
          },
          "colorway": [
           "#636efa",
           "#EF553B",
           "#00cc96",
           "#ab63fa",
           "#FFA15A",
           "#19d3f3",
           "#FF6692",
           "#B6E880",
           "#FF97FF",
           "#FECB52"
          ],
          "font": {
           "color": "#2a3f5f"
          },
          "geo": {
           "bgcolor": "white",
           "lakecolor": "white",
           "landcolor": "#E5ECF6",
           "showlakes": true,
           "showland": true,
           "subunitcolor": "white"
          },
          "hoverlabel": {
           "align": "left"
          },
          "hovermode": "closest",
          "mapbox": {
           "style": "light"
          },
          "paper_bgcolor": "white",
          "plot_bgcolor": "#E5ECF6",
          "polar": {
           "angularaxis": {
            "gridcolor": "white",
            "linecolor": "white",
            "ticks": ""
           },
           "bgcolor": "#E5ECF6",
           "radialaxis": {
            "gridcolor": "white",
            "linecolor": "white",
            "ticks": ""
           }
          },
          "scene": {
           "xaxis": {
            "backgroundcolor": "#E5ECF6",
            "gridcolor": "white",
            "gridwidth": 2,
            "linecolor": "white",
            "showbackground": true,
            "ticks": "",
            "zerolinecolor": "white"
           },
           "yaxis": {
            "backgroundcolor": "#E5ECF6",
            "gridcolor": "white",
            "gridwidth": 2,
            "linecolor": "white",
            "showbackground": true,
            "ticks": "",
            "zerolinecolor": "white"
           },
           "zaxis": {
            "backgroundcolor": "#E5ECF6",
            "gridcolor": "white",
            "gridwidth": 2,
            "linecolor": "white",
            "showbackground": true,
            "ticks": "",
            "zerolinecolor": "white"
           }
          },
          "shapedefaults": {
           "line": {
            "color": "#2a3f5f"
           }
          },
          "ternary": {
           "aaxis": {
            "gridcolor": "white",
            "linecolor": "white",
            "ticks": ""
           },
           "baxis": {
            "gridcolor": "white",
            "linecolor": "white",
            "ticks": ""
           },
           "bgcolor": "#E5ECF6",
           "caxis": {
            "gridcolor": "white",
            "linecolor": "white",
            "ticks": ""
           }
          },
          "title": {
           "x": 0.05
          },
          "xaxis": {
           "automargin": true,
           "gridcolor": "white",
           "linecolor": "white",
           "ticks": "",
           "title": {
            "standoff": 15
           },
           "zerolinecolor": "white",
           "zerolinewidth": 2
          },
          "yaxis": {
           "automargin": true,
           "gridcolor": "white",
           "linecolor": "white",
           "ticks": "",
           "title": {
            "standoff": 15
           },
           "zerolinecolor": "white",
           "zerolinewidth": 2
          }
         }
        },
        "title": {
         "text": "Fastest vs. Slowest Race Times by Country",
         "x": 0.5
        },
        "xaxis": {
         "anchor": "y",
         "domain": [
          0,
          1
         ],
         "title": {
          "text": "Country"
         }
        },
        "yaxis": {
         "anchor": "x",
         "domain": [
          0,
          1
         ],
         "title": {
          "text": "Race Time (s)"
         }
        }
       }
      }
     },
     "metadata": {},
     "output_type": "display_data"
    }
   ],
   "source": [
    "\n",
    "track_stats = track_stats.rename(columns={'FastestRaceTime': 'Fastest Race Time', 'SlowestRaceTime': 'Slowest Race Time'})\n",
    "\n",
    "# Define adjusted colors for the bars\n",
    "adjusted_colors = {\n",
    "    'Fastest Race Time': '#87CEEB',  # SkyBlue color\n",
    "    'Slowest Race Time': 'lightcoral'\n",
    "}\n",
    "\n",
    "fig = px.bar(track_stats, x='Country', y=['Fastest Race Time', 'Slowest Race Time'],\n",
    "             labels={'value': 'Race Time (s)', 'variable': 'Race Time Type'},\n",
    "             title='Fastest vs. Slowest Race Times by Country',\n",
    "             hover_data=['DNFCount', 'DNSCount'],\n",
    "             color_discrete_map=adjusted_colors)\n",
    "\n",
    "# Center the title\n",
    "fig.update_layout(title={'x': 0.5})\n",
    "fig.show()\n"
   ]
  },
  {
   "cell_type": "code",
   "execution_count": 16,
   "metadata": {},
   "outputs": [
    {
     "data": {
      "application/vnd.plotly.v1+json": {
       "config": {
        "plotlyServerURL": "https://plot.ly"
       },
       "data": [
        {
         "hovertemplate": "<b>%{hovertext}</b><br><br>Did Not Finish Rate=%{x}<br>Did Not Start Rate=%{y}<br>Number of Races=%{marker.size}<br>Average Race Time (s)=%{marker.color}<extra></extra>",
         "hovertext": [
          "Italy",
          "Belgium",
          "Saudi Arabia",
          "Great Britain",
          "Styria",
          "Austria",
          "Las Vegas",
          "Sakhir",
          "Qatar",
          "Australia",
          "France",
          "Miami",
          "Emilia Romagna",
          "Abu Dhabi",
          "Russia",
          "Brazil",
          "Spain",
          "Bahrain",
          "Canada",
          "Portugal",
          "Netherlands",
          "United States",
          "China",
          "Germany",
          "Azerbaijan",
          "Turkey",
          "Hungary",
          "Mexico",
          "Japan",
          "Monaco",
          "Singapore",
          "Tuscany"
         ],
         "legendgroup": "",
         "marker": {
          "color": [
           4968.9645,
           5222.8915000000015,
           5370.210999999999,
           5449.089,
           5469.084000000001,
           5478.783,
           5482.687,
           5585.617999999999,
           5622.387000000001,
           5673.972,
           5687.500000000001,
           5718.658000000001,
           5751.674999999999,
           5833.011999999999,
           5952.013,
           5980.407999999999,
           5981.4585,
           6054.897000000001,
           6059.210999999999,
           6083.450499999999,
           6137.358999999999,
           6177.724,
           6178.3845,
           6186.463999999999,
           6219.254,
           6253.6325,
           6424.964,
           6539.636,
           6864,
           6994.106,
           7181.526999999998,
           8443.771999999997
          ],
          "coloraxis": "coloraxis",
          "size": [
           5,
           6,
           4,
           6,
           2,
           6,
           1,
           1,
           2,
           4,
           3,
           3,
           4,
           5,
           3,
           4,
           6,
           6,
           4,
           2,
           3,
           4,
           2,
           2,
           4,
           2,
           6,
           4,
           4,
           5,
           3,
           1
          ],
          "sizemode": "area",
          "sizeref": 0.015,
          "symbol": "circle"
         },
         "mode": "markers",
         "name": "",
         "orientation": "v",
         "showlegend": false,
         "type": "scatter",
         "x": [
          0.16,
          0.09166666666666666,
          0.175,
          0.15,
          0.125,
          0.125,
          0.15,
          0.15,
          0.1,
          0.2125,
          0.08333333333333333,
          0.1,
          0.15,
          0.11,
          0.15,
          0.175,
          0.05,
          0.14166666666666666,
          0.15,
          0.05,
          0.13333333333333333,
          0.1625,
          0.15,
          0.3,
          0.1875,
          0.1,
          0.10833333333333334,
          0.1375,
          0.1375,
          0.11,
          0.21666666666666667,
          0.4
         ],
         "xaxis": "x",
         "y": [
          0.02,
          0.008333333333333333,
          0.025,
          0.016666666666666666,
          0,
          0,
          0,
          0,
          0.025,
          0,
          0,
          0,
          0,
          0.01,
          0,
          0.0125,
          0,
          0,
          0,
          0,
          0,
          0,
          0,
          0,
          0,
          0,
          0,
          0,
          0,
          0.01,
          0.016666666666666666,
          0
         ],
         "yaxis": "y"
        }
       ],
       "layout": {
        "coloraxis": {
         "colorbar": {
          "title": {
           "text": "Average Race Time (s)"
          }
         },
         "colorscale": [
          [
           0,
           "#0d0887"
          ],
          [
           0.1111111111111111,
           "#46039f"
          ],
          [
           0.2222222222222222,
           "#7201a8"
          ],
          [
           0.3333333333333333,
           "#9c179e"
          ],
          [
           0.4444444444444444,
           "#bd3786"
          ],
          [
           0.5555555555555556,
           "#d8576b"
          ],
          [
           0.6666666666666666,
           "#ed7953"
          ],
          [
           0.7777777777777778,
           "#fb9f3a"
          ],
          [
           0.8888888888888888,
           "#fdca26"
          ],
          [
           1,
           "#f0f921"
          ]
         ]
        },
        "legend": {
         "itemsizing": "constant",
         "tracegroupgap": 0
        },
        "template": {
         "data": {
          "bar": [
           {
            "error_x": {
             "color": "#2a3f5f"
            },
            "error_y": {
             "color": "#2a3f5f"
            },
            "marker": {
             "line": {
              "color": "#E5ECF6",
              "width": 0.5
             },
             "pattern": {
              "fillmode": "overlay",
              "size": 10,
              "solidity": 0.2
             }
            },
            "type": "bar"
           }
          ],
          "barpolar": [
           {
            "marker": {
             "line": {
              "color": "#E5ECF6",
              "width": 0.5
             },
             "pattern": {
              "fillmode": "overlay",
              "size": 10,
              "solidity": 0.2
             }
            },
            "type": "barpolar"
           }
          ],
          "carpet": [
           {
            "aaxis": {
             "endlinecolor": "#2a3f5f",
             "gridcolor": "white",
             "linecolor": "white",
             "minorgridcolor": "white",
             "startlinecolor": "#2a3f5f"
            },
            "baxis": {
             "endlinecolor": "#2a3f5f",
             "gridcolor": "white",
             "linecolor": "white",
             "minorgridcolor": "white",
             "startlinecolor": "#2a3f5f"
            },
            "type": "carpet"
           }
          ],
          "choropleth": [
           {
            "colorbar": {
             "outlinewidth": 0,
             "ticks": ""
            },
            "type": "choropleth"
           }
          ],
          "contour": [
           {
            "colorbar": {
             "outlinewidth": 0,
             "ticks": ""
            },
            "colorscale": [
             [
              0,
              "#0d0887"
             ],
             [
              0.1111111111111111,
              "#46039f"
             ],
             [
              0.2222222222222222,
              "#7201a8"
             ],
             [
              0.3333333333333333,
              "#9c179e"
             ],
             [
              0.4444444444444444,
              "#bd3786"
             ],
             [
              0.5555555555555556,
              "#d8576b"
             ],
             [
              0.6666666666666666,
              "#ed7953"
             ],
             [
              0.7777777777777778,
              "#fb9f3a"
             ],
             [
              0.8888888888888888,
              "#fdca26"
             ],
             [
              1,
              "#f0f921"
             ]
            ],
            "type": "contour"
           }
          ],
          "contourcarpet": [
           {
            "colorbar": {
             "outlinewidth": 0,
             "ticks": ""
            },
            "type": "contourcarpet"
           }
          ],
          "heatmap": [
           {
            "colorbar": {
             "outlinewidth": 0,
             "ticks": ""
            },
            "colorscale": [
             [
              0,
              "#0d0887"
             ],
             [
              0.1111111111111111,
              "#46039f"
             ],
             [
              0.2222222222222222,
              "#7201a8"
             ],
             [
              0.3333333333333333,
              "#9c179e"
             ],
             [
              0.4444444444444444,
              "#bd3786"
             ],
             [
              0.5555555555555556,
              "#d8576b"
             ],
             [
              0.6666666666666666,
              "#ed7953"
             ],
             [
              0.7777777777777778,
              "#fb9f3a"
             ],
             [
              0.8888888888888888,
              "#fdca26"
             ],
             [
              1,
              "#f0f921"
             ]
            ],
            "type": "heatmap"
           }
          ],
          "heatmapgl": [
           {
            "colorbar": {
             "outlinewidth": 0,
             "ticks": ""
            },
            "colorscale": [
             [
              0,
              "#0d0887"
             ],
             [
              0.1111111111111111,
              "#46039f"
             ],
             [
              0.2222222222222222,
              "#7201a8"
             ],
             [
              0.3333333333333333,
              "#9c179e"
             ],
             [
              0.4444444444444444,
              "#bd3786"
             ],
             [
              0.5555555555555556,
              "#d8576b"
             ],
             [
              0.6666666666666666,
              "#ed7953"
             ],
             [
              0.7777777777777778,
              "#fb9f3a"
             ],
             [
              0.8888888888888888,
              "#fdca26"
             ],
             [
              1,
              "#f0f921"
             ]
            ],
            "type": "heatmapgl"
           }
          ],
          "histogram": [
           {
            "marker": {
             "pattern": {
              "fillmode": "overlay",
              "size": 10,
              "solidity": 0.2
             }
            },
            "type": "histogram"
           }
          ],
          "histogram2d": [
           {
            "colorbar": {
             "outlinewidth": 0,
             "ticks": ""
            },
            "colorscale": [
             [
              0,
              "#0d0887"
             ],
             [
              0.1111111111111111,
              "#46039f"
             ],
             [
              0.2222222222222222,
              "#7201a8"
             ],
             [
              0.3333333333333333,
              "#9c179e"
             ],
             [
              0.4444444444444444,
              "#bd3786"
             ],
             [
              0.5555555555555556,
              "#d8576b"
             ],
             [
              0.6666666666666666,
              "#ed7953"
             ],
             [
              0.7777777777777778,
              "#fb9f3a"
             ],
             [
              0.8888888888888888,
              "#fdca26"
             ],
             [
              1,
              "#f0f921"
             ]
            ],
            "type": "histogram2d"
           }
          ],
          "histogram2dcontour": [
           {
            "colorbar": {
             "outlinewidth": 0,
             "ticks": ""
            },
            "colorscale": [
             [
              0,
              "#0d0887"
             ],
             [
              0.1111111111111111,
              "#46039f"
             ],
             [
              0.2222222222222222,
              "#7201a8"
             ],
             [
              0.3333333333333333,
              "#9c179e"
             ],
             [
              0.4444444444444444,
              "#bd3786"
             ],
             [
              0.5555555555555556,
              "#d8576b"
             ],
             [
              0.6666666666666666,
              "#ed7953"
             ],
             [
              0.7777777777777778,
              "#fb9f3a"
             ],
             [
              0.8888888888888888,
              "#fdca26"
             ],
             [
              1,
              "#f0f921"
             ]
            ],
            "type": "histogram2dcontour"
           }
          ],
          "mesh3d": [
           {
            "colorbar": {
             "outlinewidth": 0,
             "ticks": ""
            },
            "type": "mesh3d"
           }
          ],
          "parcoords": [
           {
            "line": {
             "colorbar": {
              "outlinewidth": 0,
              "ticks": ""
             }
            },
            "type": "parcoords"
           }
          ],
          "pie": [
           {
            "automargin": true,
            "type": "pie"
           }
          ],
          "scatter": [
           {
            "fillpattern": {
             "fillmode": "overlay",
             "size": 10,
             "solidity": 0.2
            },
            "type": "scatter"
           }
          ],
          "scatter3d": [
           {
            "line": {
             "colorbar": {
              "outlinewidth": 0,
              "ticks": ""
             }
            },
            "marker": {
             "colorbar": {
              "outlinewidth": 0,
              "ticks": ""
             }
            },
            "type": "scatter3d"
           }
          ],
          "scattercarpet": [
           {
            "marker": {
             "colorbar": {
              "outlinewidth": 0,
              "ticks": ""
             }
            },
            "type": "scattercarpet"
           }
          ],
          "scattergeo": [
           {
            "marker": {
             "colorbar": {
              "outlinewidth": 0,
              "ticks": ""
             }
            },
            "type": "scattergeo"
           }
          ],
          "scattergl": [
           {
            "marker": {
             "colorbar": {
              "outlinewidth": 0,
              "ticks": ""
             }
            },
            "type": "scattergl"
           }
          ],
          "scattermapbox": [
           {
            "marker": {
             "colorbar": {
              "outlinewidth": 0,
              "ticks": ""
             }
            },
            "type": "scattermapbox"
           }
          ],
          "scatterpolar": [
           {
            "marker": {
             "colorbar": {
              "outlinewidth": 0,
              "ticks": ""
             }
            },
            "type": "scatterpolar"
           }
          ],
          "scatterpolargl": [
           {
            "marker": {
             "colorbar": {
              "outlinewidth": 0,
              "ticks": ""
             }
            },
            "type": "scatterpolargl"
           }
          ],
          "scatterternary": [
           {
            "marker": {
             "colorbar": {
              "outlinewidth": 0,
              "ticks": ""
             }
            },
            "type": "scatterternary"
           }
          ],
          "surface": [
           {
            "colorbar": {
             "outlinewidth": 0,
             "ticks": ""
            },
            "colorscale": [
             [
              0,
              "#0d0887"
             ],
             [
              0.1111111111111111,
              "#46039f"
             ],
             [
              0.2222222222222222,
              "#7201a8"
             ],
             [
              0.3333333333333333,
              "#9c179e"
             ],
             [
              0.4444444444444444,
              "#bd3786"
             ],
             [
              0.5555555555555556,
              "#d8576b"
             ],
             [
              0.6666666666666666,
              "#ed7953"
             ],
             [
              0.7777777777777778,
              "#fb9f3a"
             ],
             [
              0.8888888888888888,
              "#fdca26"
             ],
             [
              1,
              "#f0f921"
             ]
            ],
            "type": "surface"
           }
          ],
          "table": [
           {
            "cells": {
             "fill": {
              "color": "#EBF0F8"
             },
             "line": {
              "color": "white"
             }
            },
            "header": {
             "fill": {
              "color": "#C8D4E3"
             },
             "line": {
              "color": "white"
             }
            },
            "type": "table"
           }
          ]
         },
         "layout": {
          "annotationdefaults": {
           "arrowcolor": "#2a3f5f",
           "arrowhead": 0,
           "arrowwidth": 1
          },
          "autotypenumbers": "strict",
          "coloraxis": {
           "colorbar": {
            "outlinewidth": 0,
            "ticks": ""
           }
          },
          "colorscale": {
           "diverging": [
            [
             0,
             "#8e0152"
            ],
            [
             0.1,
             "#c51b7d"
            ],
            [
             0.2,
             "#de77ae"
            ],
            [
             0.3,
             "#f1b6da"
            ],
            [
             0.4,
             "#fde0ef"
            ],
            [
             0.5,
             "#f7f7f7"
            ],
            [
             0.6,
             "#e6f5d0"
            ],
            [
             0.7,
             "#b8e186"
            ],
            [
             0.8,
             "#7fbc41"
            ],
            [
             0.9,
             "#4d9221"
            ],
            [
             1,
             "#276419"
            ]
           ],
           "sequential": [
            [
             0,
             "#0d0887"
            ],
            [
             0.1111111111111111,
             "#46039f"
            ],
            [
             0.2222222222222222,
             "#7201a8"
            ],
            [
             0.3333333333333333,
             "#9c179e"
            ],
            [
             0.4444444444444444,
             "#bd3786"
            ],
            [
             0.5555555555555556,
             "#d8576b"
            ],
            [
             0.6666666666666666,
             "#ed7953"
            ],
            [
             0.7777777777777778,
             "#fb9f3a"
            ],
            [
             0.8888888888888888,
             "#fdca26"
            ],
            [
             1,
             "#f0f921"
            ]
           ],
           "sequentialminus": [
            [
             0,
             "#0d0887"
            ],
            [
             0.1111111111111111,
             "#46039f"
            ],
            [
             0.2222222222222222,
             "#7201a8"
            ],
            [
             0.3333333333333333,
             "#9c179e"
            ],
            [
             0.4444444444444444,
             "#bd3786"
            ],
            [
             0.5555555555555556,
             "#d8576b"
            ],
            [
             0.6666666666666666,
             "#ed7953"
            ],
            [
             0.7777777777777778,
             "#fb9f3a"
            ],
            [
             0.8888888888888888,
             "#fdca26"
            ],
            [
             1,
             "#f0f921"
            ]
           ]
          },
          "colorway": [
           "#636efa",
           "#EF553B",
           "#00cc96",
           "#ab63fa",
           "#FFA15A",
           "#19d3f3",
           "#FF6692",
           "#B6E880",
           "#FF97FF",
           "#FECB52"
          ],
          "font": {
           "color": "#2a3f5f"
          },
          "geo": {
           "bgcolor": "white",
           "lakecolor": "white",
           "landcolor": "#E5ECF6",
           "showlakes": true,
           "showland": true,
           "subunitcolor": "white"
          },
          "hoverlabel": {
           "align": "left"
          },
          "hovermode": "closest",
          "mapbox": {
           "style": "light"
          },
          "paper_bgcolor": "white",
          "plot_bgcolor": "#E5ECF6",
          "polar": {
           "angularaxis": {
            "gridcolor": "white",
            "linecolor": "white",
            "ticks": ""
           },
           "bgcolor": "#E5ECF6",
           "radialaxis": {
            "gridcolor": "white",
            "linecolor": "white",
            "ticks": ""
           }
          },
          "scene": {
           "xaxis": {
            "backgroundcolor": "#E5ECF6",
            "gridcolor": "white",
            "gridwidth": 2,
            "linecolor": "white",
            "showbackground": true,
            "ticks": "",
            "zerolinecolor": "white"
           },
           "yaxis": {
            "backgroundcolor": "#E5ECF6",
            "gridcolor": "white",
            "gridwidth": 2,
            "linecolor": "white",
            "showbackground": true,
            "ticks": "",
            "zerolinecolor": "white"
           },
           "zaxis": {
            "backgroundcolor": "#E5ECF6",
            "gridcolor": "white",
            "gridwidth": 2,
            "linecolor": "white",
            "showbackground": true,
            "ticks": "",
            "zerolinecolor": "white"
           }
          },
          "shapedefaults": {
           "line": {
            "color": "#2a3f5f"
           }
          },
          "ternary": {
           "aaxis": {
            "gridcolor": "white",
            "linecolor": "white",
            "ticks": ""
           },
           "baxis": {
            "gridcolor": "white",
            "linecolor": "white",
            "ticks": ""
           },
           "bgcolor": "#E5ECF6",
           "caxis": {
            "gridcolor": "white",
            "linecolor": "white",
            "ticks": ""
           }
          },
          "title": {
           "x": 0.05
          },
          "xaxis": {
           "automargin": true,
           "gridcolor": "white",
           "linecolor": "white",
           "ticks": "",
           "title": {
            "standoff": 15
           },
           "zerolinecolor": "white",
           "zerolinewidth": 2
          },
          "yaxis": {
           "automargin": true,
           "gridcolor": "white",
           "linecolor": "white",
           "ticks": "",
           "title": {
            "standoff": 15
           },
           "zerolinecolor": "white",
           "zerolinewidth": 2
          }
         }
        },
        "title": {
         "text": "DNF Rate vs. DNS Rate",
         "x": 0.5
        },
        "xaxis": {
         "anchor": "y",
         "domain": [
          0,
          1
         ],
         "title": {
          "text": "Did Not Finish Rate"
         }
        },
        "yaxis": {
         "anchor": "x",
         "domain": [
          0,
          1
         ],
         "title": {
          "text": "Did Not Start Rate"
         }
        }
       }
      }
     },
     "metadata": {},
     "output_type": "display_data"
    }
   ],
   "source": [
    "\n",
    "fig = px.scatter(track_stats, x='DNFRate', y='DNSRate', \n",
    "                 size='RaceCount', color='AvgRaceTime',\n",
    "                 hover_name='Country', \n",
    "                 labels={'DNFRate': 'Did Not Finish Rate', \n",
    "                         'DNSRate': 'Did Not Start Rate',\n",
    "                         'RaceCount': 'Number of Races',\n",
    "                         'AvgRaceTime': 'Average Race Time (s)'},\n",
    "                 title='DNF Rate vs. DNS Rate')\n",
    "\n",
    "\n",
    "fig.update_layout(title={'x': 0.5})\n",
    "fig.show()\n"
   ]
  },
  {
   "cell_type": "markdown",
   "metadata": {},
   "source": [
    "## Team Performance Analysis: Qualifying Race"
   ]
  },
  {
   "cell_type": "code",
   "execution_count": 17,
   "metadata": {},
   "outputs": [
    {
     "name": "stdout",
     "output_type": "stream",
     "text": [
      "\n",
      "Qualifying Analysis for Mercedes:\n",
      "========================================\n",
      "Overall Statistics:\n",
      "Total Qualifying Sessions: 117\n",
      "Total Pole Positions: 38\n",
      "Total Front Row Starts: 84\n",
      "Total Top 5 Starts: 156\n",
      "Total Q3 Appearances: 217\n",
      "Best Qualifying Position: 1\n",
      "\n",
      "Pole Positions by Year and Driver:\n",
      "+--------+-----------------+------------------+\n",
      "| Year   | Driver          |   Pole Positions |\n",
      "+========+=================+==================+\n",
      "| 2019   | Lewis Hamilton  |                5 |\n",
      "+--------+-----------------+------------------+\n",
      "|        | Valtteri Bottas |                5 |\n",
      "+--------+-----------------+------------------+\n",
      "| 2020   | Lewis Hamilton  |               10 |\n",
      "+--------+-----------------+------------------+\n",
      "|        | Valtteri Bottas |                4 |\n",
      "+--------+-----------------+------------------+\n",
      "| 2021   | Lewis Hamilton  |                7 |\n",
      "+--------+-----------------+------------------+\n",
      "|        | Valtteri Bottas |                3 |\n",
      "+--------+-----------------+------------------+\n",
      "| 2022   | George Russell  |                1 |\n",
      "+--------+-----------------+------------------+\n",
      "| 2023   | Lewis Hamilton  |                1 |\n",
      "+--------+-----------------+------------------+\n",
      "| 2024   | George Russell  |                2 |\n",
      "+--------+-----------------+------------------+\n",
      "\n",
      "Top 5 Best Performing Tracks in Qualifying:\n",
      "+---------------+------------------+--------------------+\n",
      "| Track         |   Pole Positions |   Front Row Starts |\n",
      "+===============+==================+====================+\n",
      "| Great Britain |                4 |                  7 |\n",
      "+---------------+------------------+--------------------+\n",
      "| Hungary       |                4 |                  7 |\n",
      "+---------------+------------------+--------------------+\n",
      "| Spain         |                3 |                  5 |\n",
      "+---------------+------------------+--------------------+\n",
      "| Italy         |                2 |                  5 |\n",
      "+---------------+------------------+--------------------+\n",
      "| Portugal      |                2 |                  4 |\n",
      "+---------------+------------------+--------------------+\n",
      "\n",
      "Qualifying Analysis for Ferrari:\n",
      "========================================\n",
      "Overall Statistics:\n",
      "Total Qualifying Sessions: 117\n",
      "Total Pole Positions: 28\n",
      "Total Front Row Starts: 58\n",
      "Total Top 5 Starts: 142\n",
      "Total Q3 Appearances: 192\n",
      "Best Qualifying Position: 1\n",
      "\n",
      "Pole Positions by Year and Driver:\n",
      "+--------+------------------+------------------+\n",
      "| Year   | Driver           |   Pole Positions |\n",
      "+========+==================+==================+\n",
      "| 2019   | Charles Leclerc  |                6 |\n",
      "+--------+------------------+------------------+\n",
      "|        | Sebastian Vettel |                2 |\n",
      "+--------+------------------+------------------+\n",
      "| 2021   | Charles Leclerc  |                2 |\n",
      "+--------+------------------+------------------+\n",
      "| 2022   | Charles Leclerc  |                9 |\n",
      "+--------+------------------+------------------+\n",
      "|        | Carlos Sainz     |                2 |\n",
      "+--------+------------------+------------------+\n",
      "| 2023   | Charles Leclerc  |                4 |\n",
      "+--------+------------------+------------------+\n",
      "|        | Carlos Sainz     |                2 |\n",
      "+--------+------------------+------------------+\n",
      "| 2024   | Charles Leclerc  |                1 |\n",
      "+--------+------------------+------------------+\n",
      "\n",
      "Top 5 Best Performing Tracks in Qualifying:\n",
      "+------------+------------------+--------------------+\n",
      "| Track      |   Pole Positions |   Front Row Starts |\n",
      "+============+==================+====================+\n",
      "| Monaco     |                3 |                  4 |\n",
      "+------------+------------------+--------------------+\n",
      "| Azerbaijan |                3 |                  3 |\n",
      "+------------+------------------+--------------------+\n",
      "| Italy      |                3 |                  3 |\n",
      "+------------+------------------+--------------------+\n",
      "| Singapore  |                3 |                  3 |\n",
      "+------------+------------------+--------------------+\n",
      "| Bahrain    |                2 |                  4 |\n",
      "+------------+------------------+--------------------+\n",
      "\n",
      "Qualifying Analysis for Red Bull:\n",
      "========================================\n",
      "Overall Statistics:\n",
      "Total Qualifying Sessions: 117\n",
      "Total Pole Positions: 46\n",
      "Total Front Row Starts: 73\n",
      "Total Top 5 Starts: 162\n",
      "Total Q3 Appearances: 200\n",
      "Best Qualifying Position: 1\n",
      "\n",
      "Pole Positions by Year and Driver:\n",
      "+--------+----------------+------------------+\n",
      "| Year   | Driver         |   Pole Positions |\n",
      "+========+================+==================+\n",
      "| 2019   | Max Verstappen |                3 |\n",
      "+--------+----------------+------------------+\n",
      "| 2020   | Max Verstappen |                1 |\n",
      "+--------+----------------+------------------+\n",
      "| 2021   | Max Verstappen |                9 |\n",
      "+--------+----------------+------------------+\n",
      "| 2022   | Max Verstappen |                8 |\n",
      "+--------+----------------+------------------+\n",
      "|        | Sergio Perez   |                1 |\n",
      "+--------+----------------+------------------+\n",
      "| 2023   | Max Verstappen |               13 |\n",
      "+--------+----------------+------------------+\n",
      "|        | Sergio Perez   |                2 |\n",
      "+--------+----------------+------------------+\n",
      "| 2024   | Max Verstappen |                9 |\n",
      "+--------+----------------+------------------+\n",
      "\n",
      "Top 5 Best Performing Tracks in Qualifying:\n",
      "+-----------+------------------+--------------------+\n",
      "| Track     |   Pole Positions |   Front Row Starts |\n",
      "+===========+==================+====================+\n",
      "| Abu Dhabi |                4 |                  5 |\n",
      "+-----------+------------------+--------------------+\n",
      "| Austria   |                4 |                  4 |\n",
      "+-----------+------------------+--------------------+\n",
      "| Belgium   |                4 |                  4 |\n",
      "+-----------+------------------+--------------------+\n",
      "| Bahrain   |                3 |                  5 |\n",
      "+-----------+------------------+--------------------+\n",
      "| Brazil    |                3 |                  4 |\n",
      "+-----------+------------------+--------------------+\n",
      "\n",
      "Qualifying Analysis for Haas:\n",
      "========================================\n",
      "Overall Statistics:\n",
      "Total Qualifying Sessions: 117\n",
      "Total Pole Positions: 1\n",
      "Total Front Row Starts: 2\n",
      "Total Top 5 Starts: 6\n",
      "Total Q3 Appearances: 46\n",
      "Best Qualifying Position: 1\n",
      "\n",
      "Pole Positions by Year and Driver:\n",
      "+--------+-----------------+------------------+\n",
      "|   Year | Driver          |   Pole Positions |\n",
      "+========+=================+==================+\n",
      "|   2022 | Kevin Magnussen |                1 |\n",
      "+--------+-----------------+------------------+\n",
      "\n",
      "Top 5 Best Performing Tracks in Qualifying:\n",
      "+-----------+------------------+--------------------+\n",
      "| Track     |   Pole Positions |   Front Row Starts |\n",
      "+===========+==================+====================+\n",
      "| Brazil    |                1 |                  1 |\n",
      "+-----------+------------------+--------------------+\n",
      "| Canada    |                0 |                  1 |\n",
      "+-----------+------------------+--------------------+\n",
      "| Abu Dhabi |                0 |                  0 |\n",
      "+-----------+------------------+--------------------+\n",
      "| Australia |                0 |                  0 |\n",
      "+-----------+------------------+--------------------+\n",
      "| Austria   |                0 |                  0 |\n",
      "+-----------+------------------+--------------------+\n",
      "\n",
      "Qualifying Analysis for McLaren:\n",
      "========================================\n",
      "Overall Statistics:\n",
      "Total Qualifying Sessions: 117\n",
      "Total Pole Positions: 3\n",
      "Total Front Row Starts: 12\n",
      "Total Top 5 Starts: 53\n",
      "Total Q3 Appearances: 173\n",
      "Best Qualifying Position: 1\n",
      "\n",
      "Pole Positions by Year and Driver:\n",
      "+--------+--------------+------------------+\n",
      "|   Year | Driver       |   Pole Positions |\n",
      "+========+==============+==================+\n",
      "|   2021 | Lando Norris |                1 |\n",
      "+--------+--------------+------------------+\n",
      "|   2024 | Lando Norris |                2 |\n",
      "+--------+--------------+------------------+\n",
      "\n",
      "Top 5 Best Performing Tracks in Qualifying:\n",
      "+----------------+------------------+--------------------+\n",
      "| Track          |   Pole Positions |   Front Row Starts |\n",
      "+================+==================+====================+\n",
      "| Hungary        |                1 |                  2 |\n",
      "+----------------+------------------+--------------------+\n",
      "| Russia         |                1 |                  1 |\n",
      "+----------------+------------------+--------------------+\n",
      "| Spain          |                1 |                  1 |\n",
      "+----------------+------------------+--------------------+\n",
      "| Austria        |                0 |                  2 |\n",
      "+----------------+------------------+--------------------+\n",
      "| Emilia Romagna |                0 |                  1 |\n",
      "+----------------+------------------+--------------------+\n",
      "\n",
      "Qualifying Analysis for Kick Sauber:\n",
      "========================================\n",
      "Overall Statistics:\n",
      "Total Qualifying Sessions: 117\n",
      "Total Pole Positions: 0\n",
      "Total Front Row Starts: 0\n",
      "Total Top 5 Starts: 3\n",
      "Total Q3 Appearances: 36\n",
      "Best Qualifying Position: 5\n",
      "\n",
      "Top 5 Best Performing Tracks in Qualifying:\n",
      "+------------+------------------+--------------------+\n",
      "| Track      |   Pole Positions |   Front Row Starts |\n",
      "+============+==================+====================+\n",
      "| Abu Dhabi  |                0 |                  0 |\n",
      "+------------+------------------+--------------------+\n",
      "| Australia  |                0 |                  0 |\n",
      "+------------+------------------+--------------------+\n",
      "| Austria    |                0 |                  0 |\n",
      "+------------+------------------+--------------------+\n",
      "| Azerbaijan |                0 |                  0 |\n",
      "+------------+------------------+--------------------+\n",
      "| Bahrain    |                0 |                  0 |\n",
      "+------------+------------------+--------------------+\n",
      "\n",
      "Qualifying Analysis for Aston Martin:\n",
      "========================================\n",
      "Overall Statistics:\n",
      "Total Qualifying Sessions: 117\n",
      "Total Pole Positions: 1\n",
      "Total Front Row Starts: 3\n",
      "Total Top 5 Starts: 27\n",
      "Total Q3 Appearances: 92\n",
      "Best Qualifying Position: 1\n",
      "\n",
      "Pole Positions by Year and Driver:\n",
      "+--------+--------------+------------------+\n",
      "|   Year | Driver       |   Pole Positions |\n",
      "+========+==============+==================+\n",
      "|   2020 | Lance Stroll |                1 |\n",
      "+--------+--------------+------------------+\n",
      "\n",
      "Top 5 Best Performing Tracks in Qualifying:\n",
      "+-----------+------------------+--------------------+\n",
      "| Track     |   Pole Positions |   Front Row Starts |\n",
      "+===========+==================+====================+\n",
      "| Turkey    |                1 |                  1 |\n",
      "+-----------+------------------+--------------------+\n",
      "| Miami     |                0 |                  1 |\n",
      "+-----------+------------------+--------------------+\n",
      "| Monaco    |                0 |                  1 |\n",
      "+-----------+------------------+--------------------+\n",
      "| Abu Dhabi |                0 |                  0 |\n",
      "+-----------+------------------+--------------------+\n",
      "| Australia |                0 |                  0 |\n",
      "+-----------+------------------+--------------------+\n",
      "\n",
      "Qualifying Analysis for Alpine:\n",
      "========================================\n",
      "Overall Statistics:\n",
      "Total Qualifying Sessions: 117\n",
      "Total Pole Positions: 0\n",
      "Total Front Row Starts: 1\n",
      "Total Top 5 Starts: 21\n",
      "Total Q3 Appearances: 116\n",
      "Best Qualifying Position: 2\n",
      "\n",
      "Top 5 Best Performing Tracks in Qualifying:\n",
      "+------------+------------------+--------------------+\n",
      "| Track      |   Pole Positions |   Front Row Starts |\n",
      "+============+==================+====================+\n",
      "| Canada     |                0 |                  1 |\n",
      "+------------+------------------+--------------------+\n",
      "| Abu Dhabi  |                0 |                  0 |\n",
      "+------------+------------------+--------------------+\n",
      "| Australia  |                0 |                  0 |\n",
      "+------------+------------------+--------------------+\n",
      "| Austria    |                0 |                  0 |\n",
      "+------------+------------------+--------------------+\n",
      "| Azerbaijan |                0 |                  0 |\n",
      "+------------+------------------+--------------------+\n",
      "\n",
      "Qualifying Analysis for AlphaTauri:\n",
      "========================================\n",
      "Overall Statistics:\n",
      "Total Qualifying Sessions: 117\n",
      "Total Pole Positions: 0\n",
      "Total Front Row Starts: 0\n",
      "Total Top 5 Starts: 12\n",
      "Total Q3 Appearances: 80\n",
      "Best Qualifying Position: 4\n",
      "\n",
      "Top 5 Best Performing Tracks in Qualifying:\n",
      "+------------+------------------+--------------------+\n",
      "| Track      |   Pole Positions |   Front Row Starts |\n",
      "+============+==================+====================+\n",
      "| Abu Dhabi  |                0 |                  0 |\n",
      "+------------+------------------+--------------------+\n",
      "| Australia  |                0 |                  0 |\n",
      "+------------+------------------+--------------------+\n",
      "| Austria    |                0 |                  0 |\n",
      "+------------+------------------+--------------------+\n",
      "| Azerbaijan |                0 |                  0 |\n",
      "+------------+------------------+--------------------+\n",
      "| Bahrain    |                0 |                  0 |\n",
      "+------------+------------------+--------------------+\n",
      "\n",
      "Qualifying Analysis for Williams:\n",
      "========================================\n",
      "Overall Statistics:\n",
      "Total Qualifying Sessions: 117\n",
      "Total Pole Positions: 0\n",
      "Total Front Row Starts: 1\n",
      "Total Top 5 Starts: 3\n",
      "Total Q3 Appearances: 18\n",
      "Best Qualifying Position: 2\n",
      "\n",
      "Top 5 Best Performing Tracks in Qualifying:\n",
      "+------------+------------------+--------------------+\n",
      "| Track      |   Pole Positions |   Front Row Starts |\n",
      "+============+==================+====================+\n",
      "| Belgium    |                0 |                  1 |\n",
      "+------------+------------------+--------------------+\n",
      "| Abu Dhabi  |                0 |                  0 |\n",
      "+------------+------------------+--------------------+\n",
      "| Australia  |                0 |                  0 |\n",
      "+------------+------------------+--------------------+\n",
      "| Austria    |                0 |                  0 |\n",
      "+------------+------------------+--------------------+\n",
      "| Azerbaijan |                0 |                  0 |\n",
      "+------------+------------------+--------------------+\n"
     ]
    }
   ],
   "source": [
    "from collections import defaultdict\n",
    "from tabulate import tabulate\n",
    "\n",
    "def analyze_qualifying_performance(qualifying_df, team_mapping, track_col='Track', team_col='Team', driver_col='Driver', position_col='Position', year_col='Year'):\n",
    "    # Checking if the required columns exist\n",
    "    required_columns = [track_col, team_col, driver_col, position_col, year_col]\n",
    "    missing_columns = [col for col in required_columns if col not in qualifying_df.columns]\n",
    "    if missing_columns:\n",
    "        print(f\"Error: The following required columns are missing: {', '.join(missing_columns)}\")\n",
    "        return\n",
    "\n",
    "    # Normalize team names\n",
    "    qualifying_df['NormalizedTeam'] = qualifying_df[team_col].apply(lambda x: normalize_team_name(x, team_mapping))\n",
    "    qualifying_df['NumericPosition'] = pd.to_numeric(qualifying_df[position_col], errors='coerce')\n",
    "    \n",
    "    teams = qualifying_df['NormalizedTeam'].unique()\n",
    "    \n",
    "    for team in teams:\n",
    "        print(f\"\\nQualifying Analysis for {team}:\")\n",
    "        print(\"=\" * 40)\n",
    "        \n",
    "        team_data = qualifying_df[qualifying_df['NormalizedTeam'] == team]\n",
    "        total_qualifyings = len(team_data.groupby([year_col, track_col]))\n",
    "        total_pole_positions = len(team_data[team_data['NumericPosition'] == 1])\n",
    "        total_front_row_starts = len(team_data[team_data['NumericPosition'].isin([1, 2])])\n",
    "        total_top_5_starts = len(team_data[team_data['NumericPosition'].isin([1, 2, 3, 4, 5])])\n",
    "        total_q3_appearances = len(team_data[team_data['NumericPosition'] <= 10])\n",
    "        \n",
    "        best_position = team_data['NumericPosition'].min()\n",
    "        if pd.isna(best_position):\n",
    "            best_position = 'N/A'\n",
    "        else:\n",
    "            best_position = int(best_position)\n",
    "        \n",
    "        print(\"Overall Statistics:\")\n",
    "        print(f\"Total Qualifying Sessions: {total_qualifyings}\")\n",
    "        print(f\"Total Pole Positions: {total_pole_positions}\")\n",
    "        print(f\"Total Front Row Starts: {total_front_row_starts}\")\n",
    "        print(f\"Total Top 5 Starts: {total_top_5_starts}\")\n",
    "        print(f\"Total Q3 Appearances: {total_q3_appearances}\")\n",
    "        print(f\"Best Qualifying Position: {best_position}\")\n",
    "        \n",
    "        # Count pole positions for each driver and year\n",
    "        driver_poles = defaultdict(lambda: defaultdict(int))\n",
    "        pole_data = team_data[team_data['NumericPosition'] == 1]\n",
    "        for _, row in pole_data.iterrows():\n",
    "            driver = row[driver_col]\n",
    "            year = row[year_col]\n",
    "            driver_poles[year][driver] += 1\n",
    "        \n",
    "        if driver_poles:\n",
    "            print(\"\\nPole Positions by Year and Driver:\")\n",
    "            table_data = []\n",
    "            for year in sorted(driver_poles.keys()):\n",
    "                drivers = sorted(driver_poles[year].items(), key=lambda x: x[1], reverse=True)\n",
    "                for i, (driver, poles) in enumerate(drivers):\n",
    "                    if i == 0:\n",
    "                        table_data.append([year, driver, poles])\n",
    "                    else:\n",
    "                        table_data.append([\"\", driver, poles])\n",
    "            \n",
    "            headers = [\"Year\", \"Driver\", \"Pole Positions\"]\n",
    "            table = tabulate(table_data, headers=headers, tablefmt=\"grid\")\n",
    "            print(table)\n",
    "        \n",
    "        # Top 5 Best Performing Tracks in Qualifying\n",
    "        track_performance = team_data.groupby(track_col).agg({\n",
    "            'NumericPosition': [\n",
    "                ('Pole Positions', lambda x: (x == 1).sum()),\n",
    "                ('Front Row Starts', lambda x: x.isin([1, 2]).sum())\n",
    "            ]\n",
    "        }).reset_index()\n",
    "\n",
    "        track_performance.columns = [track_col, 'Pole Positions', 'Front Row Starts']\n",
    "        best_tracks = track_performance.nlargest(5, ['Pole Positions', 'Front Row Starts'])\n",
    "        \n",
    "        print(\"\\nTop 5 Best Performing Tracks in Qualifying:\")\n",
    "        track_table = tabulate(best_tracks, headers='keys', tablefmt=\"grid\", showindex=False)\n",
    "        print(track_table)\n",
    "\n",
    "\n",
    "# Main execution\n",
    "if __name__ == \"__main__\":\n",
    "    qualifying_df = get_qualifying_results()\n",
    "    team_mapping = get_team_mapping()\n",
    "    \n",
    "    # Running the analysis with the correct column names\n",
    "    analyze_qualifying_performance(qualifying_df, team_mapping, \n",
    "                                   track_col='Track', \n",
    "                                   team_col='Team', \n",
    "                                   driver_col='Driver', \n",
    "                                   position_col='Position', \n",
    "                                   year_col='Year')"
   ]
  },
  {
   "cell_type": "code",
   "execution_count": 18,
   "metadata": {},
   "outputs": [
    {
     "data": {
      "application/vnd.plotly.v1+json": {
       "config": {
        "plotlyServerURL": "https://plot.ly"
       },
       "data": [
        {
         "line": {
          "color": "#006F62"
         },
         "mode": "lines+markers",
         "name": "Aston Martin",
         "type": "scatter",
         "x": [
          2019,
          2020,
          2021,
          2022,
          2023,
          2024
         ],
         "y": [
          0,
          1,
          1,
          1,
          1,
          1
         ]
        },
        {
         "line": {
          "color": "#DC0000"
         },
         "mode": "lines+markers",
         "name": "Ferrari",
         "type": "scatter",
         "x": [
          2019,
          2020,
          2021,
          2022,
          2023,
          2024
         ],
         "y": [
          8,
          8,
          10,
          21,
          27,
          28
         ]
        },
        {
         "line": {
          "color": "#F0D787"
         },
         "mode": "lines+markers",
         "name": "Haas",
         "type": "scatter",
         "x": [
          2019,
          2020,
          2021,
          2022,
          2023,
          2024
         ],
         "y": [
          0,
          0,
          0,
          1,
          1,
          1
         ]
        },
        {
         "line": {
          "color": "#FF8700"
         },
         "mode": "lines+markers",
         "name": "McLaren",
         "type": "scatter",
         "x": [
          2019,
          2020,
          2021,
          2022,
          2023,
          2024
         ],
         "y": [
          0,
          0,
          1,
          1,
          1,
          3
         ]
        },
        {
         "line": {
          "color": "#00D2BE"
         },
         "mode": "lines+markers",
         "name": "Mercedes",
         "type": "scatter",
         "x": [
          2019,
          2020,
          2021,
          2022,
          2023,
          2024
         ],
         "y": [
          10,
          24,
          34,
          35,
          36,
          38
         ]
        },
        {
         "line": {
          "color": "#1E41FF"
         },
         "mode": "lines+markers",
         "name": "Red Bull",
         "type": "scatter",
         "x": [
          2019,
          2020,
          2021,
          2022,
          2023,
          2024
         ],
         "y": [
          3,
          4,
          13,
          22,
          37,
          46
         ]
        }
       ],
       "layout": {
        "template": {
         "data": {
          "bar": [
           {
            "error_x": {
             "color": "#2a3f5f"
            },
            "error_y": {
             "color": "#2a3f5f"
            },
            "marker": {
             "line": {
              "color": "#E5ECF6",
              "width": 0.5
             },
             "pattern": {
              "fillmode": "overlay",
              "size": 10,
              "solidity": 0.2
             }
            },
            "type": "bar"
           }
          ],
          "barpolar": [
           {
            "marker": {
             "line": {
              "color": "#E5ECF6",
              "width": 0.5
             },
             "pattern": {
              "fillmode": "overlay",
              "size": 10,
              "solidity": 0.2
             }
            },
            "type": "barpolar"
           }
          ],
          "carpet": [
           {
            "aaxis": {
             "endlinecolor": "#2a3f5f",
             "gridcolor": "white",
             "linecolor": "white",
             "minorgridcolor": "white",
             "startlinecolor": "#2a3f5f"
            },
            "baxis": {
             "endlinecolor": "#2a3f5f",
             "gridcolor": "white",
             "linecolor": "white",
             "minorgridcolor": "white",
             "startlinecolor": "#2a3f5f"
            },
            "type": "carpet"
           }
          ],
          "choropleth": [
           {
            "colorbar": {
             "outlinewidth": 0,
             "ticks": ""
            },
            "type": "choropleth"
           }
          ],
          "contour": [
           {
            "colorbar": {
             "outlinewidth": 0,
             "ticks": ""
            },
            "colorscale": [
             [
              0,
              "#0d0887"
             ],
             [
              0.1111111111111111,
              "#46039f"
             ],
             [
              0.2222222222222222,
              "#7201a8"
             ],
             [
              0.3333333333333333,
              "#9c179e"
             ],
             [
              0.4444444444444444,
              "#bd3786"
             ],
             [
              0.5555555555555556,
              "#d8576b"
             ],
             [
              0.6666666666666666,
              "#ed7953"
             ],
             [
              0.7777777777777778,
              "#fb9f3a"
             ],
             [
              0.8888888888888888,
              "#fdca26"
             ],
             [
              1,
              "#f0f921"
             ]
            ],
            "type": "contour"
           }
          ],
          "contourcarpet": [
           {
            "colorbar": {
             "outlinewidth": 0,
             "ticks": ""
            },
            "type": "contourcarpet"
           }
          ],
          "heatmap": [
           {
            "colorbar": {
             "outlinewidth": 0,
             "ticks": ""
            },
            "colorscale": [
             [
              0,
              "#0d0887"
             ],
             [
              0.1111111111111111,
              "#46039f"
             ],
             [
              0.2222222222222222,
              "#7201a8"
             ],
             [
              0.3333333333333333,
              "#9c179e"
             ],
             [
              0.4444444444444444,
              "#bd3786"
             ],
             [
              0.5555555555555556,
              "#d8576b"
             ],
             [
              0.6666666666666666,
              "#ed7953"
             ],
             [
              0.7777777777777778,
              "#fb9f3a"
             ],
             [
              0.8888888888888888,
              "#fdca26"
             ],
             [
              1,
              "#f0f921"
             ]
            ],
            "type": "heatmap"
           }
          ],
          "heatmapgl": [
           {
            "colorbar": {
             "outlinewidth": 0,
             "ticks": ""
            },
            "colorscale": [
             [
              0,
              "#0d0887"
             ],
             [
              0.1111111111111111,
              "#46039f"
             ],
             [
              0.2222222222222222,
              "#7201a8"
             ],
             [
              0.3333333333333333,
              "#9c179e"
             ],
             [
              0.4444444444444444,
              "#bd3786"
             ],
             [
              0.5555555555555556,
              "#d8576b"
             ],
             [
              0.6666666666666666,
              "#ed7953"
             ],
             [
              0.7777777777777778,
              "#fb9f3a"
             ],
             [
              0.8888888888888888,
              "#fdca26"
             ],
             [
              1,
              "#f0f921"
             ]
            ],
            "type": "heatmapgl"
           }
          ],
          "histogram": [
           {
            "marker": {
             "pattern": {
              "fillmode": "overlay",
              "size": 10,
              "solidity": 0.2
             }
            },
            "type": "histogram"
           }
          ],
          "histogram2d": [
           {
            "colorbar": {
             "outlinewidth": 0,
             "ticks": ""
            },
            "colorscale": [
             [
              0,
              "#0d0887"
             ],
             [
              0.1111111111111111,
              "#46039f"
             ],
             [
              0.2222222222222222,
              "#7201a8"
             ],
             [
              0.3333333333333333,
              "#9c179e"
             ],
             [
              0.4444444444444444,
              "#bd3786"
             ],
             [
              0.5555555555555556,
              "#d8576b"
             ],
             [
              0.6666666666666666,
              "#ed7953"
             ],
             [
              0.7777777777777778,
              "#fb9f3a"
             ],
             [
              0.8888888888888888,
              "#fdca26"
             ],
             [
              1,
              "#f0f921"
             ]
            ],
            "type": "histogram2d"
           }
          ],
          "histogram2dcontour": [
           {
            "colorbar": {
             "outlinewidth": 0,
             "ticks": ""
            },
            "colorscale": [
             [
              0,
              "#0d0887"
             ],
             [
              0.1111111111111111,
              "#46039f"
             ],
             [
              0.2222222222222222,
              "#7201a8"
             ],
             [
              0.3333333333333333,
              "#9c179e"
             ],
             [
              0.4444444444444444,
              "#bd3786"
             ],
             [
              0.5555555555555556,
              "#d8576b"
             ],
             [
              0.6666666666666666,
              "#ed7953"
             ],
             [
              0.7777777777777778,
              "#fb9f3a"
             ],
             [
              0.8888888888888888,
              "#fdca26"
             ],
             [
              1,
              "#f0f921"
             ]
            ],
            "type": "histogram2dcontour"
           }
          ],
          "mesh3d": [
           {
            "colorbar": {
             "outlinewidth": 0,
             "ticks": ""
            },
            "type": "mesh3d"
           }
          ],
          "parcoords": [
           {
            "line": {
             "colorbar": {
              "outlinewidth": 0,
              "ticks": ""
             }
            },
            "type": "parcoords"
           }
          ],
          "pie": [
           {
            "automargin": true,
            "type": "pie"
           }
          ],
          "scatter": [
           {
            "fillpattern": {
             "fillmode": "overlay",
             "size": 10,
             "solidity": 0.2
            },
            "type": "scatter"
           }
          ],
          "scatter3d": [
           {
            "line": {
             "colorbar": {
              "outlinewidth": 0,
              "ticks": ""
             }
            },
            "marker": {
             "colorbar": {
              "outlinewidth": 0,
              "ticks": ""
             }
            },
            "type": "scatter3d"
           }
          ],
          "scattercarpet": [
           {
            "marker": {
             "colorbar": {
              "outlinewidth": 0,
              "ticks": ""
             }
            },
            "type": "scattercarpet"
           }
          ],
          "scattergeo": [
           {
            "marker": {
             "colorbar": {
              "outlinewidth": 0,
              "ticks": ""
             }
            },
            "type": "scattergeo"
           }
          ],
          "scattergl": [
           {
            "marker": {
             "colorbar": {
              "outlinewidth": 0,
              "ticks": ""
             }
            },
            "type": "scattergl"
           }
          ],
          "scattermapbox": [
           {
            "marker": {
             "colorbar": {
              "outlinewidth": 0,
              "ticks": ""
             }
            },
            "type": "scattermapbox"
           }
          ],
          "scatterpolar": [
           {
            "marker": {
             "colorbar": {
              "outlinewidth": 0,
              "ticks": ""
             }
            },
            "type": "scatterpolar"
           }
          ],
          "scatterpolargl": [
           {
            "marker": {
             "colorbar": {
              "outlinewidth": 0,
              "ticks": ""
             }
            },
            "type": "scatterpolargl"
           }
          ],
          "scatterternary": [
           {
            "marker": {
             "colorbar": {
              "outlinewidth": 0,
              "ticks": ""
             }
            },
            "type": "scatterternary"
           }
          ],
          "surface": [
           {
            "colorbar": {
             "outlinewidth": 0,
             "ticks": ""
            },
            "colorscale": [
             [
              0,
              "#0d0887"
             ],
             [
              0.1111111111111111,
              "#46039f"
             ],
             [
              0.2222222222222222,
              "#7201a8"
             ],
             [
              0.3333333333333333,
              "#9c179e"
             ],
             [
              0.4444444444444444,
              "#bd3786"
             ],
             [
              0.5555555555555556,
              "#d8576b"
             ],
             [
              0.6666666666666666,
              "#ed7953"
             ],
             [
              0.7777777777777778,
              "#fb9f3a"
             ],
             [
              0.8888888888888888,
              "#fdca26"
             ],
             [
              1,
              "#f0f921"
             ]
            ],
            "type": "surface"
           }
          ],
          "table": [
           {
            "cells": {
             "fill": {
              "color": "#EBF0F8"
             },
             "line": {
              "color": "white"
             }
            },
            "header": {
             "fill": {
              "color": "#C8D4E3"
             },
             "line": {
              "color": "white"
             }
            },
            "type": "table"
           }
          ]
         },
         "layout": {
          "annotationdefaults": {
           "arrowcolor": "#2a3f5f",
           "arrowhead": 0,
           "arrowwidth": 1
          },
          "autotypenumbers": "strict",
          "coloraxis": {
           "colorbar": {
            "outlinewidth": 0,
            "ticks": ""
           }
          },
          "colorscale": {
           "diverging": [
            [
             0,
             "#8e0152"
            ],
            [
             0.1,
             "#c51b7d"
            ],
            [
             0.2,
             "#de77ae"
            ],
            [
             0.3,
             "#f1b6da"
            ],
            [
             0.4,
             "#fde0ef"
            ],
            [
             0.5,
             "#f7f7f7"
            ],
            [
             0.6,
             "#e6f5d0"
            ],
            [
             0.7,
             "#b8e186"
            ],
            [
             0.8,
             "#7fbc41"
            ],
            [
             0.9,
             "#4d9221"
            ],
            [
             1,
             "#276419"
            ]
           ],
           "sequential": [
            [
             0,
             "#0d0887"
            ],
            [
             0.1111111111111111,
             "#46039f"
            ],
            [
             0.2222222222222222,
             "#7201a8"
            ],
            [
             0.3333333333333333,
             "#9c179e"
            ],
            [
             0.4444444444444444,
             "#bd3786"
            ],
            [
             0.5555555555555556,
             "#d8576b"
            ],
            [
             0.6666666666666666,
             "#ed7953"
            ],
            [
             0.7777777777777778,
             "#fb9f3a"
            ],
            [
             0.8888888888888888,
             "#fdca26"
            ],
            [
             1,
             "#f0f921"
            ]
           ],
           "sequentialminus": [
            [
             0,
             "#0d0887"
            ],
            [
             0.1111111111111111,
             "#46039f"
            ],
            [
             0.2222222222222222,
             "#7201a8"
            ],
            [
             0.3333333333333333,
             "#9c179e"
            ],
            [
             0.4444444444444444,
             "#bd3786"
            ],
            [
             0.5555555555555556,
             "#d8576b"
            ],
            [
             0.6666666666666666,
             "#ed7953"
            ],
            [
             0.7777777777777778,
             "#fb9f3a"
            ],
            [
             0.8888888888888888,
             "#fdca26"
            ],
            [
             1,
             "#f0f921"
            ]
           ]
          },
          "colorway": [
           "#636efa",
           "#EF553B",
           "#00cc96",
           "#ab63fa",
           "#FFA15A",
           "#19d3f3",
           "#FF6692",
           "#B6E880",
           "#FF97FF",
           "#FECB52"
          ],
          "font": {
           "color": "#2a3f5f"
          },
          "geo": {
           "bgcolor": "white",
           "lakecolor": "white",
           "landcolor": "#E5ECF6",
           "showlakes": true,
           "showland": true,
           "subunitcolor": "white"
          },
          "hoverlabel": {
           "align": "left"
          },
          "hovermode": "closest",
          "mapbox": {
           "style": "light"
          },
          "paper_bgcolor": "white",
          "plot_bgcolor": "#E5ECF6",
          "polar": {
           "angularaxis": {
            "gridcolor": "white",
            "linecolor": "white",
            "ticks": ""
           },
           "bgcolor": "#E5ECF6",
           "radialaxis": {
            "gridcolor": "white",
            "linecolor": "white",
            "ticks": ""
           }
          },
          "scene": {
           "xaxis": {
            "backgroundcolor": "#E5ECF6",
            "gridcolor": "white",
            "gridwidth": 2,
            "linecolor": "white",
            "showbackground": true,
            "ticks": "",
            "zerolinecolor": "white"
           },
           "yaxis": {
            "backgroundcolor": "#E5ECF6",
            "gridcolor": "white",
            "gridwidth": 2,
            "linecolor": "white",
            "showbackground": true,
            "ticks": "",
            "zerolinecolor": "white"
           },
           "zaxis": {
            "backgroundcolor": "#E5ECF6",
            "gridcolor": "white",
            "gridwidth": 2,
            "linecolor": "white",
            "showbackground": true,
            "ticks": "",
            "zerolinecolor": "white"
           }
          },
          "shapedefaults": {
           "line": {
            "color": "#2a3f5f"
           }
          },
          "ternary": {
           "aaxis": {
            "gridcolor": "white",
            "linecolor": "white",
            "ticks": ""
           },
           "baxis": {
            "gridcolor": "white",
            "linecolor": "white",
            "ticks": ""
           },
           "bgcolor": "#E5ECF6",
           "caxis": {
            "gridcolor": "white",
            "linecolor": "white",
            "ticks": ""
           }
          },
          "title": {
           "x": 0.05
          },
          "xaxis": {
           "automargin": true,
           "gridcolor": "white",
           "linecolor": "white",
           "ticks": "",
           "title": {
            "standoff": 15
           },
           "zerolinecolor": "white",
           "zerolinewidth": 2
          },
          "yaxis": {
           "automargin": true,
           "gridcolor": "white",
           "linecolor": "white",
           "ticks": "",
           "title": {
            "standoff": 15
           },
           "zerolinecolor": "white",
           "zerolinewidth": 2
          }
         }
        },
        "title": {
         "text": "Cumulative Pole Positions by Team",
         "x": 0.5
        },
        "xaxis": {
         "title": {
          "text": "Year"
         }
        },
        "yaxis": {
         "title": {
          "text": "Cumulative Pole Positions"
         }
        }
       }
      }
     },
     "metadata": {},
     "output_type": "display_data"
    },
    {
     "data": {
      "application/vnd.plotly.v1+json": {
       "config": {
        "plotlyServerURL": "https://plot.ly"
       },
       "data": [
        {
         "marker": {
          "color": [
           "#1E41FF",
           "#00D2BE",
           "#DC0000",
           "#FF8700",
           "#006F62",
           "#F0D787"
          ]
         },
         "type": "bar",
         "x": [
          "Red Bull",
          "Mercedes",
          "Ferrari",
          "McLaren",
          "Aston Martin",
          "Haas"
         ],
         "y": [
          46,
          38,
          28,
          3,
          1,
          1
         ]
        }
       ],
       "layout": {
        "template": {
         "data": {
          "bar": [
           {
            "error_x": {
             "color": "#2a3f5f"
            },
            "error_y": {
             "color": "#2a3f5f"
            },
            "marker": {
             "line": {
              "color": "#E5ECF6",
              "width": 0.5
             },
             "pattern": {
              "fillmode": "overlay",
              "size": 10,
              "solidity": 0.2
             }
            },
            "type": "bar"
           }
          ],
          "barpolar": [
           {
            "marker": {
             "line": {
              "color": "#E5ECF6",
              "width": 0.5
             },
             "pattern": {
              "fillmode": "overlay",
              "size": 10,
              "solidity": 0.2
             }
            },
            "type": "barpolar"
           }
          ],
          "carpet": [
           {
            "aaxis": {
             "endlinecolor": "#2a3f5f",
             "gridcolor": "white",
             "linecolor": "white",
             "minorgridcolor": "white",
             "startlinecolor": "#2a3f5f"
            },
            "baxis": {
             "endlinecolor": "#2a3f5f",
             "gridcolor": "white",
             "linecolor": "white",
             "minorgridcolor": "white",
             "startlinecolor": "#2a3f5f"
            },
            "type": "carpet"
           }
          ],
          "choropleth": [
           {
            "colorbar": {
             "outlinewidth": 0,
             "ticks": ""
            },
            "type": "choropleth"
           }
          ],
          "contour": [
           {
            "colorbar": {
             "outlinewidth": 0,
             "ticks": ""
            },
            "colorscale": [
             [
              0,
              "#0d0887"
             ],
             [
              0.1111111111111111,
              "#46039f"
             ],
             [
              0.2222222222222222,
              "#7201a8"
             ],
             [
              0.3333333333333333,
              "#9c179e"
             ],
             [
              0.4444444444444444,
              "#bd3786"
             ],
             [
              0.5555555555555556,
              "#d8576b"
             ],
             [
              0.6666666666666666,
              "#ed7953"
             ],
             [
              0.7777777777777778,
              "#fb9f3a"
             ],
             [
              0.8888888888888888,
              "#fdca26"
             ],
             [
              1,
              "#f0f921"
             ]
            ],
            "type": "contour"
           }
          ],
          "contourcarpet": [
           {
            "colorbar": {
             "outlinewidth": 0,
             "ticks": ""
            },
            "type": "contourcarpet"
           }
          ],
          "heatmap": [
           {
            "colorbar": {
             "outlinewidth": 0,
             "ticks": ""
            },
            "colorscale": [
             [
              0,
              "#0d0887"
             ],
             [
              0.1111111111111111,
              "#46039f"
             ],
             [
              0.2222222222222222,
              "#7201a8"
             ],
             [
              0.3333333333333333,
              "#9c179e"
             ],
             [
              0.4444444444444444,
              "#bd3786"
             ],
             [
              0.5555555555555556,
              "#d8576b"
             ],
             [
              0.6666666666666666,
              "#ed7953"
             ],
             [
              0.7777777777777778,
              "#fb9f3a"
             ],
             [
              0.8888888888888888,
              "#fdca26"
             ],
             [
              1,
              "#f0f921"
             ]
            ],
            "type": "heatmap"
           }
          ],
          "heatmapgl": [
           {
            "colorbar": {
             "outlinewidth": 0,
             "ticks": ""
            },
            "colorscale": [
             [
              0,
              "#0d0887"
             ],
             [
              0.1111111111111111,
              "#46039f"
             ],
             [
              0.2222222222222222,
              "#7201a8"
             ],
             [
              0.3333333333333333,
              "#9c179e"
             ],
             [
              0.4444444444444444,
              "#bd3786"
             ],
             [
              0.5555555555555556,
              "#d8576b"
             ],
             [
              0.6666666666666666,
              "#ed7953"
             ],
             [
              0.7777777777777778,
              "#fb9f3a"
             ],
             [
              0.8888888888888888,
              "#fdca26"
             ],
             [
              1,
              "#f0f921"
             ]
            ],
            "type": "heatmapgl"
           }
          ],
          "histogram": [
           {
            "marker": {
             "pattern": {
              "fillmode": "overlay",
              "size": 10,
              "solidity": 0.2
             }
            },
            "type": "histogram"
           }
          ],
          "histogram2d": [
           {
            "colorbar": {
             "outlinewidth": 0,
             "ticks": ""
            },
            "colorscale": [
             [
              0,
              "#0d0887"
             ],
             [
              0.1111111111111111,
              "#46039f"
             ],
             [
              0.2222222222222222,
              "#7201a8"
             ],
             [
              0.3333333333333333,
              "#9c179e"
             ],
             [
              0.4444444444444444,
              "#bd3786"
             ],
             [
              0.5555555555555556,
              "#d8576b"
             ],
             [
              0.6666666666666666,
              "#ed7953"
             ],
             [
              0.7777777777777778,
              "#fb9f3a"
             ],
             [
              0.8888888888888888,
              "#fdca26"
             ],
             [
              1,
              "#f0f921"
             ]
            ],
            "type": "histogram2d"
           }
          ],
          "histogram2dcontour": [
           {
            "colorbar": {
             "outlinewidth": 0,
             "ticks": ""
            },
            "colorscale": [
             [
              0,
              "#0d0887"
             ],
             [
              0.1111111111111111,
              "#46039f"
             ],
             [
              0.2222222222222222,
              "#7201a8"
             ],
             [
              0.3333333333333333,
              "#9c179e"
             ],
             [
              0.4444444444444444,
              "#bd3786"
             ],
             [
              0.5555555555555556,
              "#d8576b"
             ],
             [
              0.6666666666666666,
              "#ed7953"
             ],
             [
              0.7777777777777778,
              "#fb9f3a"
             ],
             [
              0.8888888888888888,
              "#fdca26"
             ],
             [
              1,
              "#f0f921"
             ]
            ],
            "type": "histogram2dcontour"
           }
          ],
          "mesh3d": [
           {
            "colorbar": {
             "outlinewidth": 0,
             "ticks": ""
            },
            "type": "mesh3d"
           }
          ],
          "parcoords": [
           {
            "line": {
             "colorbar": {
              "outlinewidth": 0,
              "ticks": ""
             }
            },
            "type": "parcoords"
           }
          ],
          "pie": [
           {
            "automargin": true,
            "type": "pie"
           }
          ],
          "scatter": [
           {
            "fillpattern": {
             "fillmode": "overlay",
             "size": 10,
             "solidity": 0.2
            },
            "type": "scatter"
           }
          ],
          "scatter3d": [
           {
            "line": {
             "colorbar": {
              "outlinewidth": 0,
              "ticks": ""
             }
            },
            "marker": {
             "colorbar": {
              "outlinewidth": 0,
              "ticks": ""
             }
            },
            "type": "scatter3d"
           }
          ],
          "scattercarpet": [
           {
            "marker": {
             "colorbar": {
              "outlinewidth": 0,
              "ticks": ""
             }
            },
            "type": "scattercarpet"
           }
          ],
          "scattergeo": [
           {
            "marker": {
             "colorbar": {
              "outlinewidth": 0,
              "ticks": ""
             }
            },
            "type": "scattergeo"
           }
          ],
          "scattergl": [
           {
            "marker": {
             "colorbar": {
              "outlinewidth": 0,
              "ticks": ""
             }
            },
            "type": "scattergl"
           }
          ],
          "scattermapbox": [
           {
            "marker": {
             "colorbar": {
              "outlinewidth": 0,
              "ticks": ""
             }
            },
            "type": "scattermapbox"
           }
          ],
          "scatterpolar": [
           {
            "marker": {
             "colorbar": {
              "outlinewidth": 0,
              "ticks": ""
             }
            },
            "type": "scatterpolar"
           }
          ],
          "scatterpolargl": [
           {
            "marker": {
             "colorbar": {
              "outlinewidth": 0,
              "ticks": ""
             }
            },
            "type": "scatterpolargl"
           }
          ],
          "scatterternary": [
           {
            "marker": {
             "colorbar": {
              "outlinewidth": 0,
              "ticks": ""
             }
            },
            "type": "scatterternary"
           }
          ],
          "surface": [
           {
            "colorbar": {
             "outlinewidth": 0,
             "ticks": ""
            },
            "colorscale": [
             [
              0,
              "#0d0887"
             ],
             [
              0.1111111111111111,
              "#46039f"
             ],
             [
              0.2222222222222222,
              "#7201a8"
             ],
             [
              0.3333333333333333,
              "#9c179e"
             ],
             [
              0.4444444444444444,
              "#bd3786"
             ],
             [
              0.5555555555555556,
              "#d8576b"
             ],
             [
              0.6666666666666666,
              "#ed7953"
             ],
             [
              0.7777777777777778,
              "#fb9f3a"
             ],
             [
              0.8888888888888888,
              "#fdca26"
             ],
             [
              1,
              "#f0f921"
             ]
            ],
            "type": "surface"
           }
          ],
          "table": [
           {
            "cells": {
             "fill": {
              "color": "#EBF0F8"
             },
             "line": {
              "color": "white"
             }
            },
            "header": {
             "fill": {
              "color": "#C8D4E3"
             },
             "line": {
              "color": "white"
             }
            },
            "type": "table"
           }
          ]
         },
         "layout": {
          "annotationdefaults": {
           "arrowcolor": "#2a3f5f",
           "arrowhead": 0,
           "arrowwidth": 1
          },
          "autotypenumbers": "strict",
          "coloraxis": {
           "colorbar": {
            "outlinewidth": 0,
            "ticks": ""
           }
          },
          "colorscale": {
           "diverging": [
            [
             0,
             "#8e0152"
            ],
            [
             0.1,
             "#c51b7d"
            ],
            [
             0.2,
             "#de77ae"
            ],
            [
             0.3,
             "#f1b6da"
            ],
            [
             0.4,
             "#fde0ef"
            ],
            [
             0.5,
             "#f7f7f7"
            ],
            [
             0.6,
             "#e6f5d0"
            ],
            [
             0.7,
             "#b8e186"
            ],
            [
             0.8,
             "#7fbc41"
            ],
            [
             0.9,
             "#4d9221"
            ],
            [
             1,
             "#276419"
            ]
           ],
           "sequential": [
            [
             0,
             "#0d0887"
            ],
            [
             0.1111111111111111,
             "#46039f"
            ],
            [
             0.2222222222222222,
             "#7201a8"
            ],
            [
             0.3333333333333333,
             "#9c179e"
            ],
            [
             0.4444444444444444,
             "#bd3786"
            ],
            [
             0.5555555555555556,
             "#d8576b"
            ],
            [
             0.6666666666666666,
             "#ed7953"
            ],
            [
             0.7777777777777778,
             "#fb9f3a"
            ],
            [
             0.8888888888888888,
             "#fdca26"
            ],
            [
             1,
             "#f0f921"
            ]
           ],
           "sequentialminus": [
            [
             0,
             "#0d0887"
            ],
            [
             0.1111111111111111,
             "#46039f"
            ],
            [
             0.2222222222222222,
             "#7201a8"
            ],
            [
             0.3333333333333333,
             "#9c179e"
            ],
            [
             0.4444444444444444,
             "#bd3786"
            ],
            [
             0.5555555555555556,
             "#d8576b"
            ],
            [
             0.6666666666666666,
             "#ed7953"
            ],
            [
             0.7777777777777778,
             "#fb9f3a"
            ],
            [
             0.8888888888888888,
             "#fdca26"
            ],
            [
             1,
             "#f0f921"
            ]
           ]
          },
          "colorway": [
           "#636efa",
           "#EF553B",
           "#00cc96",
           "#ab63fa",
           "#FFA15A",
           "#19d3f3",
           "#FF6692",
           "#B6E880",
           "#FF97FF",
           "#FECB52"
          ],
          "font": {
           "color": "#2a3f5f"
          },
          "geo": {
           "bgcolor": "white",
           "lakecolor": "white",
           "landcolor": "#E5ECF6",
           "showlakes": true,
           "showland": true,
           "subunitcolor": "white"
          },
          "hoverlabel": {
           "align": "left"
          },
          "hovermode": "closest",
          "mapbox": {
           "style": "light"
          },
          "paper_bgcolor": "white",
          "plot_bgcolor": "#E5ECF6",
          "polar": {
           "angularaxis": {
            "gridcolor": "white",
            "linecolor": "white",
            "ticks": ""
           },
           "bgcolor": "#E5ECF6",
           "radialaxis": {
            "gridcolor": "white",
            "linecolor": "white",
            "ticks": ""
           }
          },
          "scene": {
           "xaxis": {
            "backgroundcolor": "#E5ECF6",
            "gridcolor": "white",
            "gridwidth": 2,
            "linecolor": "white",
            "showbackground": true,
            "ticks": "",
            "zerolinecolor": "white"
           },
           "yaxis": {
            "backgroundcolor": "#E5ECF6",
            "gridcolor": "white",
            "gridwidth": 2,
            "linecolor": "white",
            "showbackground": true,
            "ticks": "",
            "zerolinecolor": "white"
           },
           "zaxis": {
            "backgroundcolor": "#E5ECF6",
            "gridcolor": "white",
            "gridwidth": 2,
            "linecolor": "white",
            "showbackground": true,
            "ticks": "",
            "zerolinecolor": "white"
           }
          },
          "shapedefaults": {
           "line": {
            "color": "#2a3f5f"
           }
          },
          "ternary": {
           "aaxis": {
            "gridcolor": "white",
            "linecolor": "white",
            "ticks": ""
           },
           "baxis": {
            "gridcolor": "white",
            "linecolor": "white",
            "ticks": ""
           },
           "bgcolor": "#E5ECF6",
           "caxis": {
            "gridcolor": "white",
            "linecolor": "white",
            "ticks": ""
           }
          },
          "title": {
           "x": 0.05
          },
          "xaxis": {
           "automargin": true,
           "gridcolor": "white",
           "linecolor": "white",
           "ticks": "",
           "title": {
            "standoff": 15
           },
           "zerolinecolor": "white",
           "zerolinewidth": 2
          },
          "yaxis": {
           "automargin": true,
           "gridcolor": "white",
           "linecolor": "white",
           "ticks": "",
           "title": {
            "standoff": 15
           },
           "zerolinecolor": "white",
           "zerolinewidth": 2
          }
         }
        },
        "title": {
         "text": "Total Pole Positions by Team",
         "x": 0.5
        },
        "xaxis": {
         "title": {
          "text": "Team"
         }
        },
        "yaxis": {
         "title": {
          "text": "Total Pole Positions"
         }
        }
       }
      }
     },
     "metadata": {},
     "output_type": "display_data"
    },
    {
     "data": {
      "application/vnd.plotly.v1+json": {
       "config": {
        "plotlyServerURL": "https://plot.ly"
       },
       "data": [
        {
         "mode": "lines+markers",
         "name": "Max Verstappen",
         "type": "scatter",
         "x": [
          2019,
          2020,
          2021,
          2022,
          2023,
          2024
         ],
         "y": [
          3,
          1,
          9,
          8,
          13,
          9
         ]
        },
        {
         "mode": "lines+markers",
         "name": "Lewis Hamilton",
         "type": "scatter",
         "x": [
          2019,
          2020,
          2021,
          2022,
          2023,
          2024
         ],
         "y": [
          5,
          10,
          7,
          0,
          1,
          0
         ]
        },
        {
         "mode": "lines+markers",
         "name": "Charles Leclerc",
         "type": "scatter",
         "x": [
          2019,
          2020,
          2021,
          2022,
          2023,
          2024
         ],
         "y": [
          6,
          0,
          2,
          9,
          4,
          1
         ]
        },
        {
         "mode": "lines+markers",
         "name": "Valtteri Bottas",
         "type": "scatter",
         "x": [
          2019,
          2020,
          2021,
          2022,
          2023,
          2024
         ],
         "y": [
          5,
          4,
          3,
          0,
          0,
          0
         ]
        },
        {
         "mode": "lines+markers",
         "name": "Carlos Sainz",
         "type": "scatter",
         "x": [
          2019,
          2020,
          2021,
          2022,
          2023,
          2024
         ],
         "y": [
          0,
          0,
          0,
          2,
          2,
          0
         ]
        },
        {
         "mode": "lines+markers",
         "name": "George Russell",
         "type": "scatter",
         "x": [
          2019,
          2020,
          2021,
          2022,
          2023,
          2024
         ],
         "y": [
          0,
          0,
          0,
          1,
          0,
          2
         ]
        },
        {
         "mode": "lines+markers",
         "name": "Lando Norris",
         "type": "scatter",
         "x": [
          2019,
          2020,
          2021,
          2022,
          2023,
          2024
         ],
         "y": [
          0,
          0,
          1,
          0,
          0,
          2
         ]
        },
        {
         "mode": "lines+markers",
         "name": "Sergio Perez",
         "type": "scatter",
         "x": [
          2019,
          2020,
          2021,
          2022,
          2023,
          2024
         ],
         "y": [
          0,
          0,
          0,
          1,
          2,
          0
         ]
        },
        {
         "mode": "lines+markers",
         "name": "Sebastian Vettel",
         "type": "scatter",
         "x": [
          2019,
          2020,
          2021,
          2022,
          2023,
          2024
         ],
         "y": [
          2,
          0,
          0,
          0,
          0,
          0
         ]
        },
        {
         "mode": "lines+markers",
         "name": "Kevin Magnussen",
         "type": "scatter",
         "x": [
          2019,
          2020,
          2021,
          2022,
          2023,
          2024
         ],
         "y": [
          0,
          0,
          0,
          1,
          0,
          0
         ]
        }
       ],
       "layout": {
        "template": {
         "data": {
          "bar": [
           {
            "error_x": {
             "color": "#2a3f5f"
            },
            "error_y": {
             "color": "#2a3f5f"
            },
            "marker": {
             "line": {
              "color": "#E5ECF6",
              "width": 0.5
             },
             "pattern": {
              "fillmode": "overlay",
              "size": 10,
              "solidity": 0.2
             }
            },
            "type": "bar"
           }
          ],
          "barpolar": [
           {
            "marker": {
             "line": {
              "color": "#E5ECF6",
              "width": 0.5
             },
             "pattern": {
              "fillmode": "overlay",
              "size": 10,
              "solidity": 0.2
             }
            },
            "type": "barpolar"
           }
          ],
          "carpet": [
           {
            "aaxis": {
             "endlinecolor": "#2a3f5f",
             "gridcolor": "white",
             "linecolor": "white",
             "minorgridcolor": "white",
             "startlinecolor": "#2a3f5f"
            },
            "baxis": {
             "endlinecolor": "#2a3f5f",
             "gridcolor": "white",
             "linecolor": "white",
             "minorgridcolor": "white",
             "startlinecolor": "#2a3f5f"
            },
            "type": "carpet"
           }
          ],
          "choropleth": [
           {
            "colorbar": {
             "outlinewidth": 0,
             "ticks": ""
            },
            "type": "choropleth"
           }
          ],
          "contour": [
           {
            "colorbar": {
             "outlinewidth": 0,
             "ticks": ""
            },
            "colorscale": [
             [
              0,
              "#0d0887"
             ],
             [
              0.1111111111111111,
              "#46039f"
             ],
             [
              0.2222222222222222,
              "#7201a8"
             ],
             [
              0.3333333333333333,
              "#9c179e"
             ],
             [
              0.4444444444444444,
              "#bd3786"
             ],
             [
              0.5555555555555556,
              "#d8576b"
             ],
             [
              0.6666666666666666,
              "#ed7953"
             ],
             [
              0.7777777777777778,
              "#fb9f3a"
             ],
             [
              0.8888888888888888,
              "#fdca26"
             ],
             [
              1,
              "#f0f921"
             ]
            ],
            "type": "contour"
           }
          ],
          "contourcarpet": [
           {
            "colorbar": {
             "outlinewidth": 0,
             "ticks": ""
            },
            "type": "contourcarpet"
           }
          ],
          "heatmap": [
           {
            "colorbar": {
             "outlinewidth": 0,
             "ticks": ""
            },
            "colorscale": [
             [
              0,
              "#0d0887"
             ],
             [
              0.1111111111111111,
              "#46039f"
             ],
             [
              0.2222222222222222,
              "#7201a8"
             ],
             [
              0.3333333333333333,
              "#9c179e"
             ],
             [
              0.4444444444444444,
              "#bd3786"
             ],
             [
              0.5555555555555556,
              "#d8576b"
             ],
             [
              0.6666666666666666,
              "#ed7953"
             ],
             [
              0.7777777777777778,
              "#fb9f3a"
             ],
             [
              0.8888888888888888,
              "#fdca26"
             ],
             [
              1,
              "#f0f921"
             ]
            ],
            "type": "heatmap"
           }
          ],
          "heatmapgl": [
           {
            "colorbar": {
             "outlinewidth": 0,
             "ticks": ""
            },
            "colorscale": [
             [
              0,
              "#0d0887"
             ],
             [
              0.1111111111111111,
              "#46039f"
             ],
             [
              0.2222222222222222,
              "#7201a8"
             ],
             [
              0.3333333333333333,
              "#9c179e"
             ],
             [
              0.4444444444444444,
              "#bd3786"
             ],
             [
              0.5555555555555556,
              "#d8576b"
             ],
             [
              0.6666666666666666,
              "#ed7953"
             ],
             [
              0.7777777777777778,
              "#fb9f3a"
             ],
             [
              0.8888888888888888,
              "#fdca26"
             ],
             [
              1,
              "#f0f921"
             ]
            ],
            "type": "heatmapgl"
           }
          ],
          "histogram": [
           {
            "marker": {
             "pattern": {
              "fillmode": "overlay",
              "size": 10,
              "solidity": 0.2
             }
            },
            "type": "histogram"
           }
          ],
          "histogram2d": [
           {
            "colorbar": {
             "outlinewidth": 0,
             "ticks": ""
            },
            "colorscale": [
             [
              0,
              "#0d0887"
             ],
             [
              0.1111111111111111,
              "#46039f"
             ],
             [
              0.2222222222222222,
              "#7201a8"
             ],
             [
              0.3333333333333333,
              "#9c179e"
             ],
             [
              0.4444444444444444,
              "#bd3786"
             ],
             [
              0.5555555555555556,
              "#d8576b"
             ],
             [
              0.6666666666666666,
              "#ed7953"
             ],
             [
              0.7777777777777778,
              "#fb9f3a"
             ],
             [
              0.8888888888888888,
              "#fdca26"
             ],
             [
              1,
              "#f0f921"
             ]
            ],
            "type": "histogram2d"
           }
          ],
          "histogram2dcontour": [
           {
            "colorbar": {
             "outlinewidth": 0,
             "ticks": ""
            },
            "colorscale": [
             [
              0,
              "#0d0887"
             ],
             [
              0.1111111111111111,
              "#46039f"
             ],
             [
              0.2222222222222222,
              "#7201a8"
             ],
             [
              0.3333333333333333,
              "#9c179e"
             ],
             [
              0.4444444444444444,
              "#bd3786"
             ],
             [
              0.5555555555555556,
              "#d8576b"
             ],
             [
              0.6666666666666666,
              "#ed7953"
             ],
             [
              0.7777777777777778,
              "#fb9f3a"
             ],
             [
              0.8888888888888888,
              "#fdca26"
             ],
             [
              1,
              "#f0f921"
             ]
            ],
            "type": "histogram2dcontour"
           }
          ],
          "mesh3d": [
           {
            "colorbar": {
             "outlinewidth": 0,
             "ticks": ""
            },
            "type": "mesh3d"
           }
          ],
          "parcoords": [
           {
            "line": {
             "colorbar": {
              "outlinewidth": 0,
              "ticks": ""
             }
            },
            "type": "parcoords"
           }
          ],
          "pie": [
           {
            "automargin": true,
            "type": "pie"
           }
          ],
          "scatter": [
           {
            "fillpattern": {
             "fillmode": "overlay",
             "size": 10,
             "solidity": 0.2
            },
            "type": "scatter"
           }
          ],
          "scatter3d": [
           {
            "line": {
             "colorbar": {
              "outlinewidth": 0,
              "ticks": ""
             }
            },
            "marker": {
             "colorbar": {
              "outlinewidth": 0,
              "ticks": ""
             }
            },
            "type": "scatter3d"
           }
          ],
          "scattercarpet": [
           {
            "marker": {
             "colorbar": {
              "outlinewidth": 0,
              "ticks": ""
             }
            },
            "type": "scattercarpet"
           }
          ],
          "scattergeo": [
           {
            "marker": {
             "colorbar": {
              "outlinewidth": 0,
              "ticks": ""
             }
            },
            "type": "scattergeo"
           }
          ],
          "scattergl": [
           {
            "marker": {
             "colorbar": {
              "outlinewidth": 0,
              "ticks": ""
             }
            },
            "type": "scattergl"
           }
          ],
          "scattermapbox": [
           {
            "marker": {
             "colorbar": {
              "outlinewidth": 0,
              "ticks": ""
             }
            },
            "type": "scattermapbox"
           }
          ],
          "scatterpolar": [
           {
            "marker": {
             "colorbar": {
              "outlinewidth": 0,
              "ticks": ""
             }
            },
            "type": "scatterpolar"
           }
          ],
          "scatterpolargl": [
           {
            "marker": {
             "colorbar": {
              "outlinewidth": 0,
              "ticks": ""
             }
            },
            "type": "scatterpolargl"
           }
          ],
          "scatterternary": [
           {
            "marker": {
             "colorbar": {
              "outlinewidth": 0,
              "ticks": ""
             }
            },
            "type": "scatterternary"
           }
          ],
          "surface": [
           {
            "colorbar": {
             "outlinewidth": 0,
             "ticks": ""
            },
            "colorscale": [
             [
              0,
              "#0d0887"
             ],
             [
              0.1111111111111111,
              "#46039f"
             ],
             [
              0.2222222222222222,
              "#7201a8"
             ],
             [
              0.3333333333333333,
              "#9c179e"
             ],
             [
              0.4444444444444444,
              "#bd3786"
             ],
             [
              0.5555555555555556,
              "#d8576b"
             ],
             [
              0.6666666666666666,
              "#ed7953"
             ],
             [
              0.7777777777777778,
              "#fb9f3a"
             ],
             [
              0.8888888888888888,
              "#fdca26"
             ],
             [
              1,
              "#f0f921"
             ]
            ],
            "type": "surface"
           }
          ],
          "table": [
           {
            "cells": {
             "fill": {
              "color": "#EBF0F8"
             },
             "line": {
              "color": "white"
             }
            },
            "header": {
             "fill": {
              "color": "#C8D4E3"
             },
             "line": {
              "color": "white"
             }
            },
            "type": "table"
           }
          ]
         },
         "layout": {
          "annotationdefaults": {
           "arrowcolor": "#2a3f5f",
           "arrowhead": 0,
           "arrowwidth": 1
          },
          "autotypenumbers": "strict",
          "coloraxis": {
           "colorbar": {
            "outlinewidth": 0,
            "ticks": ""
           }
          },
          "colorscale": {
           "diverging": [
            [
             0,
             "#8e0152"
            ],
            [
             0.1,
             "#c51b7d"
            ],
            [
             0.2,
             "#de77ae"
            ],
            [
             0.3,
             "#f1b6da"
            ],
            [
             0.4,
             "#fde0ef"
            ],
            [
             0.5,
             "#f7f7f7"
            ],
            [
             0.6,
             "#e6f5d0"
            ],
            [
             0.7,
             "#b8e186"
            ],
            [
             0.8,
             "#7fbc41"
            ],
            [
             0.9,
             "#4d9221"
            ],
            [
             1,
             "#276419"
            ]
           ],
           "sequential": [
            [
             0,
             "#0d0887"
            ],
            [
             0.1111111111111111,
             "#46039f"
            ],
            [
             0.2222222222222222,
             "#7201a8"
            ],
            [
             0.3333333333333333,
             "#9c179e"
            ],
            [
             0.4444444444444444,
             "#bd3786"
            ],
            [
             0.5555555555555556,
             "#d8576b"
            ],
            [
             0.6666666666666666,
             "#ed7953"
            ],
            [
             0.7777777777777778,
             "#fb9f3a"
            ],
            [
             0.8888888888888888,
             "#fdca26"
            ],
            [
             1,
             "#f0f921"
            ]
           ],
           "sequentialminus": [
            [
             0,
             "#0d0887"
            ],
            [
             0.1111111111111111,
             "#46039f"
            ],
            [
             0.2222222222222222,
             "#7201a8"
            ],
            [
             0.3333333333333333,
             "#9c179e"
            ],
            [
             0.4444444444444444,
             "#bd3786"
            ],
            [
             0.5555555555555556,
             "#d8576b"
            ],
            [
             0.6666666666666666,
             "#ed7953"
            ],
            [
             0.7777777777777778,
             "#fb9f3a"
            ],
            [
             0.8888888888888888,
             "#fdca26"
            ],
            [
             1,
             "#f0f921"
            ]
           ]
          },
          "colorway": [
           "#636efa",
           "#EF553B",
           "#00cc96",
           "#ab63fa",
           "#FFA15A",
           "#19d3f3",
           "#FF6692",
           "#B6E880",
           "#FF97FF",
           "#FECB52"
          ],
          "font": {
           "color": "#2a3f5f"
          },
          "geo": {
           "bgcolor": "white",
           "lakecolor": "white",
           "landcolor": "#E5ECF6",
           "showlakes": true,
           "showland": true,
           "subunitcolor": "white"
          },
          "hoverlabel": {
           "align": "left"
          },
          "hovermode": "closest",
          "mapbox": {
           "style": "light"
          },
          "paper_bgcolor": "white",
          "plot_bgcolor": "#E5ECF6",
          "polar": {
           "angularaxis": {
            "gridcolor": "white",
            "linecolor": "white",
            "ticks": ""
           },
           "bgcolor": "#E5ECF6",
           "radialaxis": {
            "gridcolor": "white",
            "linecolor": "white",
            "ticks": ""
           }
          },
          "scene": {
           "xaxis": {
            "backgroundcolor": "#E5ECF6",
            "gridcolor": "white",
            "gridwidth": 2,
            "linecolor": "white",
            "showbackground": true,
            "ticks": "",
            "zerolinecolor": "white"
           },
           "yaxis": {
            "backgroundcolor": "#E5ECF6",
            "gridcolor": "white",
            "gridwidth": 2,
            "linecolor": "white",
            "showbackground": true,
            "ticks": "",
            "zerolinecolor": "white"
           },
           "zaxis": {
            "backgroundcolor": "#E5ECF6",
            "gridcolor": "white",
            "gridwidth": 2,
            "linecolor": "white",
            "showbackground": true,
            "ticks": "",
            "zerolinecolor": "white"
           }
          },
          "shapedefaults": {
           "line": {
            "color": "#2a3f5f"
           }
          },
          "ternary": {
           "aaxis": {
            "gridcolor": "white",
            "linecolor": "white",
            "ticks": ""
           },
           "baxis": {
            "gridcolor": "white",
            "linecolor": "white",
            "ticks": ""
           },
           "bgcolor": "#E5ECF6",
           "caxis": {
            "gridcolor": "white",
            "linecolor": "white",
            "ticks": ""
           }
          },
          "title": {
           "x": 0.05
          },
          "xaxis": {
           "automargin": true,
           "gridcolor": "white",
           "linecolor": "white",
           "ticks": "",
           "title": {
            "standoff": 15
           },
           "zerolinecolor": "white",
           "zerolinewidth": 2
          },
          "yaxis": {
           "automargin": true,
           "gridcolor": "white",
           "linecolor": "white",
           "ticks": "",
           "title": {
            "standoff": 15
           },
           "zerolinecolor": "white",
           "zerolinewidth": 2
          }
         }
        },
        "title": {
         "text": "Top 10 Drivers by Pole Positions",
         "x": 0.5
        },
        "xaxis": {
         "title": {
          "text": "Year"
         }
        },
        "yaxis": {
         "title": {
          "text": "Pole Positions"
         }
        }
       }
      }
     },
     "metadata": {},
     "output_type": "display_data"
    },
    {
     "data": {
      "application/vnd.plotly.v1+json": {
       "config": {
        "plotlyServerURL": "https://plot.ly"
       },
       "data": [
        {
         "hoverinfo": "text",
         "marker": {
          "color": "#2B4562",
          "size": 0
         },
         "mode": "markers",
         "name": "AlphaTauri",
         "text": [
          "AlphaTauri<br>Q3 Appearances: 80<br>Front Row Starts: 0<br>Pole Positions: 0"
         ],
         "type": "scatter",
         "x": [
          80
         ],
         "y": [
          0
         ]
        },
        {
         "hoverinfo": "text",
         "marker": {
          "color": "#0090FF",
          "size": 0
         },
         "mode": "markers",
         "name": "Alpine",
         "text": [
          "Alpine<br>Q3 Appearances: 116<br>Front Row Starts: 1<br>Pole Positions: 0"
         ],
         "type": "scatter",
         "x": [
          116
         ],
         "y": [
          1
         ]
        },
        {
         "hoverinfo": "text",
         "marker": {
          "color": "#006F62",
          "size": 2
         },
         "mode": "markers",
         "name": "Aston Martin",
         "text": [
          "Aston Martin<br>Q3 Appearances: 92<br>Front Row Starts: 3<br>Pole Positions: 1"
         ],
         "type": "scatter",
         "x": [
          92
         ],
         "y": [
          3
         ]
        },
        {
         "hoverinfo": "text",
         "marker": {
          "color": "#DC0000",
          "size": 56
         },
         "mode": "markers",
         "name": "Ferrari",
         "text": [
          "Ferrari<br>Q3 Appearances: 192<br>Front Row Starts: 58<br>Pole Positions: 28"
         ],
         "type": "scatter",
         "x": [
          192
         ],
         "y": [
          58
         ]
        },
        {
         "hoverinfo": "text",
         "marker": {
          "color": "#F0D787",
          "size": 2
         },
         "mode": "markers",
         "name": "Haas",
         "text": [
          "Haas<br>Q3 Appearances: 46<br>Front Row Starts: 2<br>Pole Positions: 1"
         ],
         "type": "scatter",
         "x": [
          46
         ],
         "y": [
          2
         ]
        },
        {
         "hoverinfo": "text",
         "marker": {
          "color": "#000000",
          "size": 0
         },
         "mode": "markers",
         "name": "Kick Sauber",
         "text": [
          "Kick Sauber<br>Q3 Appearances: 36<br>Front Row Starts: 0<br>Pole Positions: 0"
         ],
         "type": "scatter",
         "x": [
          36
         ],
         "y": [
          0
         ]
        },
        {
         "hoverinfo": "text",
         "marker": {
          "color": "#FF8700",
          "size": 6
         },
         "mode": "markers",
         "name": "McLaren",
         "text": [
          "McLaren<br>Q3 Appearances: 173<br>Front Row Starts: 12<br>Pole Positions: 3"
         ],
         "type": "scatter",
         "x": [
          173
         ],
         "y": [
          12
         ]
        },
        {
         "hoverinfo": "text",
         "marker": {
          "color": "#00D2BE",
          "size": 76
         },
         "mode": "markers",
         "name": "Mercedes",
         "text": [
          "Mercedes<br>Q3 Appearances: 217<br>Front Row Starts: 84<br>Pole Positions: 38"
         ],
         "type": "scatter",
         "x": [
          217
         ],
         "y": [
          84
         ]
        },
        {
         "hoverinfo": "text",
         "marker": {
          "color": "#1E41FF",
          "size": 92
         },
         "mode": "markers",
         "name": "Red Bull",
         "text": [
          "Red Bull<br>Q3 Appearances: 200<br>Front Row Starts: 73<br>Pole Positions: 46"
         ],
         "type": "scatter",
         "x": [
          200
         ],
         "y": [
          73
         ]
        },
        {
         "hoverinfo": "text",
         "marker": {
          "color": "#005AFF",
          "size": 0
         },
         "mode": "markers",
         "name": "Williams",
         "text": [
          "Williams<br>Q3 Appearances: 18<br>Front Row Starts: 1<br>Pole Positions: 0"
         ],
         "type": "scatter",
         "x": [
          18
         ],
         "y": [
          1
         ]
        }
       ],
       "layout": {
        "template": {
         "data": {
          "bar": [
           {
            "error_x": {
             "color": "#2a3f5f"
            },
            "error_y": {
             "color": "#2a3f5f"
            },
            "marker": {
             "line": {
              "color": "#E5ECF6",
              "width": 0.5
             },
             "pattern": {
              "fillmode": "overlay",
              "size": 10,
              "solidity": 0.2
             }
            },
            "type": "bar"
           }
          ],
          "barpolar": [
           {
            "marker": {
             "line": {
              "color": "#E5ECF6",
              "width": 0.5
             },
             "pattern": {
              "fillmode": "overlay",
              "size": 10,
              "solidity": 0.2
             }
            },
            "type": "barpolar"
           }
          ],
          "carpet": [
           {
            "aaxis": {
             "endlinecolor": "#2a3f5f",
             "gridcolor": "white",
             "linecolor": "white",
             "minorgridcolor": "white",
             "startlinecolor": "#2a3f5f"
            },
            "baxis": {
             "endlinecolor": "#2a3f5f",
             "gridcolor": "white",
             "linecolor": "white",
             "minorgridcolor": "white",
             "startlinecolor": "#2a3f5f"
            },
            "type": "carpet"
           }
          ],
          "choropleth": [
           {
            "colorbar": {
             "outlinewidth": 0,
             "ticks": ""
            },
            "type": "choropleth"
           }
          ],
          "contour": [
           {
            "colorbar": {
             "outlinewidth": 0,
             "ticks": ""
            },
            "colorscale": [
             [
              0,
              "#0d0887"
             ],
             [
              0.1111111111111111,
              "#46039f"
             ],
             [
              0.2222222222222222,
              "#7201a8"
             ],
             [
              0.3333333333333333,
              "#9c179e"
             ],
             [
              0.4444444444444444,
              "#bd3786"
             ],
             [
              0.5555555555555556,
              "#d8576b"
             ],
             [
              0.6666666666666666,
              "#ed7953"
             ],
             [
              0.7777777777777778,
              "#fb9f3a"
             ],
             [
              0.8888888888888888,
              "#fdca26"
             ],
             [
              1,
              "#f0f921"
             ]
            ],
            "type": "contour"
           }
          ],
          "contourcarpet": [
           {
            "colorbar": {
             "outlinewidth": 0,
             "ticks": ""
            },
            "type": "contourcarpet"
           }
          ],
          "heatmap": [
           {
            "colorbar": {
             "outlinewidth": 0,
             "ticks": ""
            },
            "colorscale": [
             [
              0,
              "#0d0887"
             ],
             [
              0.1111111111111111,
              "#46039f"
             ],
             [
              0.2222222222222222,
              "#7201a8"
             ],
             [
              0.3333333333333333,
              "#9c179e"
             ],
             [
              0.4444444444444444,
              "#bd3786"
             ],
             [
              0.5555555555555556,
              "#d8576b"
             ],
             [
              0.6666666666666666,
              "#ed7953"
             ],
             [
              0.7777777777777778,
              "#fb9f3a"
             ],
             [
              0.8888888888888888,
              "#fdca26"
             ],
             [
              1,
              "#f0f921"
             ]
            ],
            "type": "heatmap"
           }
          ],
          "heatmapgl": [
           {
            "colorbar": {
             "outlinewidth": 0,
             "ticks": ""
            },
            "colorscale": [
             [
              0,
              "#0d0887"
             ],
             [
              0.1111111111111111,
              "#46039f"
             ],
             [
              0.2222222222222222,
              "#7201a8"
             ],
             [
              0.3333333333333333,
              "#9c179e"
             ],
             [
              0.4444444444444444,
              "#bd3786"
             ],
             [
              0.5555555555555556,
              "#d8576b"
             ],
             [
              0.6666666666666666,
              "#ed7953"
             ],
             [
              0.7777777777777778,
              "#fb9f3a"
             ],
             [
              0.8888888888888888,
              "#fdca26"
             ],
             [
              1,
              "#f0f921"
             ]
            ],
            "type": "heatmapgl"
           }
          ],
          "histogram": [
           {
            "marker": {
             "pattern": {
              "fillmode": "overlay",
              "size": 10,
              "solidity": 0.2
             }
            },
            "type": "histogram"
           }
          ],
          "histogram2d": [
           {
            "colorbar": {
             "outlinewidth": 0,
             "ticks": ""
            },
            "colorscale": [
             [
              0,
              "#0d0887"
             ],
             [
              0.1111111111111111,
              "#46039f"
             ],
             [
              0.2222222222222222,
              "#7201a8"
             ],
             [
              0.3333333333333333,
              "#9c179e"
             ],
             [
              0.4444444444444444,
              "#bd3786"
             ],
             [
              0.5555555555555556,
              "#d8576b"
             ],
             [
              0.6666666666666666,
              "#ed7953"
             ],
             [
              0.7777777777777778,
              "#fb9f3a"
             ],
             [
              0.8888888888888888,
              "#fdca26"
             ],
             [
              1,
              "#f0f921"
             ]
            ],
            "type": "histogram2d"
           }
          ],
          "histogram2dcontour": [
           {
            "colorbar": {
             "outlinewidth": 0,
             "ticks": ""
            },
            "colorscale": [
             [
              0,
              "#0d0887"
             ],
             [
              0.1111111111111111,
              "#46039f"
             ],
             [
              0.2222222222222222,
              "#7201a8"
             ],
             [
              0.3333333333333333,
              "#9c179e"
             ],
             [
              0.4444444444444444,
              "#bd3786"
             ],
             [
              0.5555555555555556,
              "#d8576b"
             ],
             [
              0.6666666666666666,
              "#ed7953"
             ],
             [
              0.7777777777777778,
              "#fb9f3a"
             ],
             [
              0.8888888888888888,
              "#fdca26"
             ],
             [
              1,
              "#f0f921"
             ]
            ],
            "type": "histogram2dcontour"
           }
          ],
          "mesh3d": [
           {
            "colorbar": {
             "outlinewidth": 0,
             "ticks": ""
            },
            "type": "mesh3d"
           }
          ],
          "parcoords": [
           {
            "line": {
             "colorbar": {
              "outlinewidth": 0,
              "ticks": ""
             }
            },
            "type": "parcoords"
           }
          ],
          "pie": [
           {
            "automargin": true,
            "type": "pie"
           }
          ],
          "scatter": [
           {
            "fillpattern": {
             "fillmode": "overlay",
             "size": 10,
             "solidity": 0.2
            },
            "type": "scatter"
           }
          ],
          "scatter3d": [
           {
            "line": {
             "colorbar": {
              "outlinewidth": 0,
              "ticks": ""
             }
            },
            "marker": {
             "colorbar": {
              "outlinewidth": 0,
              "ticks": ""
             }
            },
            "type": "scatter3d"
           }
          ],
          "scattercarpet": [
           {
            "marker": {
             "colorbar": {
              "outlinewidth": 0,
              "ticks": ""
             }
            },
            "type": "scattercarpet"
           }
          ],
          "scattergeo": [
           {
            "marker": {
             "colorbar": {
              "outlinewidth": 0,
              "ticks": ""
             }
            },
            "type": "scattergeo"
           }
          ],
          "scattergl": [
           {
            "marker": {
             "colorbar": {
              "outlinewidth": 0,
              "ticks": ""
             }
            },
            "type": "scattergl"
           }
          ],
          "scattermapbox": [
           {
            "marker": {
             "colorbar": {
              "outlinewidth": 0,
              "ticks": ""
             }
            },
            "type": "scattermapbox"
           }
          ],
          "scatterpolar": [
           {
            "marker": {
             "colorbar": {
              "outlinewidth": 0,
              "ticks": ""
             }
            },
            "type": "scatterpolar"
           }
          ],
          "scatterpolargl": [
           {
            "marker": {
             "colorbar": {
              "outlinewidth": 0,
              "ticks": ""
             }
            },
            "type": "scatterpolargl"
           }
          ],
          "scatterternary": [
           {
            "marker": {
             "colorbar": {
              "outlinewidth": 0,
              "ticks": ""
             }
            },
            "type": "scatterternary"
           }
          ],
          "surface": [
           {
            "colorbar": {
             "outlinewidth": 0,
             "ticks": ""
            },
            "colorscale": [
             [
              0,
              "#0d0887"
             ],
             [
              0.1111111111111111,
              "#46039f"
             ],
             [
              0.2222222222222222,
              "#7201a8"
             ],
             [
              0.3333333333333333,
              "#9c179e"
             ],
             [
              0.4444444444444444,
              "#bd3786"
             ],
             [
              0.5555555555555556,
              "#d8576b"
             ],
             [
              0.6666666666666666,
              "#ed7953"
             ],
             [
              0.7777777777777778,
              "#fb9f3a"
             ],
             [
              0.8888888888888888,
              "#fdca26"
             ],
             [
              1,
              "#f0f921"
             ]
            ],
            "type": "surface"
           }
          ],
          "table": [
           {
            "cells": {
             "fill": {
              "color": "#EBF0F8"
             },
             "line": {
              "color": "white"
             }
            },
            "header": {
             "fill": {
              "color": "#C8D4E3"
             },
             "line": {
              "color": "white"
             }
            },
            "type": "table"
           }
          ]
         },
         "layout": {
          "annotationdefaults": {
           "arrowcolor": "#2a3f5f",
           "arrowhead": 0,
           "arrowwidth": 1
          },
          "autotypenumbers": "strict",
          "coloraxis": {
           "colorbar": {
            "outlinewidth": 0,
            "ticks": ""
           }
          },
          "colorscale": {
           "diverging": [
            [
             0,
             "#8e0152"
            ],
            [
             0.1,
             "#c51b7d"
            ],
            [
             0.2,
             "#de77ae"
            ],
            [
             0.3,
             "#f1b6da"
            ],
            [
             0.4,
             "#fde0ef"
            ],
            [
             0.5,
             "#f7f7f7"
            ],
            [
             0.6,
             "#e6f5d0"
            ],
            [
             0.7,
             "#b8e186"
            ],
            [
             0.8,
             "#7fbc41"
            ],
            [
             0.9,
             "#4d9221"
            ],
            [
             1,
             "#276419"
            ]
           ],
           "sequential": [
            [
             0,
             "#0d0887"
            ],
            [
             0.1111111111111111,
             "#46039f"
            ],
            [
             0.2222222222222222,
             "#7201a8"
            ],
            [
             0.3333333333333333,
             "#9c179e"
            ],
            [
             0.4444444444444444,
             "#bd3786"
            ],
            [
             0.5555555555555556,
             "#d8576b"
            ],
            [
             0.6666666666666666,
             "#ed7953"
            ],
            [
             0.7777777777777778,
             "#fb9f3a"
            ],
            [
             0.8888888888888888,
             "#fdca26"
            ],
            [
             1,
             "#f0f921"
            ]
           ],
           "sequentialminus": [
            [
             0,
             "#0d0887"
            ],
            [
             0.1111111111111111,
             "#46039f"
            ],
            [
             0.2222222222222222,
             "#7201a8"
            ],
            [
             0.3333333333333333,
             "#9c179e"
            ],
            [
             0.4444444444444444,
             "#bd3786"
            ],
            [
             0.5555555555555556,
             "#d8576b"
            ],
            [
             0.6666666666666666,
             "#ed7953"
            ],
            [
             0.7777777777777778,
             "#fb9f3a"
            ],
            [
             0.8888888888888888,
             "#fdca26"
            ],
            [
             1,
             "#f0f921"
            ]
           ]
          },
          "colorway": [
           "#636efa",
           "#EF553B",
           "#00cc96",
           "#ab63fa",
           "#FFA15A",
           "#19d3f3",
           "#FF6692",
           "#B6E880",
           "#FF97FF",
           "#FECB52"
          ],
          "font": {
           "color": "#2a3f5f"
          },
          "geo": {
           "bgcolor": "white",
           "lakecolor": "white",
           "landcolor": "#E5ECF6",
           "showlakes": true,
           "showland": true,
           "subunitcolor": "white"
          },
          "hoverlabel": {
           "align": "left"
          },
          "hovermode": "closest",
          "mapbox": {
           "style": "light"
          },
          "paper_bgcolor": "white",
          "plot_bgcolor": "#E5ECF6",
          "polar": {
           "angularaxis": {
            "gridcolor": "white",
            "linecolor": "white",
            "ticks": ""
           },
           "bgcolor": "#E5ECF6",
           "radialaxis": {
            "gridcolor": "white",
            "linecolor": "white",
            "ticks": ""
           }
          },
          "scene": {
           "xaxis": {
            "backgroundcolor": "#E5ECF6",
            "gridcolor": "white",
            "gridwidth": 2,
            "linecolor": "white",
            "showbackground": true,
            "ticks": "",
            "zerolinecolor": "white"
           },
           "yaxis": {
            "backgroundcolor": "#E5ECF6",
            "gridcolor": "white",
            "gridwidth": 2,
            "linecolor": "white",
            "showbackground": true,
            "ticks": "",
            "zerolinecolor": "white"
           },
           "zaxis": {
            "backgroundcolor": "#E5ECF6",
            "gridcolor": "white",
            "gridwidth": 2,
            "linecolor": "white",
            "showbackground": true,
            "ticks": "",
            "zerolinecolor": "white"
           }
          },
          "shapedefaults": {
           "line": {
            "color": "#2a3f5f"
           }
          },
          "ternary": {
           "aaxis": {
            "gridcolor": "white",
            "linecolor": "white",
            "ticks": ""
           },
           "baxis": {
            "gridcolor": "white",
            "linecolor": "white",
            "ticks": ""
           },
           "bgcolor": "#E5ECF6",
           "caxis": {
            "gridcolor": "white",
            "linecolor": "white",
            "ticks": ""
           }
          },
          "title": {
           "x": 0.05
          },
          "xaxis": {
           "automargin": true,
           "gridcolor": "white",
           "linecolor": "white",
           "ticks": "",
           "title": {
            "standoff": 15
           },
           "zerolinecolor": "white",
           "zerolinewidth": 2
          },
          "yaxis": {
           "automargin": true,
           "gridcolor": "white",
           "linecolor": "white",
           "ticks": "",
           "title": {
            "standoff": 15
           },
           "zerolinecolor": "white",
           "zerolinewidth": 2
          }
         }
        },
        "title": {
         "text": "Team Performance in Qualifying",
         "x": 0.5
        },
        "xaxis": {
         "title": {
          "text": "Q3 Appearances"
         }
        },
        "yaxis": {
         "title": {
          "text": "Front Row Starts"
         }
        }
       }
      }
     },
     "metadata": {},
     "output_type": "display_data"
    }
   ],
   "source": [
    "\n",
    "def visualize_qualifying_performance(qualifying_df, team_mapping):\n",
    "    # Normalize team names\n",
    "    qualifying_df['NormalizedTeam'] = qualifying_df['Team'].apply(lambda x: normalize_team_name(x, team_mapping))\n",
    "    \n",
    "    # Convert Position to numeric, treating non-numeric values as NaN\n",
    "    qualifying_df['NumericPosition'] = pd.to_numeric(qualifying_df['Position'], errors='coerce')\n",
    "    \n",
    "    # 1. Cumulative Pole Positions by Team\n",
    "    pole_positions = qualifying_df[qualifying_df['NumericPosition'] == 1].groupby(['Year', 'NormalizedTeam']).size().unstack(fill_value=0).cumsum()\n",
    "    fig1 = go.Figure()\n",
    "    for team in pole_positions.columns:\n",
    "        fig1.add_trace(go.Scatter(x=pole_positions.index, y=pole_positions[team],\n",
    "                                  mode='lines+markers', name=team,\n",
    "                                  line=dict(color=team_colors.get(team, '#000000'))))\n",
    "    fig1.update_layout(title='Cumulative Pole Positions by Team',\n",
    "                       title_x=0.5,\n",
    "                       xaxis_title='Year', yaxis_title='Cumulative Pole Positions')\n",
    "    fig1.show()\n",
    "\n",
    "    # 2. Total Pole Positions by Team\n",
    "    total_poles = pole_positions.iloc[-1].sort_values(ascending=False)\n",
    "    fig2 = go.Figure(go.Bar(x=total_poles.index, y=total_poles.values,\n",
    "                            marker_color=[team_colors.get(team, '#000000') for team in total_poles.index]))\n",
    "    fig2.update_layout(title='Total Pole Positions by Team',\n",
    "                       title_x=0.5,\n",
    "                       xaxis_title='Team', yaxis_title='Total Pole Positions')\n",
    "    fig2.show()\n",
    "\n",
    "    # 3. Top 10 Drivers by Pole Positions (Line Plot)\n",
    "    driver_poles = qualifying_df[qualifying_df['NumericPosition'] == 1].groupby(['Driver', 'Year']).size().unstack(fill_value=0)\n",
    "    driver_poles['Total'] = driver_poles.sum(axis=1)\n",
    "    top_drivers = driver_poles.nlargest(10, 'Total')\n",
    "    fig3 = go.Figure()\n",
    "    for driver in top_drivers.index:\n",
    "        fig3.add_trace(go.Scatter(x=top_drivers.columns[:-1], y=top_drivers.loc[driver, top_drivers.columns[:-1]],\n",
    "                                  mode='lines+markers', name=driver))\n",
    "    fig3.update_layout(title='Top 10 Drivers by Pole Positions',\n",
    "                       title_x=0.5,\n",
    "                       xaxis_title='Year', yaxis_title='Pole Positions')\n",
    "    fig3.show()\n",
    "\n",
    "    # 4. Team Performance in Qualifying\n",
    "    team_performance = qualifying_df.groupby('NormalizedTeam').agg({\n",
    "        'NumericPosition': [('Q3', lambda x: (x <= 10).sum()),\n",
    "                            ('Front_Row', lambda x: (x <= 2).sum()),\n",
    "                            ('Pole', lambda x: (x == 1).sum())]\n",
    "    })\n",
    "    team_performance.columns = ['Q3_Appearances', 'Front_Row_Starts', 'Pole_Positions']\n",
    "    fig4 = go.Figure()\n",
    "    for team in team_performance.index:\n",
    "        fig4.add_trace(go.Scatter(x=[team_performance.loc[team, 'Q3_Appearances']],\n",
    "                                  y=[team_performance.loc[team, 'Front_Row_Starts']],\n",
    "                                  mode='markers',\n",
    "                                  marker=dict(size=team_performance.loc[team, 'Pole_Positions']*2,\n",
    "                                              color=team_colors.get(team, '#000000')),\n",
    "                                  name=team,\n",
    "                                  text=[f\"{team}<br>Q3 Appearances: {team_performance.loc[team, 'Q3_Appearances']}<br>\"\n",
    "                                        f\"Front Row Starts: {team_performance.loc[team, 'Front_Row_Starts']}<br>\"\n",
    "                                        f\"Pole Positions: {team_performance.loc[team, 'Pole_Positions']}\"],\n",
    "                                  hoverinfo='text'))\n",
    "    fig4.update_layout(title='Team Performance in Qualifying',\n",
    "                       title_x=0.5,\n",
    "                       xaxis_title='Q3 Appearances', yaxis_title='Front Row Starts')\n",
    "    fig4.show()\n",
    "\n",
    "\n",
    "# Main execution\n",
    "if __name__ == \"__main__\":\n",
    "    qualifying_df = get_qualifying_results()\n",
    "    team_mapping = get_team_mapping()\n",
    "    visualize_qualifying_performance(qualifying_df, team_mapping)\n"
   ]
  },
  {
   "cell_type": "code",
   "execution_count": 19,
   "metadata": {},
   "outputs": [
    {
     "name": "stdout",
     "output_type": "stream",
     "text": [
      "Requirement already satisfied: tabulate in /Users/sanohijatav/anaconda3/lib/python3.11/site-packages (0.8.10)\n",
      "\n",
      "\u001b[1m[\u001b[0m\u001b[34;49mnotice\u001b[0m\u001b[1;39;49m]\u001b[0m\u001b[39;49m A new release of pip is available: \u001b[0m\u001b[31;49m24.0\u001b[0m\u001b[39;49m -> \u001b[0m\u001b[32;49m24.2\u001b[0m\n",
      "\u001b[1m[\u001b[0m\u001b[34;49mnotice\u001b[0m\u001b[1;39;49m]\u001b[0m\u001b[39;49m To update, run: \u001b[0m\u001b[32;49mpip install --upgrade pip\u001b[0m\n",
      "Note: you may need to restart the kernel to use updated packages.\n"
     ]
    }
   ],
   "source": [
    "pip install tabulate"
   ]
  },
  {
   "cell_type": "markdown",
   "metadata": {},
   "source": [
    "## Team Performance Analysis: Race Results"
   ]
  },
  {
   "cell_type": "code",
   "execution_count": 20,
   "metadata": {},
   "outputs": [
    {
     "name": "stdout",
     "output_type": "stream",
     "text": [
      "\n",
      "Race Analysis for Mercedes:\n",
      "========================================\n",
      "Overall Statistics:\n",
      "Total Races: 117\n",
      "Total Wins: 41\n",
      "Total Podium Finishes: 116\n",
      "Total Top 5 Finishes: 162\n",
      "Total Points Finishes: 206\n",
      "Best Position: 1\n",
      "Total Not Classified (NC): 16\n",
      "Total Disqualifications (DQ): 2\n",
      "Total Other Non-Finishes: 0\n",
      "\n",
      "Wins by Year and Driver:\n",
      "+--------+-----------------+--------+\n",
      "| Year   | Driver          |   Wins |\n",
      "+========+=================+========+\n",
      "| 2019   | Lewis Hamilton  |     11 |\n",
      "+--------+-----------------+--------+\n",
      "|        | Valtteri Bottas |      4 |\n",
      "+--------+-----------------+--------+\n",
      "| 2020   | Lewis Hamilton  |     11 |\n",
      "+--------+-----------------+--------+\n",
      "|        | Valtteri Bottas |      2 |\n",
      "+--------+-----------------+--------+\n",
      "| 2021   | Lewis Hamilton  |      8 |\n",
      "+--------+-----------------+--------+\n",
      "|        | Valtteri Bottas |      1 |\n",
      "+--------+-----------------+--------+\n",
      "| 2022   | George Russell  |      1 |\n",
      "+--------+-----------------+--------+\n",
      "| 2024   | Lewis Hamilton  |      2 |\n",
      "+--------+-----------------+--------+\n",
      "|        | George Russell  |      1 |\n",
      "+--------+-----------------+--------+\n",
      "\n",
      "Top 5 Best Performing Tracks:\n",
      "+---------------+--------+-------------------+\n",
      "| Country       |   Wins |   Podium Finishes |\n",
      "+===============+========+===================+\n",
      "| Great Britain |      4 |                10 |\n",
      "+---------------+--------+-------------------+\n",
      "| Spain         |      3 |                10 |\n",
      "+---------------+--------+-------------------+\n",
      "| Bahrain       |      3 |                 6 |\n",
      "+---------------+--------+-------------------+\n",
      "| Russia        |      3 |                 5 |\n",
      "+---------------+--------+-------------------+\n",
      "| Hungary       |      2 |                 7 |\n",
      "+---------------+--------+-------------------+\n",
      "\n",
      "Race Analysis for Red Bull:\n",
      "========================================\n",
      "Overall Statistics:\n",
      "Total Races: 117\n",
      "Total Wins: 61\n",
      "Total Podium Finishes: 116\n",
      "Total Top 5 Finishes: 161\n",
      "Total Points Finishes: 199\n",
      "Best Position: 1\n",
      "Total Not Classified (NC): 21\n",
      "Total Disqualifications (DQ): 0\n",
      "Total Other Non-Finishes: 0\n",
      "\n",
      "Wins by Year and Driver:\n",
      "+--------+----------------+--------+\n",
      "| Year   | Driver         |   Wins |\n",
      "+========+================+========+\n",
      "| 2019   | Max Verstappen |      3 |\n",
      "+--------+----------------+--------+\n",
      "| 2020   | Max Verstappen |      2 |\n",
      "+--------+----------------+--------+\n",
      "| 2021   | Max Verstappen |     10 |\n",
      "+--------+----------------+--------+\n",
      "|        | Sergio Perez   |      1 |\n",
      "+--------+----------------+--------+\n",
      "| 2022   | Max Verstappen |     15 |\n",
      "+--------+----------------+--------+\n",
      "|        | Sergio Perez   |      2 |\n",
      "+--------+----------------+--------+\n",
      "| 2023   | Max Verstappen |     19 |\n",
      "+--------+----------------+--------+\n",
      "|        | Sergio Perez   |      2 |\n",
      "+--------+----------------+--------+\n",
      "| 2024   | Max Verstappen |      7 |\n",
      "+--------+----------------+--------+\n",
      "\n",
      "Top 5 Best Performing Tracks:\n",
      "+--------------+--------+-------------------+\n",
      "| Country      |   Wins |   Podium Finishes |\n",
      "+==============+========+===================+\n",
      "| Abu Dhabi    |      4 |                 6 |\n",
      "+--------------+--------+-------------------+\n",
      "| Spain        |      3 |                 7 |\n",
      "+--------------+--------+-------------------+\n",
      "| Belgium      |      3 |                 6 |\n",
      "+--------------+--------+-------------------+\n",
      "| Saudi Arabia |      3 |                 6 |\n",
      "+--------------+--------+-------------------+\n",
      "| Austria      |      3 |                 5 |\n",
      "+--------------+--------+-------------------+\n",
      "\n",
      "Race Analysis for Ferrari:\n",
      "========================================\n",
      "Overall Statistics:\n",
      "Total Races: 117\n",
      "Total Wins: 10\n",
      "Total Podium Finishes: 67\n",
      "Total Top 5 Finishes: 127\n",
      "Total Points Finishes: 182\n",
      "Best Position: 1\n",
      "Total Not Classified (NC): 29\n",
      "Total Disqualifications (DQ): 1\n",
      "Total Other Non-Finishes: 0\n",
      "\n",
      "Wins by Year and Driver:\n",
      "+--------+------------------+--------+\n",
      "| Year   | Driver           |   Wins |\n",
      "+========+==================+========+\n",
      "| 2019   | Charles Leclerc  |      2 |\n",
      "+--------+------------------+--------+\n",
      "|        | Sebastian Vettel |      1 |\n",
      "+--------+------------------+--------+\n",
      "| 2022   | Charles Leclerc  |      3 |\n",
      "+--------+------------------+--------+\n",
      "|        | Carlos Sainz     |      1 |\n",
      "+--------+------------------+--------+\n",
      "| 2023   | Carlos Sainz     |      1 |\n",
      "+--------+------------------+--------+\n",
      "| 2024   | Carlos Sainz     |      1 |\n",
      "+--------+------------------+--------+\n",
      "|        | Charles Leclerc  |      1 |\n",
      "+--------+------------------+--------+\n",
      "\n",
      "Top 5 Best Performing Tracks:\n",
      "+-----------+--------+-------------------+\n",
      "| Country   |   Wins |   Podium Finishes |\n",
      "+===========+========+===================+\n",
      "| Singapore |      2 |                 5 |\n",
      "+-----------+--------+-------------------+\n",
      "| Australia |      2 |                 3 |\n",
      "+-----------+--------+-------------------+\n",
      "| Austria   |      1 |                 5 |\n",
      "+-----------+--------+-------------------+\n",
      "| Monaco    |      1 |                 5 |\n",
      "+-----------+--------+-------------------+\n",
      "| Bahrain   |      1 |                 4 |\n",
      "+-----------+--------+-------------------+\n",
      "\n",
      "Race Analysis for Haas:\n",
      "========================================\n",
      "Overall Statistics:\n",
      "Total Races: 117\n",
      "Total Wins: 0\n",
      "Total Podium Finishes: 0\n",
      "Total Top 5 Finishes: 1\n",
      "Total Points Finishes: 28\n",
      "Best Position: 5\n",
      "Total Not Classified (NC): 40\n",
      "Total Disqualifications (DQ): 0\n",
      "Total Other Non-Finishes: 0\n",
      "\n",
      "Top 5 Best Performing Tracks:\n",
      "+------------+--------+-------------------+\n",
      "| Country    |   Wins |   Podium Finishes |\n",
      "+============+========+===================+\n",
      "| Abu Dhabi  |      0 |                 0 |\n",
      "+------------+--------+-------------------+\n",
      "| Australia  |      0 |                 0 |\n",
      "+------------+--------+-------------------+\n",
      "| Austria    |      0 |                 0 |\n",
      "+------------+--------+-------------------+\n",
      "| Azerbaijan |      0 |                 0 |\n",
      "+------------+--------+-------------------+\n",
      "| Bahrain    |      0 |                 0 |\n",
      "+------------+--------+-------------------+\n",
      "\n",
      "Race Analysis for Alpine:\n",
      "========================================\n",
      "Overall Statistics:\n",
      "Total Races: 117\n",
      "Total Wins: 1\n",
      "Total Podium Finishes: 7\n",
      "Total Top 5 Finishes: 24\n",
      "Total Points Finishes: 132\n",
      "Best Position: 1\n",
      "Total Not Classified (NC): 34\n",
      "Total Disqualifications (DQ): 2\n",
      "Total Other Non-Finishes: 0\n",
      "\n",
      "Wins by Year and Driver:\n",
      "+--------+--------------+--------+\n",
      "|   Year | Driver       |   Wins |\n",
      "+========+==============+========+\n",
      "|   2021 | Esteban Ocon |      1 |\n",
      "+--------+--------------+--------+\n",
      "\n",
      "Top 5 Best Performing Tracks:\n",
      "+----------------+--------+-------------------+\n",
      "| Country        |   Wins |   Podium Finishes |\n",
      "+================+========+===================+\n",
      "| Hungary        |      1 |                 1 |\n",
      "+----------------+--------+-------------------+\n",
      "| Emilia Romagna |      0 |                 1 |\n",
      "+----------------+--------+-------------------+\n",
      "| Germany        |      0 |                 1 |\n",
      "+----------------+--------+-------------------+\n",
      "| Monaco         |      0 |                 1 |\n",
      "+----------------+--------+-------------------+\n",
      "| Netherlands    |      0 |                 1 |\n",
      "+----------------+--------+-------------------+\n",
      "\n",
      "Race Analysis for Kick Sauber:\n",
      "========================================\n",
      "Overall Statistics:\n",
      "Total Races: 117\n",
      "Total Wins: 0\n",
      "Total Podium Finishes: 0\n",
      "Total Top 5 Finishes: 3\n",
      "Total Points Finishes: 43\n",
      "Best Position: 4\n",
      "Total Not Classified (NC): 29\n",
      "Total Disqualifications (DQ): 0\n",
      "Total Other Non-Finishes: 0\n",
      "\n",
      "Top 5 Best Performing Tracks:\n",
      "+------------+--------+-------------------+\n",
      "| Country    |   Wins |   Podium Finishes |\n",
      "+============+========+===================+\n",
      "| Abu Dhabi  |      0 |                 0 |\n",
      "+------------+--------+-------------------+\n",
      "| Australia  |      0 |                 0 |\n",
      "+------------+--------+-------------------+\n",
      "| Austria    |      0 |                 0 |\n",
      "+------------+--------+-------------------+\n",
      "| Azerbaijan |      0 |                 0 |\n",
      "+------------+--------+-------------------+\n",
      "| Bahrain    |      0 |                 0 |\n",
      "+------------+--------+-------------------+\n",
      "\n",
      "Race Analysis for Aston Martin:\n",
      "========================================\n",
      "Overall Statistics:\n",
      "Total Races: 117\n",
      "Total Wins: 1\n",
      "Total Podium Finishes: 13\n",
      "Total Top 5 Finishes: 29\n",
      "Total Points Finishes: 122\n",
      "Best Position: 1\n",
      "Total Not Classified (NC): 27\n",
      "Total Disqualifications (DQ): 1\n",
      "Total Other Non-Finishes: 0\n",
      "\n",
      "Wins by Year and Driver:\n",
      "+--------+--------------+--------+\n",
      "|   Year | Driver       |   Wins |\n",
      "+========+==============+========+\n",
      "|   2020 | Sergio Perez |      1 |\n",
      "+--------+--------------+--------+\n",
      "\n",
      "Top 5 Best Performing Tracks:\n",
      "+------------+--------+-------------------+\n",
      "| Country    |   Wins |   Podium Finishes |\n",
      "+============+========+===================+\n",
      "| Sakhir     |      1 |                 2 |\n",
      "+------------+--------+-------------------+\n",
      "| Australia  |      0 |                 1 |\n",
      "+------------+--------+-------------------+\n",
      "| Azerbaijan |      0 |                 1 |\n",
      "+------------+--------+-------------------+\n",
      "| Bahrain    |      0 |                 1 |\n",
      "+------------+--------+-------------------+\n",
      "| Brazil     |      0 |                 1 |\n",
      "+------------+--------+-------------------+\n",
      "\n",
      "Race Analysis for AlphaTauri:\n",
      "========================================\n",
      "Overall Statistics:\n",
      "Total Races: 117\n",
      "Total Wins: 1\n",
      "Total Podium Finishes: 4\n",
      "Total Top 5 Finishes: 12\n",
      "Total Points Finishes: 87\n",
      "Best Position: 1\n",
      "Total Not Classified (NC): 30\n",
      "Total Disqualifications (DQ): 0\n",
      "Total Other Non-Finishes: 0\n",
      "\n",
      "Wins by Year and Driver:\n",
      "+--------+--------------+--------+\n",
      "|   Year | Driver       |   Wins |\n",
      "+========+==============+========+\n",
      "|   2020 | Pierre Gasly |      1 |\n",
      "+--------+--------------+--------+\n",
      "\n",
      "Top 5 Best Performing Tracks:\n",
      "+------------+--------+-------------------+\n",
      "| Country    |   Wins |   Podium Finishes |\n",
      "+============+========+===================+\n",
      "| Italy      |      1 |                 1 |\n",
      "+------------+--------+-------------------+\n",
      "| Azerbaijan |      0 |                 1 |\n",
      "+------------+--------+-------------------+\n",
      "| Brazil     |      0 |                 1 |\n",
      "+------------+--------+-------------------+\n",
      "| Germany    |      0 |                 1 |\n",
      "+------------+--------+-------------------+\n",
      "| Abu Dhabi  |      0 |                 0 |\n",
      "+------------+--------+-------------------+\n",
      "\n",
      "Race Analysis for McLaren:\n",
      "========================================\n",
      "Overall Statistics:\n",
      "Total Races: 117\n",
      "Total Wins: 3\n",
      "Total Podium Finishes: 30\n",
      "Total Top 5 Finishes: 70\n",
      "Total Points Finishes: 159\n",
      "Best Position: 1\n",
      "Total Not Classified (NC): 22\n",
      "Total Disqualifications (DQ): 0\n",
      "Total Other Non-Finishes: 0\n",
      "\n",
      "Wins by Year and Driver:\n",
      "+--------+------------------+--------+\n",
      "| Year   | Driver           |   Wins |\n",
      "+========+==================+========+\n",
      "| 2021   | Daniel Ricciardo |      1 |\n",
      "+--------+------------------+--------+\n",
      "| 2024   | Lando Norris     |      1 |\n",
      "+--------+------------------+--------+\n",
      "|        | Oscar Piastri    |      1 |\n",
      "+--------+------------------+--------+\n",
      "\n",
      "Top 5 Best Performing Tracks:\n",
      "+----------------+--------+-------------------+\n",
      "| Country        |   Wins |   Podium Finishes |\n",
      "+================+========+===================+\n",
      "| Hungary        |      1 |                 3 |\n",
      "+----------------+--------+-------------------+\n",
      "| Italy          |      1 |                 3 |\n",
      "+----------------+--------+-------------------+\n",
      "| Miami          |      1 |                 1 |\n",
      "+----------------+--------+-------------------+\n",
      "| Austria        |      0 |                 3 |\n",
      "+----------------+--------+-------------------+\n",
      "| Emilia Romagna |      0 |                 3 |\n",
      "+----------------+--------+-------------------+\n",
      "\n",
      "Race Analysis for Williams:\n",
      "========================================\n",
      "Overall Statistics:\n",
      "Total Races: 117\n",
      "Total Wins: 0\n",
      "Total Podium Finishes: 1\n",
      "Total Top 5 Finishes: 1\n",
      "Total Points Finishes: 22\n",
      "Best Position: 2\n",
      "Total Not Classified (NC): 39\n",
      "Total Disqualifications (DQ): 0\n",
      "Total Other Non-Finishes: 0\n",
      "\n",
      "Top 5 Best Performing Tracks:\n",
      "+------------+--------+-------------------+\n",
      "| Country    |   Wins |   Podium Finishes |\n",
      "+============+========+===================+\n",
      "| Belgium    |      0 |                 1 |\n",
      "+------------+--------+-------------------+\n",
      "| Abu Dhabi  |      0 |                 0 |\n",
      "+------------+--------+-------------------+\n",
      "| Australia  |      0 |                 0 |\n",
      "+------------+--------+-------------------+\n",
      "| Austria    |      0 |                 0 |\n",
      "+------------+--------+-------------------+\n",
      "| Azerbaijan |      0 |                 0 |\n",
      "+------------+--------+-------------------+\n"
     ]
    }
   ],
   "source": [
    "import pandas as pd\n",
    "import numpy as np\n",
    "\n",
    "def analyze_race_performance(race_df, team_mapping, track_col='Country', team_col='Team', driver_col='Driver', position_col='Position', year_col='Year'):\n",
    "    # Normalize team names\n",
    "    race_df['NormalizedTeam'] = race_df[team_col].apply(lambda x: normalize_team_name(x, team_mapping))\n",
    "    race_df['NumericPosition'] = pd.to_numeric(race_df[position_col], errors='coerce')\n",
    "\n",
    "    # Rename \"70th Anniversary\" to \"Great Britain\"\n",
    "    race_df[track_col] = race_df[track_col].replace(\"70th Anniversary\", \"Great Britain\")\n",
    "    teams = race_df['NormalizedTeam'].unique()\n",
    "    \n",
    "    for team in teams:\n",
    "        print(f\"\\nRace Analysis for {team}:\")\n",
    "        print(\"=\" * 40)\n",
    "        \n",
    "        team_data = race_df[race_df['NormalizedTeam'] == team]\n",
    "        total_races = len(team_data.groupby([year_col, track_col]))\n",
    "        total_wins = len(team_data[team_data['NumericPosition'] == 1])\n",
    "        total_podium_finishes = len(team_data[team_data['NumericPosition'].isin([1, 2, 3])])\n",
    "        total_top_5_finishes = len(team_data[team_data['NumericPosition'].isin([1, 2, 3, 4, 5])])\n",
    "        total_points_finishes = len(team_data[team_data['NumericPosition'].between(1, 10)])\n",
    "        \n",
    "        best_position = team_data['NumericPosition'].min()\n",
    "        if pd.isna(best_position):\n",
    "            best_position = 'N/A'\n",
    "        else:\n",
    "            best_position = int(best_position)\n",
    "        \n",
    "        \n",
    "        # Define a list of all non-finish categories\n",
    "        non_finish_categories = ['NC', 'DQ']\n",
    "\n",
    "        # Count each type of non-finish\n",
    "        total_nc = len(team_data[team_data[position_col] == 'NC'])\n",
    "        total_dq = len(team_data[team_data[position_col] == 'DQ'])\n",
    "\n",
    "        # Count other non-finishes (any non-numeric position not in the above categories)\n",
    "        total_other = len(team_data[(~team_data[position_col].isin(non_finish_categories)) & \n",
    "                                    team_data['NumericPosition'].isna()])\n",
    "\n",
    "        print(\"Overall Statistics:\")\n",
    "        print(f\"Total Races: {total_races}\")\n",
    "        print(f\"Total Wins: {total_wins}\")\n",
    "        print(f\"Total Podium Finishes: {total_podium_finishes}\")\n",
    "        print(f\"Total Top 5 Finishes: {total_top_5_finishes}\")\n",
    "        print(f\"Total Points Finishes: {total_points_finishes}\")\n",
    "        print(f\"Best Position: {best_position}\")\n",
    "        print(f\"Total Not Classified (NC): {total_nc}\")\n",
    "        print(f\"Total Disqualifications (DQ): {total_dq}\")\n",
    "        print(f\"Total Other Non-Finishes: {total_other}\")\n",
    "        \n",
    "        # Count wins for each driver and year\n",
    "        driver_wins = defaultdict(lambda: defaultdict(int))\n",
    "        winning_data = team_data[team_data['NumericPosition'] == 1]\n",
    "        for _, row in winning_data.iterrows():\n",
    "            driver = row[driver_col]\n",
    "            year = row[year_col]\n",
    "            driver_wins[year][driver] += 1\n",
    "        \n",
    "        if driver_wins:\n",
    "            print(\"\\nWins by Year and Driver:\")\n",
    "            table_data = []\n",
    "            for year in sorted(driver_wins.keys()):\n",
    "                drivers = sorted(driver_wins[year].items(), key=lambda x: x[1], reverse=True)\n",
    "                for i, (driver, wins) in enumerate(drivers):\n",
    "                    if i == 0:\n",
    "                        table_data.append([year, driver, wins])\n",
    "                    else:\n",
    "                        table_data.append([\"\", driver, wins])\n",
    "            \n",
    "            headers = [\"Year\", \"Driver\", \"Wins\"]\n",
    "            table = tabulate(table_data, headers=headers, tablefmt=\"grid\")\n",
    "            print(table)\n",
    "        \n",
    "        # Top 5 Best Performing Tracks\n",
    "        track_performance = team_data.groupby(track_col).agg({\n",
    "            'NumericPosition': [\n",
    "                ('Wins', lambda x: (x == 1).sum()),\n",
    "                ('Podium Finishes', lambda x: x.isin([1, 2, 3]).sum())\n",
    "            ]\n",
    "        }).reset_index()\n",
    "\n",
    "        track_performance.columns = [track_col, 'Wins', 'Podium Finishes']\n",
    "        best_tracks = track_performance.nlargest(5, ['Wins', 'Podium Finishes'])\n",
    "        \n",
    "        print(\"\\nTop 5 Best Performing Tracks:\")\n",
    "        track_table = tabulate(best_tracks, headers='keys', tablefmt=\"grid\", showindex=False)\n",
    "        print(track_table)\n",
    "\n",
    "\n",
    "def convert_position(pos):\n",
    "    try:\n",
    "        return int(pos)\n",
    "    except ValueError:\n",
    "        return pos \n",
    "    \n",
    "# Main execution remains the same\n",
    "if __name__ == \"__main__\":\n",
    "    race_df = get_race_results()\n",
    "    team_mapping = get_team_mapping()\n",
    "    \n",
    "    race_df['Position'] = race_df['Position'].apply(convert_position)\n",
    "    \n",
    "    # Renaming \"70th Anniversary\" to \"Great Britain\" in the main DataFrame\n",
    "    race_df['Country'] = race_df['Country'].replace(\"70th Anniversary\", \"Great Britain\")\n",
    "    analyze_race_performance(race_df, team_mapping)"
   ]
  },
  {
   "cell_type": "code",
   "execution_count": 21,
   "metadata": {},
   "outputs": [
    {
     "data": {
      "application/vnd.plotly.v1+json": {
       "config": {
        "plotlyServerURL": "https://plot.ly"
       },
       "data": [
        {
         "line": {
          "color": "#2B4562"
         },
         "mode": "lines+markers",
         "name": "AlphaTauri",
         "type": "scatter",
         "x": [
          2019,
          2020,
          2021,
          2022,
          2023,
          2024
         ],
         "y": [
          0,
          1,
          1,
          1,
          1,
          1
         ]
        },
        {
         "line": {
          "color": "#0090FF"
         },
         "mode": "lines+markers",
         "name": "Alpine",
         "type": "scatter",
         "x": [
          2019,
          2020,
          2021,
          2022,
          2023,
          2024
         ],
         "y": [
          0,
          0,
          1,
          1,
          1,
          1
         ]
        },
        {
         "line": {
          "color": "#006F62"
         },
         "mode": "lines+markers",
         "name": "Aston Martin",
         "type": "scatter",
         "x": [
          2019,
          2020,
          2021,
          2022,
          2023,
          2024
         ],
         "y": [
          0,
          1,
          1,
          1,
          1,
          1
         ]
        },
        {
         "line": {
          "color": "#DC0000"
         },
         "mode": "lines+markers",
         "name": "Ferrari",
         "type": "scatter",
         "x": [
          2019,
          2020,
          2021,
          2022,
          2023,
          2024
         ],
         "y": [
          3,
          3,
          3,
          7,
          8,
          10
         ]
        },
        {
         "line": {
          "color": "#FF8700"
         },
         "mode": "lines+markers",
         "name": "McLaren",
         "type": "scatter",
         "x": [
          2019,
          2020,
          2021,
          2022,
          2023,
          2024
         ],
         "y": [
          0,
          0,
          1,
          1,
          1,
          3
         ]
        },
        {
         "line": {
          "color": "#00D2BE"
         },
         "mode": "lines+markers",
         "name": "Mercedes",
         "type": "scatter",
         "x": [
          2019,
          2020,
          2021,
          2022,
          2023,
          2024
         ],
         "y": [
          15,
          28,
          37,
          38,
          38,
          41
         ]
        },
        {
         "line": {
          "color": "#1E41FF"
         },
         "mode": "lines+markers",
         "name": "Red Bull",
         "type": "scatter",
         "x": [
          2019,
          2020,
          2021,
          2022,
          2023,
          2024
         ],
         "y": [
          3,
          5,
          16,
          33,
          54,
          61
         ]
        }
       ],
       "layout": {
        "template": {
         "data": {
          "bar": [
           {
            "error_x": {
             "color": "#2a3f5f"
            },
            "error_y": {
             "color": "#2a3f5f"
            },
            "marker": {
             "line": {
              "color": "#E5ECF6",
              "width": 0.5
             },
             "pattern": {
              "fillmode": "overlay",
              "size": 10,
              "solidity": 0.2
             }
            },
            "type": "bar"
           }
          ],
          "barpolar": [
           {
            "marker": {
             "line": {
              "color": "#E5ECF6",
              "width": 0.5
             },
             "pattern": {
              "fillmode": "overlay",
              "size": 10,
              "solidity": 0.2
             }
            },
            "type": "barpolar"
           }
          ],
          "carpet": [
           {
            "aaxis": {
             "endlinecolor": "#2a3f5f",
             "gridcolor": "white",
             "linecolor": "white",
             "minorgridcolor": "white",
             "startlinecolor": "#2a3f5f"
            },
            "baxis": {
             "endlinecolor": "#2a3f5f",
             "gridcolor": "white",
             "linecolor": "white",
             "minorgridcolor": "white",
             "startlinecolor": "#2a3f5f"
            },
            "type": "carpet"
           }
          ],
          "choropleth": [
           {
            "colorbar": {
             "outlinewidth": 0,
             "ticks": ""
            },
            "type": "choropleth"
           }
          ],
          "contour": [
           {
            "colorbar": {
             "outlinewidth": 0,
             "ticks": ""
            },
            "colorscale": [
             [
              0,
              "#0d0887"
             ],
             [
              0.1111111111111111,
              "#46039f"
             ],
             [
              0.2222222222222222,
              "#7201a8"
             ],
             [
              0.3333333333333333,
              "#9c179e"
             ],
             [
              0.4444444444444444,
              "#bd3786"
             ],
             [
              0.5555555555555556,
              "#d8576b"
             ],
             [
              0.6666666666666666,
              "#ed7953"
             ],
             [
              0.7777777777777778,
              "#fb9f3a"
             ],
             [
              0.8888888888888888,
              "#fdca26"
             ],
             [
              1,
              "#f0f921"
             ]
            ],
            "type": "contour"
           }
          ],
          "contourcarpet": [
           {
            "colorbar": {
             "outlinewidth": 0,
             "ticks": ""
            },
            "type": "contourcarpet"
           }
          ],
          "heatmap": [
           {
            "colorbar": {
             "outlinewidth": 0,
             "ticks": ""
            },
            "colorscale": [
             [
              0,
              "#0d0887"
             ],
             [
              0.1111111111111111,
              "#46039f"
             ],
             [
              0.2222222222222222,
              "#7201a8"
             ],
             [
              0.3333333333333333,
              "#9c179e"
             ],
             [
              0.4444444444444444,
              "#bd3786"
             ],
             [
              0.5555555555555556,
              "#d8576b"
             ],
             [
              0.6666666666666666,
              "#ed7953"
             ],
             [
              0.7777777777777778,
              "#fb9f3a"
             ],
             [
              0.8888888888888888,
              "#fdca26"
             ],
             [
              1,
              "#f0f921"
             ]
            ],
            "type": "heatmap"
           }
          ],
          "heatmapgl": [
           {
            "colorbar": {
             "outlinewidth": 0,
             "ticks": ""
            },
            "colorscale": [
             [
              0,
              "#0d0887"
             ],
             [
              0.1111111111111111,
              "#46039f"
             ],
             [
              0.2222222222222222,
              "#7201a8"
             ],
             [
              0.3333333333333333,
              "#9c179e"
             ],
             [
              0.4444444444444444,
              "#bd3786"
             ],
             [
              0.5555555555555556,
              "#d8576b"
             ],
             [
              0.6666666666666666,
              "#ed7953"
             ],
             [
              0.7777777777777778,
              "#fb9f3a"
             ],
             [
              0.8888888888888888,
              "#fdca26"
             ],
             [
              1,
              "#f0f921"
             ]
            ],
            "type": "heatmapgl"
           }
          ],
          "histogram": [
           {
            "marker": {
             "pattern": {
              "fillmode": "overlay",
              "size": 10,
              "solidity": 0.2
             }
            },
            "type": "histogram"
           }
          ],
          "histogram2d": [
           {
            "colorbar": {
             "outlinewidth": 0,
             "ticks": ""
            },
            "colorscale": [
             [
              0,
              "#0d0887"
             ],
             [
              0.1111111111111111,
              "#46039f"
             ],
             [
              0.2222222222222222,
              "#7201a8"
             ],
             [
              0.3333333333333333,
              "#9c179e"
             ],
             [
              0.4444444444444444,
              "#bd3786"
             ],
             [
              0.5555555555555556,
              "#d8576b"
             ],
             [
              0.6666666666666666,
              "#ed7953"
             ],
             [
              0.7777777777777778,
              "#fb9f3a"
             ],
             [
              0.8888888888888888,
              "#fdca26"
             ],
             [
              1,
              "#f0f921"
             ]
            ],
            "type": "histogram2d"
           }
          ],
          "histogram2dcontour": [
           {
            "colorbar": {
             "outlinewidth": 0,
             "ticks": ""
            },
            "colorscale": [
             [
              0,
              "#0d0887"
             ],
             [
              0.1111111111111111,
              "#46039f"
             ],
             [
              0.2222222222222222,
              "#7201a8"
             ],
             [
              0.3333333333333333,
              "#9c179e"
             ],
             [
              0.4444444444444444,
              "#bd3786"
             ],
             [
              0.5555555555555556,
              "#d8576b"
             ],
             [
              0.6666666666666666,
              "#ed7953"
             ],
             [
              0.7777777777777778,
              "#fb9f3a"
             ],
             [
              0.8888888888888888,
              "#fdca26"
             ],
             [
              1,
              "#f0f921"
             ]
            ],
            "type": "histogram2dcontour"
           }
          ],
          "mesh3d": [
           {
            "colorbar": {
             "outlinewidth": 0,
             "ticks": ""
            },
            "type": "mesh3d"
           }
          ],
          "parcoords": [
           {
            "line": {
             "colorbar": {
              "outlinewidth": 0,
              "ticks": ""
             }
            },
            "type": "parcoords"
           }
          ],
          "pie": [
           {
            "automargin": true,
            "type": "pie"
           }
          ],
          "scatter": [
           {
            "fillpattern": {
             "fillmode": "overlay",
             "size": 10,
             "solidity": 0.2
            },
            "type": "scatter"
           }
          ],
          "scatter3d": [
           {
            "line": {
             "colorbar": {
              "outlinewidth": 0,
              "ticks": ""
             }
            },
            "marker": {
             "colorbar": {
              "outlinewidth": 0,
              "ticks": ""
             }
            },
            "type": "scatter3d"
           }
          ],
          "scattercarpet": [
           {
            "marker": {
             "colorbar": {
              "outlinewidth": 0,
              "ticks": ""
             }
            },
            "type": "scattercarpet"
           }
          ],
          "scattergeo": [
           {
            "marker": {
             "colorbar": {
              "outlinewidth": 0,
              "ticks": ""
             }
            },
            "type": "scattergeo"
           }
          ],
          "scattergl": [
           {
            "marker": {
             "colorbar": {
              "outlinewidth": 0,
              "ticks": ""
             }
            },
            "type": "scattergl"
           }
          ],
          "scattermapbox": [
           {
            "marker": {
             "colorbar": {
              "outlinewidth": 0,
              "ticks": ""
             }
            },
            "type": "scattermapbox"
           }
          ],
          "scatterpolar": [
           {
            "marker": {
             "colorbar": {
              "outlinewidth": 0,
              "ticks": ""
             }
            },
            "type": "scatterpolar"
           }
          ],
          "scatterpolargl": [
           {
            "marker": {
             "colorbar": {
              "outlinewidth": 0,
              "ticks": ""
             }
            },
            "type": "scatterpolargl"
           }
          ],
          "scatterternary": [
           {
            "marker": {
             "colorbar": {
              "outlinewidth": 0,
              "ticks": ""
             }
            },
            "type": "scatterternary"
           }
          ],
          "surface": [
           {
            "colorbar": {
             "outlinewidth": 0,
             "ticks": ""
            },
            "colorscale": [
             [
              0,
              "#0d0887"
             ],
             [
              0.1111111111111111,
              "#46039f"
             ],
             [
              0.2222222222222222,
              "#7201a8"
             ],
             [
              0.3333333333333333,
              "#9c179e"
             ],
             [
              0.4444444444444444,
              "#bd3786"
             ],
             [
              0.5555555555555556,
              "#d8576b"
             ],
             [
              0.6666666666666666,
              "#ed7953"
             ],
             [
              0.7777777777777778,
              "#fb9f3a"
             ],
             [
              0.8888888888888888,
              "#fdca26"
             ],
             [
              1,
              "#f0f921"
             ]
            ],
            "type": "surface"
           }
          ],
          "table": [
           {
            "cells": {
             "fill": {
              "color": "#EBF0F8"
             },
             "line": {
              "color": "white"
             }
            },
            "header": {
             "fill": {
              "color": "#C8D4E3"
             },
             "line": {
              "color": "white"
             }
            },
            "type": "table"
           }
          ]
         },
         "layout": {
          "annotationdefaults": {
           "arrowcolor": "#2a3f5f",
           "arrowhead": 0,
           "arrowwidth": 1
          },
          "autotypenumbers": "strict",
          "coloraxis": {
           "colorbar": {
            "outlinewidth": 0,
            "ticks": ""
           }
          },
          "colorscale": {
           "diverging": [
            [
             0,
             "#8e0152"
            ],
            [
             0.1,
             "#c51b7d"
            ],
            [
             0.2,
             "#de77ae"
            ],
            [
             0.3,
             "#f1b6da"
            ],
            [
             0.4,
             "#fde0ef"
            ],
            [
             0.5,
             "#f7f7f7"
            ],
            [
             0.6,
             "#e6f5d0"
            ],
            [
             0.7,
             "#b8e186"
            ],
            [
             0.8,
             "#7fbc41"
            ],
            [
             0.9,
             "#4d9221"
            ],
            [
             1,
             "#276419"
            ]
           ],
           "sequential": [
            [
             0,
             "#0d0887"
            ],
            [
             0.1111111111111111,
             "#46039f"
            ],
            [
             0.2222222222222222,
             "#7201a8"
            ],
            [
             0.3333333333333333,
             "#9c179e"
            ],
            [
             0.4444444444444444,
             "#bd3786"
            ],
            [
             0.5555555555555556,
             "#d8576b"
            ],
            [
             0.6666666666666666,
             "#ed7953"
            ],
            [
             0.7777777777777778,
             "#fb9f3a"
            ],
            [
             0.8888888888888888,
             "#fdca26"
            ],
            [
             1,
             "#f0f921"
            ]
           ],
           "sequentialminus": [
            [
             0,
             "#0d0887"
            ],
            [
             0.1111111111111111,
             "#46039f"
            ],
            [
             0.2222222222222222,
             "#7201a8"
            ],
            [
             0.3333333333333333,
             "#9c179e"
            ],
            [
             0.4444444444444444,
             "#bd3786"
            ],
            [
             0.5555555555555556,
             "#d8576b"
            ],
            [
             0.6666666666666666,
             "#ed7953"
            ],
            [
             0.7777777777777778,
             "#fb9f3a"
            ],
            [
             0.8888888888888888,
             "#fdca26"
            ],
            [
             1,
             "#f0f921"
            ]
           ]
          },
          "colorway": [
           "#636efa",
           "#EF553B",
           "#00cc96",
           "#ab63fa",
           "#FFA15A",
           "#19d3f3",
           "#FF6692",
           "#B6E880",
           "#FF97FF",
           "#FECB52"
          ],
          "font": {
           "color": "#2a3f5f"
          },
          "geo": {
           "bgcolor": "white",
           "lakecolor": "white",
           "landcolor": "#E5ECF6",
           "showlakes": true,
           "showland": true,
           "subunitcolor": "white"
          },
          "hoverlabel": {
           "align": "left"
          },
          "hovermode": "closest",
          "mapbox": {
           "style": "light"
          },
          "paper_bgcolor": "white",
          "plot_bgcolor": "#E5ECF6",
          "polar": {
           "angularaxis": {
            "gridcolor": "white",
            "linecolor": "white",
            "ticks": ""
           },
           "bgcolor": "#E5ECF6",
           "radialaxis": {
            "gridcolor": "white",
            "linecolor": "white",
            "ticks": ""
           }
          },
          "scene": {
           "xaxis": {
            "backgroundcolor": "#E5ECF6",
            "gridcolor": "white",
            "gridwidth": 2,
            "linecolor": "white",
            "showbackground": true,
            "ticks": "",
            "zerolinecolor": "white"
           },
           "yaxis": {
            "backgroundcolor": "#E5ECF6",
            "gridcolor": "white",
            "gridwidth": 2,
            "linecolor": "white",
            "showbackground": true,
            "ticks": "",
            "zerolinecolor": "white"
           },
           "zaxis": {
            "backgroundcolor": "#E5ECF6",
            "gridcolor": "white",
            "gridwidth": 2,
            "linecolor": "white",
            "showbackground": true,
            "ticks": "",
            "zerolinecolor": "white"
           }
          },
          "shapedefaults": {
           "line": {
            "color": "#2a3f5f"
           }
          },
          "ternary": {
           "aaxis": {
            "gridcolor": "white",
            "linecolor": "white",
            "ticks": ""
           },
           "baxis": {
            "gridcolor": "white",
            "linecolor": "white",
            "ticks": ""
           },
           "bgcolor": "#E5ECF6",
           "caxis": {
            "gridcolor": "white",
            "linecolor": "white",
            "ticks": ""
           }
          },
          "title": {
           "x": 0.05
          },
          "xaxis": {
           "automargin": true,
           "gridcolor": "white",
           "linecolor": "white",
           "ticks": "",
           "title": {
            "standoff": 15
           },
           "zerolinecolor": "white",
           "zerolinewidth": 2
          },
          "yaxis": {
           "automargin": true,
           "gridcolor": "white",
           "linecolor": "white",
           "ticks": "",
           "title": {
            "standoff": 15
           },
           "zerolinecolor": "white",
           "zerolinewidth": 2
          }
         }
        },
        "title": {
         "text": "Cumulative Wins by Team",
         "x": 0.5
        },
        "xaxis": {
         "title": {
          "text": "Year"
         }
        },
        "yaxis": {
         "title": {
          "text": "Cumulative Wins"
         }
        }
       }
      }
     },
     "metadata": {},
     "output_type": "display_data"
    },
    {
     "data": {
      "application/vnd.plotly.v1+json": {
       "config": {
        "plotlyServerURL": "https://plot.ly"
       },
       "data": [
        {
         "marker": {
          "color": [
           "#1E41FF",
           "#00D2BE",
           "#DC0000",
           "#FF8700",
           "#2B4562",
           "#0090FF",
           "#006F62"
          ]
         },
         "type": "bar",
         "x": [
          "Red Bull",
          "Mercedes",
          "Ferrari",
          "McLaren",
          "AlphaTauri",
          "Alpine",
          "Aston Martin"
         ],
         "y": [
          61,
          41,
          10,
          3,
          1,
          1,
          1
         ]
        }
       ],
       "layout": {
        "template": {
         "data": {
          "bar": [
           {
            "error_x": {
             "color": "#2a3f5f"
            },
            "error_y": {
             "color": "#2a3f5f"
            },
            "marker": {
             "line": {
              "color": "#E5ECF6",
              "width": 0.5
             },
             "pattern": {
              "fillmode": "overlay",
              "size": 10,
              "solidity": 0.2
             }
            },
            "type": "bar"
           }
          ],
          "barpolar": [
           {
            "marker": {
             "line": {
              "color": "#E5ECF6",
              "width": 0.5
             },
             "pattern": {
              "fillmode": "overlay",
              "size": 10,
              "solidity": 0.2
             }
            },
            "type": "barpolar"
           }
          ],
          "carpet": [
           {
            "aaxis": {
             "endlinecolor": "#2a3f5f",
             "gridcolor": "white",
             "linecolor": "white",
             "minorgridcolor": "white",
             "startlinecolor": "#2a3f5f"
            },
            "baxis": {
             "endlinecolor": "#2a3f5f",
             "gridcolor": "white",
             "linecolor": "white",
             "minorgridcolor": "white",
             "startlinecolor": "#2a3f5f"
            },
            "type": "carpet"
           }
          ],
          "choropleth": [
           {
            "colorbar": {
             "outlinewidth": 0,
             "ticks": ""
            },
            "type": "choropleth"
           }
          ],
          "contour": [
           {
            "colorbar": {
             "outlinewidth": 0,
             "ticks": ""
            },
            "colorscale": [
             [
              0,
              "#0d0887"
             ],
             [
              0.1111111111111111,
              "#46039f"
             ],
             [
              0.2222222222222222,
              "#7201a8"
             ],
             [
              0.3333333333333333,
              "#9c179e"
             ],
             [
              0.4444444444444444,
              "#bd3786"
             ],
             [
              0.5555555555555556,
              "#d8576b"
             ],
             [
              0.6666666666666666,
              "#ed7953"
             ],
             [
              0.7777777777777778,
              "#fb9f3a"
             ],
             [
              0.8888888888888888,
              "#fdca26"
             ],
             [
              1,
              "#f0f921"
             ]
            ],
            "type": "contour"
           }
          ],
          "contourcarpet": [
           {
            "colorbar": {
             "outlinewidth": 0,
             "ticks": ""
            },
            "type": "contourcarpet"
           }
          ],
          "heatmap": [
           {
            "colorbar": {
             "outlinewidth": 0,
             "ticks": ""
            },
            "colorscale": [
             [
              0,
              "#0d0887"
             ],
             [
              0.1111111111111111,
              "#46039f"
             ],
             [
              0.2222222222222222,
              "#7201a8"
             ],
             [
              0.3333333333333333,
              "#9c179e"
             ],
             [
              0.4444444444444444,
              "#bd3786"
             ],
             [
              0.5555555555555556,
              "#d8576b"
             ],
             [
              0.6666666666666666,
              "#ed7953"
             ],
             [
              0.7777777777777778,
              "#fb9f3a"
             ],
             [
              0.8888888888888888,
              "#fdca26"
             ],
             [
              1,
              "#f0f921"
             ]
            ],
            "type": "heatmap"
           }
          ],
          "heatmapgl": [
           {
            "colorbar": {
             "outlinewidth": 0,
             "ticks": ""
            },
            "colorscale": [
             [
              0,
              "#0d0887"
             ],
             [
              0.1111111111111111,
              "#46039f"
             ],
             [
              0.2222222222222222,
              "#7201a8"
             ],
             [
              0.3333333333333333,
              "#9c179e"
             ],
             [
              0.4444444444444444,
              "#bd3786"
             ],
             [
              0.5555555555555556,
              "#d8576b"
             ],
             [
              0.6666666666666666,
              "#ed7953"
             ],
             [
              0.7777777777777778,
              "#fb9f3a"
             ],
             [
              0.8888888888888888,
              "#fdca26"
             ],
             [
              1,
              "#f0f921"
             ]
            ],
            "type": "heatmapgl"
           }
          ],
          "histogram": [
           {
            "marker": {
             "pattern": {
              "fillmode": "overlay",
              "size": 10,
              "solidity": 0.2
             }
            },
            "type": "histogram"
           }
          ],
          "histogram2d": [
           {
            "colorbar": {
             "outlinewidth": 0,
             "ticks": ""
            },
            "colorscale": [
             [
              0,
              "#0d0887"
             ],
             [
              0.1111111111111111,
              "#46039f"
             ],
             [
              0.2222222222222222,
              "#7201a8"
             ],
             [
              0.3333333333333333,
              "#9c179e"
             ],
             [
              0.4444444444444444,
              "#bd3786"
             ],
             [
              0.5555555555555556,
              "#d8576b"
             ],
             [
              0.6666666666666666,
              "#ed7953"
             ],
             [
              0.7777777777777778,
              "#fb9f3a"
             ],
             [
              0.8888888888888888,
              "#fdca26"
             ],
             [
              1,
              "#f0f921"
             ]
            ],
            "type": "histogram2d"
           }
          ],
          "histogram2dcontour": [
           {
            "colorbar": {
             "outlinewidth": 0,
             "ticks": ""
            },
            "colorscale": [
             [
              0,
              "#0d0887"
             ],
             [
              0.1111111111111111,
              "#46039f"
             ],
             [
              0.2222222222222222,
              "#7201a8"
             ],
             [
              0.3333333333333333,
              "#9c179e"
             ],
             [
              0.4444444444444444,
              "#bd3786"
             ],
             [
              0.5555555555555556,
              "#d8576b"
             ],
             [
              0.6666666666666666,
              "#ed7953"
             ],
             [
              0.7777777777777778,
              "#fb9f3a"
             ],
             [
              0.8888888888888888,
              "#fdca26"
             ],
             [
              1,
              "#f0f921"
             ]
            ],
            "type": "histogram2dcontour"
           }
          ],
          "mesh3d": [
           {
            "colorbar": {
             "outlinewidth": 0,
             "ticks": ""
            },
            "type": "mesh3d"
           }
          ],
          "parcoords": [
           {
            "line": {
             "colorbar": {
              "outlinewidth": 0,
              "ticks": ""
             }
            },
            "type": "parcoords"
           }
          ],
          "pie": [
           {
            "automargin": true,
            "type": "pie"
           }
          ],
          "scatter": [
           {
            "fillpattern": {
             "fillmode": "overlay",
             "size": 10,
             "solidity": 0.2
            },
            "type": "scatter"
           }
          ],
          "scatter3d": [
           {
            "line": {
             "colorbar": {
              "outlinewidth": 0,
              "ticks": ""
             }
            },
            "marker": {
             "colorbar": {
              "outlinewidth": 0,
              "ticks": ""
             }
            },
            "type": "scatter3d"
           }
          ],
          "scattercarpet": [
           {
            "marker": {
             "colorbar": {
              "outlinewidth": 0,
              "ticks": ""
             }
            },
            "type": "scattercarpet"
           }
          ],
          "scattergeo": [
           {
            "marker": {
             "colorbar": {
              "outlinewidth": 0,
              "ticks": ""
             }
            },
            "type": "scattergeo"
           }
          ],
          "scattergl": [
           {
            "marker": {
             "colorbar": {
              "outlinewidth": 0,
              "ticks": ""
             }
            },
            "type": "scattergl"
           }
          ],
          "scattermapbox": [
           {
            "marker": {
             "colorbar": {
              "outlinewidth": 0,
              "ticks": ""
             }
            },
            "type": "scattermapbox"
           }
          ],
          "scatterpolar": [
           {
            "marker": {
             "colorbar": {
              "outlinewidth": 0,
              "ticks": ""
             }
            },
            "type": "scatterpolar"
           }
          ],
          "scatterpolargl": [
           {
            "marker": {
             "colorbar": {
              "outlinewidth": 0,
              "ticks": ""
             }
            },
            "type": "scatterpolargl"
           }
          ],
          "scatterternary": [
           {
            "marker": {
             "colorbar": {
              "outlinewidth": 0,
              "ticks": ""
             }
            },
            "type": "scatterternary"
           }
          ],
          "surface": [
           {
            "colorbar": {
             "outlinewidth": 0,
             "ticks": ""
            },
            "colorscale": [
             [
              0,
              "#0d0887"
             ],
             [
              0.1111111111111111,
              "#46039f"
             ],
             [
              0.2222222222222222,
              "#7201a8"
             ],
             [
              0.3333333333333333,
              "#9c179e"
             ],
             [
              0.4444444444444444,
              "#bd3786"
             ],
             [
              0.5555555555555556,
              "#d8576b"
             ],
             [
              0.6666666666666666,
              "#ed7953"
             ],
             [
              0.7777777777777778,
              "#fb9f3a"
             ],
             [
              0.8888888888888888,
              "#fdca26"
             ],
             [
              1,
              "#f0f921"
             ]
            ],
            "type": "surface"
           }
          ],
          "table": [
           {
            "cells": {
             "fill": {
              "color": "#EBF0F8"
             },
             "line": {
              "color": "white"
             }
            },
            "header": {
             "fill": {
              "color": "#C8D4E3"
             },
             "line": {
              "color": "white"
             }
            },
            "type": "table"
           }
          ]
         },
         "layout": {
          "annotationdefaults": {
           "arrowcolor": "#2a3f5f",
           "arrowhead": 0,
           "arrowwidth": 1
          },
          "autotypenumbers": "strict",
          "coloraxis": {
           "colorbar": {
            "outlinewidth": 0,
            "ticks": ""
           }
          },
          "colorscale": {
           "diverging": [
            [
             0,
             "#8e0152"
            ],
            [
             0.1,
             "#c51b7d"
            ],
            [
             0.2,
             "#de77ae"
            ],
            [
             0.3,
             "#f1b6da"
            ],
            [
             0.4,
             "#fde0ef"
            ],
            [
             0.5,
             "#f7f7f7"
            ],
            [
             0.6,
             "#e6f5d0"
            ],
            [
             0.7,
             "#b8e186"
            ],
            [
             0.8,
             "#7fbc41"
            ],
            [
             0.9,
             "#4d9221"
            ],
            [
             1,
             "#276419"
            ]
           ],
           "sequential": [
            [
             0,
             "#0d0887"
            ],
            [
             0.1111111111111111,
             "#46039f"
            ],
            [
             0.2222222222222222,
             "#7201a8"
            ],
            [
             0.3333333333333333,
             "#9c179e"
            ],
            [
             0.4444444444444444,
             "#bd3786"
            ],
            [
             0.5555555555555556,
             "#d8576b"
            ],
            [
             0.6666666666666666,
             "#ed7953"
            ],
            [
             0.7777777777777778,
             "#fb9f3a"
            ],
            [
             0.8888888888888888,
             "#fdca26"
            ],
            [
             1,
             "#f0f921"
            ]
           ],
           "sequentialminus": [
            [
             0,
             "#0d0887"
            ],
            [
             0.1111111111111111,
             "#46039f"
            ],
            [
             0.2222222222222222,
             "#7201a8"
            ],
            [
             0.3333333333333333,
             "#9c179e"
            ],
            [
             0.4444444444444444,
             "#bd3786"
            ],
            [
             0.5555555555555556,
             "#d8576b"
            ],
            [
             0.6666666666666666,
             "#ed7953"
            ],
            [
             0.7777777777777778,
             "#fb9f3a"
            ],
            [
             0.8888888888888888,
             "#fdca26"
            ],
            [
             1,
             "#f0f921"
            ]
           ]
          },
          "colorway": [
           "#636efa",
           "#EF553B",
           "#00cc96",
           "#ab63fa",
           "#FFA15A",
           "#19d3f3",
           "#FF6692",
           "#B6E880",
           "#FF97FF",
           "#FECB52"
          ],
          "font": {
           "color": "#2a3f5f"
          },
          "geo": {
           "bgcolor": "white",
           "lakecolor": "white",
           "landcolor": "#E5ECF6",
           "showlakes": true,
           "showland": true,
           "subunitcolor": "white"
          },
          "hoverlabel": {
           "align": "left"
          },
          "hovermode": "closest",
          "mapbox": {
           "style": "light"
          },
          "paper_bgcolor": "white",
          "plot_bgcolor": "#E5ECF6",
          "polar": {
           "angularaxis": {
            "gridcolor": "white",
            "linecolor": "white",
            "ticks": ""
           },
           "bgcolor": "#E5ECF6",
           "radialaxis": {
            "gridcolor": "white",
            "linecolor": "white",
            "ticks": ""
           }
          },
          "scene": {
           "xaxis": {
            "backgroundcolor": "#E5ECF6",
            "gridcolor": "white",
            "gridwidth": 2,
            "linecolor": "white",
            "showbackground": true,
            "ticks": "",
            "zerolinecolor": "white"
           },
           "yaxis": {
            "backgroundcolor": "#E5ECF6",
            "gridcolor": "white",
            "gridwidth": 2,
            "linecolor": "white",
            "showbackground": true,
            "ticks": "",
            "zerolinecolor": "white"
           },
           "zaxis": {
            "backgroundcolor": "#E5ECF6",
            "gridcolor": "white",
            "gridwidth": 2,
            "linecolor": "white",
            "showbackground": true,
            "ticks": "",
            "zerolinecolor": "white"
           }
          },
          "shapedefaults": {
           "line": {
            "color": "#2a3f5f"
           }
          },
          "ternary": {
           "aaxis": {
            "gridcolor": "white",
            "linecolor": "white",
            "ticks": ""
           },
           "baxis": {
            "gridcolor": "white",
            "linecolor": "white",
            "ticks": ""
           },
           "bgcolor": "#E5ECF6",
           "caxis": {
            "gridcolor": "white",
            "linecolor": "white",
            "ticks": ""
           }
          },
          "title": {
           "x": 0.05
          },
          "xaxis": {
           "automargin": true,
           "gridcolor": "white",
           "linecolor": "white",
           "ticks": "",
           "title": {
            "standoff": 15
           },
           "zerolinecolor": "white",
           "zerolinewidth": 2
          },
          "yaxis": {
           "automargin": true,
           "gridcolor": "white",
           "linecolor": "white",
           "ticks": "",
           "title": {
            "standoff": 15
           },
           "zerolinecolor": "white",
           "zerolinewidth": 2
          }
         }
        },
        "title": {
         "text": "Total Wins by Team",
         "x": 0.5
        },
        "xaxis": {
         "title": {
          "text": "Team"
         }
        },
        "yaxis": {
         "title": {
          "text": "Total Wins"
         }
        }
       }
      }
     },
     "metadata": {},
     "output_type": "display_data"
    },
    {
     "data": {
      "application/vnd.plotly.v1+json": {
       "config": {
        "plotlyServerURL": "https://plot.ly"
       },
       "data": [
        {
         "mode": "lines+markers",
         "name": "Max Verstappen",
         "type": "scatter",
         "x": [
          2019,
          2020,
          2021,
          2022,
          2023,
          2024
         ],
         "y": [
          3,
          2,
          10,
          15,
          19,
          7
         ]
        },
        {
         "mode": "lines+markers",
         "name": "Lewis Hamilton",
         "type": "scatter",
         "x": [
          2019,
          2020,
          2021,
          2022,
          2023,
          2024
         ],
         "y": [
          11,
          11,
          8,
          0,
          0,
          2
         ]
        },
        {
         "mode": "lines+markers",
         "name": "Valtteri Bottas",
         "type": "scatter",
         "x": [
          2019,
          2020,
          2021,
          2022,
          2023,
          2024
         ],
         "y": [
          4,
          2,
          1,
          0,
          0,
          0
         ]
        },
        {
         "mode": "lines+markers",
         "name": "Charles Leclerc",
         "type": "scatter",
         "x": [
          2019,
          2020,
          2021,
          2022,
          2023,
          2024
         ],
         "y": [
          2,
          0,
          0,
          3,
          0,
          1
         ]
        },
        {
         "mode": "lines+markers",
         "name": "Sergio Perez",
         "type": "scatter",
         "x": [
          2019,
          2020,
          2021,
          2022,
          2023,
          2024
         ],
         "y": [
          0,
          1,
          1,
          2,
          2,
          0
         ]
        },
        {
         "mode": "lines+markers",
         "name": "Carlos Sainz",
         "type": "scatter",
         "x": [
          2019,
          2020,
          2021,
          2022,
          2023,
          2024
         ],
         "y": [
          0,
          0,
          0,
          1,
          1,
          1
         ]
        },
        {
         "mode": "lines+markers",
         "name": "George Russell",
         "type": "scatter",
         "x": [
          2019,
          2020,
          2021,
          2022,
          2023,
          2024
         ],
         "y": [
          0,
          0,
          0,
          1,
          0,
          1
         ]
        },
        {
         "mode": "lines+markers",
         "name": "Daniel Ricciardo",
         "type": "scatter",
         "x": [
          2019,
          2020,
          2021,
          2022,
          2023,
          2024
         ],
         "y": [
          0,
          0,
          1,
          0,
          0,
          0
         ]
        },
        {
         "mode": "lines+markers",
         "name": "Esteban Ocon",
         "type": "scatter",
         "x": [
          2019,
          2020,
          2021,
          2022,
          2023,
          2024
         ],
         "y": [
          0,
          0,
          1,
          0,
          0,
          0
         ]
        },
        {
         "mode": "lines+markers",
         "name": "Lando Norris",
         "type": "scatter",
         "x": [
          2019,
          2020,
          2021,
          2022,
          2023,
          2024
         ],
         "y": [
          0,
          0,
          0,
          0,
          0,
          1
         ]
        }
       ],
       "layout": {
        "template": {
         "data": {
          "bar": [
           {
            "error_x": {
             "color": "#2a3f5f"
            },
            "error_y": {
             "color": "#2a3f5f"
            },
            "marker": {
             "line": {
              "color": "#E5ECF6",
              "width": 0.5
             },
             "pattern": {
              "fillmode": "overlay",
              "size": 10,
              "solidity": 0.2
             }
            },
            "type": "bar"
           }
          ],
          "barpolar": [
           {
            "marker": {
             "line": {
              "color": "#E5ECF6",
              "width": 0.5
             },
             "pattern": {
              "fillmode": "overlay",
              "size": 10,
              "solidity": 0.2
             }
            },
            "type": "barpolar"
           }
          ],
          "carpet": [
           {
            "aaxis": {
             "endlinecolor": "#2a3f5f",
             "gridcolor": "white",
             "linecolor": "white",
             "minorgridcolor": "white",
             "startlinecolor": "#2a3f5f"
            },
            "baxis": {
             "endlinecolor": "#2a3f5f",
             "gridcolor": "white",
             "linecolor": "white",
             "minorgridcolor": "white",
             "startlinecolor": "#2a3f5f"
            },
            "type": "carpet"
           }
          ],
          "choropleth": [
           {
            "colorbar": {
             "outlinewidth": 0,
             "ticks": ""
            },
            "type": "choropleth"
           }
          ],
          "contour": [
           {
            "colorbar": {
             "outlinewidth": 0,
             "ticks": ""
            },
            "colorscale": [
             [
              0,
              "#0d0887"
             ],
             [
              0.1111111111111111,
              "#46039f"
             ],
             [
              0.2222222222222222,
              "#7201a8"
             ],
             [
              0.3333333333333333,
              "#9c179e"
             ],
             [
              0.4444444444444444,
              "#bd3786"
             ],
             [
              0.5555555555555556,
              "#d8576b"
             ],
             [
              0.6666666666666666,
              "#ed7953"
             ],
             [
              0.7777777777777778,
              "#fb9f3a"
             ],
             [
              0.8888888888888888,
              "#fdca26"
             ],
             [
              1,
              "#f0f921"
             ]
            ],
            "type": "contour"
           }
          ],
          "contourcarpet": [
           {
            "colorbar": {
             "outlinewidth": 0,
             "ticks": ""
            },
            "type": "contourcarpet"
           }
          ],
          "heatmap": [
           {
            "colorbar": {
             "outlinewidth": 0,
             "ticks": ""
            },
            "colorscale": [
             [
              0,
              "#0d0887"
             ],
             [
              0.1111111111111111,
              "#46039f"
             ],
             [
              0.2222222222222222,
              "#7201a8"
             ],
             [
              0.3333333333333333,
              "#9c179e"
             ],
             [
              0.4444444444444444,
              "#bd3786"
             ],
             [
              0.5555555555555556,
              "#d8576b"
             ],
             [
              0.6666666666666666,
              "#ed7953"
             ],
             [
              0.7777777777777778,
              "#fb9f3a"
             ],
             [
              0.8888888888888888,
              "#fdca26"
             ],
             [
              1,
              "#f0f921"
             ]
            ],
            "type": "heatmap"
           }
          ],
          "heatmapgl": [
           {
            "colorbar": {
             "outlinewidth": 0,
             "ticks": ""
            },
            "colorscale": [
             [
              0,
              "#0d0887"
             ],
             [
              0.1111111111111111,
              "#46039f"
             ],
             [
              0.2222222222222222,
              "#7201a8"
             ],
             [
              0.3333333333333333,
              "#9c179e"
             ],
             [
              0.4444444444444444,
              "#bd3786"
             ],
             [
              0.5555555555555556,
              "#d8576b"
             ],
             [
              0.6666666666666666,
              "#ed7953"
             ],
             [
              0.7777777777777778,
              "#fb9f3a"
             ],
             [
              0.8888888888888888,
              "#fdca26"
             ],
             [
              1,
              "#f0f921"
             ]
            ],
            "type": "heatmapgl"
           }
          ],
          "histogram": [
           {
            "marker": {
             "pattern": {
              "fillmode": "overlay",
              "size": 10,
              "solidity": 0.2
             }
            },
            "type": "histogram"
           }
          ],
          "histogram2d": [
           {
            "colorbar": {
             "outlinewidth": 0,
             "ticks": ""
            },
            "colorscale": [
             [
              0,
              "#0d0887"
             ],
             [
              0.1111111111111111,
              "#46039f"
             ],
             [
              0.2222222222222222,
              "#7201a8"
             ],
             [
              0.3333333333333333,
              "#9c179e"
             ],
             [
              0.4444444444444444,
              "#bd3786"
             ],
             [
              0.5555555555555556,
              "#d8576b"
             ],
             [
              0.6666666666666666,
              "#ed7953"
             ],
             [
              0.7777777777777778,
              "#fb9f3a"
             ],
             [
              0.8888888888888888,
              "#fdca26"
             ],
             [
              1,
              "#f0f921"
             ]
            ],
            "type": "histogram2d"
           }
          ],
          "histogram2dcontour": [
           {
            "colorbar": {
             "outlinewidth": 0,
             "ticks": ""
            },
            "colorscale": [
             [
              0,
              "#0d0887"
             ],
             [
              0.1111111111111111,
              "#46039f"
             ],
             [
              0.2222222222222222,
              "#7201a8"
             ],
             [
              0.3333333333333333,
              "#9c179e"
             ],
             [
              0.4444444444444444,
              "#bd3786"
             ],
             [
              0.5555555555555556,
              "#d8576b"
             ],
             [
              0.6666666666666666,
              "#ed7953"
             ],
             [
              0.7777777777777778,
              "#fb9f3a"
             ],
             [
              0.8888888888888888,
              "#fdca26"
             ],
             [
              1,
              "#f0f921"
             ]
            ],
            "type": "histogram2dcontour"
           }
          ],
          "mesh3d": [
           {
            "colorbar": {
             "outlinewidth": 0,
             "ticks": ""
            },
            "type": "mesh3d"
           }
          ],
          "parcoords": [
           {
            "line": {
             "colorbar": {
              "outlinewidth": 0,
              "ticks": ""
             }
            },
            "type": "parcoords"
           }
          ],
          "pie": [
           {
            "automargin": true,
            "type": "pie"
           }
          ],
          "scatter": [
           {
            "fillpattern": {
             "fillmode": "overlay",
             "size": 10,
             "solidity": 0.2
            },
            "type": "scatter"
           }
          ],
          "scatter3d": [
           {
            "line": {
             "colorbar": {
              "outlinewidth": 0,
              "ticks": ""
             }
            },
            "marker": {
             "colorbar": {
              "outlinewidth": 0,
              "ticks": ""
             }
            },
            "type": "scatter3d"
           }
          ],
          "scattercarpet": [
           {
            "marker": {
             "colorbar": {
              "outlinewidth": 0,
              "ticks": ""
             }
            },
            "type": "scattercarpet"
           }
          ],
          "scattergeo": [
           {
            "marker": {
             "colorbar": {
              "outlinewidth": 0,
              "ticks": ""
             }
            },
            "type": "scattergeo"
           }
          ],
          "scattergl": [
           {
            "marker": {
             "colorbar": {
              "outlinewidth": 0,
              "ticks": ""
             }
            },
            "type": "scattergl"
           }
          ],
          "scattermapbox": [
           {
            "marker": {
             "colorbar": {
              "outlinewidth": 0,
              "ticks": ""
             }
            },
            "type": "scattermapbox"
           }
          ],
          "scatterpolar": [
           {
            "marker": {
             "colorbar": {
              "outlinewidth": 0,
              "ticks": ""
             }
            },
            "type": "scatterpolar"
           }
          ],
          "scatterpolargl": [
           {
            "marker": {
             "colorbar": {
              "outlinewidth": 0,
              "ticks": ""
             }
            },
            "type": "scatterpolargl"
           }
          ],
          "scatterternary": [
           {
            "marker": {
             "colorbar": {
              "outlinewidth": 0,
              "ticks": ""
             }
            },
            "type": "scatterternary"
           }
          ],
          "surface": [
           {
            "colorbar": {
             "outlinewidth": 0,
             "ticks": ""
            },
            "colorscale": [
             [
              0,
              "#0d0887"
             ],
             [
              0.1111111111111111,
              "#46039f"
             ],
             [
              0.2222222222222222,
              "#7201a8"
             ],
             [
              0.3333333333333333,
              "#9c179e"
             ],
             [
              0.4444444444444444,
              "#bd3786"
             ],
             [
              0.5555555555555556,
              "#d8576b"
             ],
             [
              0.6666666666666666,
              "#ed7953"
             ],
             [
              0.7777777777777778,
              "#fb9f3a"
             ],
             [
              0.8888888888888888,
              "#fdca26"
             ],
             [
              1,
              "#f0f921"
             ]
            ],
            "type": "surface"
           }
          ],
          "table": [
           {
            "cells": {
             "fill": {
              "color": "#EBF0F8"
             },
             "line": {
              "color": "white"
             }
            },
            "header": {
             "fill": {
              "color": "#C8D4E3"
             },
             "line": {
              "color": "white"
             }
            },
            "type": "table"
           }
          ]
         },
         "layout": {
          "annotationdefaults": {
           "arrowcolor": "#2a3f5f",
           "arrowhead": 0,
           "arrowwidth": 1
          },
          "autotypenumbers": "strict",
          "coloraxis": {
           "colorbar": {
            "outlinewidth": 0,
            "ticks": ""
           }
          },
          "colorscale": {
           "diverging": [
            [
             0,
             "#8e0152"
            ],
            [
             0.1,
             "#c51b7d"
            ],
            [
             0.2,
             "#de77ae"
            ],
            [
             0.3,
             "#f1b6da"
            ],
            [
             0.4,
             "#fde0ef"
            ],
            [
             0.5,
             "#f7f7f7"
            ],
            [
             0.6,
             "#e6f5d0"
            ],
            [
             0.7,
             "#b8e186"
            ],
            [
             0.8,
             "#7fbc41"
            ],
            [
             0.9,
             "#4d9221"
            ],
            [
             1,
             "#276419"
            ]
           ],
           "sequential": [
            [
             0,
             "#0d0887"
            ],
            [
             0.1111111111111111,
             "#46039f"
            ],
            [
             0.2222222222222222,
             "#7201a8"
            ],
            [
             0.3333333333333333,
             "#9c179e"
            ],
            [
             0.4444444444444444,
             "#bd3786"
            ],
            [
             0.5555555555555556,
             "#d8576b"
            ],
            [
             0.6666666666666666,
             "#ed7953"
            ],
            [
             0.7777777777777778,
             "#fb9f3a"
            ],
            [
             0.8888888888888888,
             "#fdca26"
            ],
            [
             1,
             "#f0f921"
            ]
           ],
           "sequentialminus": [
            [
             0,
             "#0d0887"
            ],
            [
             0.1111111111111111,
             "#46039f"
            ],
            [
             0.2222222222222222,
             "#7201a8"
            ],
            [
             0.3333333333333333,
             "#9c179e"
            ],
            [
             0.4444444444444444,
             "#bd3786"
            ],
            [
             0.5555555555555556,
             "#d8576b"
            ],
            [
             0.6666666666666666,
             "#ed7953"
            ],
            [
             0.7777777777777778,
             "#fb9f3a"
            ],
            [
             0.8888888888888888,
             "#fdca26"
            ],
            [
             1,
             "#f0f921"
            ]
           ]
          },
          "colorway": [
           "#636efa",
           "#EF553B",
           "#00cc96",
           "#ab63fa",
           "#FFA15A",
           "#19d3f3",
           "#FF6692",
           "#B6E880",
           "#FF97FF",
           "#FECB52"
          ],
          "font": {
           "color": "#2a3f5f"
          },
          "geo": {
           "bgcolor": "white",
           "lakecolor": "white",
           "landcolor": "#E5ECF6",
           "showlakes": true,
           "showland": true,
           "subunitcolor": "white"
          },
          "hoverlabel": {
           "align": "left"
          },
          "hovermode": "closest",
          "mapbox": {
           "style": "light"
          },
          "paper_bgcolor": "white",
          "plot_bgcolor": "#E5ECF6",
          "polar": {
           "angularaxis": {
            "gridcolor": "white",
            "linecolor": "white",
            "ticks": ""
           },
           "bgcolor": "#E5ECF6",
           "radialaxis": {
            "gridcolor": "white",
            "linecolor": "white",
            "ticks": ""
           }
          },
          "scene": {
           "xaxis": {
            "backgroundcolor": "#E5ECF6",
            "gridcolor": "white",
            "gridwidth": 2,
            "linecolor": "white",
            "showbackground": true,
            "ticks": "",
            "zerolinecolor": "white"
           },
           "yaxis": {
            "backgroundcolor": "#E5ECF6",
            "gridcolor": "white",
            "gridwidth": 2,
            "linecolor": "white",
            "showbackground": true,
            "ticks": "",
            "zerolinecolor": "white"
           },
           "zaxis": {
            "backgroundcolor": "#E5ECF6",
            "gridcolor": "white",
            "gridwidth": 2,
            "linecolor": "white",
            "showbackground": true,
            "ticks": "",
            "zerolinecolor": "white"
           }
          },
          "shapedefaults": {
           "line": {
            "color": "#2a3f5f"
           }
          },
          "ternary": {
           "aaxis": {
            "gridcolor": "white",
            "linecolor": "white",
            "ticks": ""
           },
           "baxis": {
            "gridcolor": "white",
            "linecolor": "white",
            "ticks": ""
           },
           "bgcolor": "#E5ECF6",
           "caxis": {
            "gridcolor": "white",
            "linecolor": "white",
            "ticks": ""
           }
          },
          "title": {
           "x": 0.05
          },
          "xaxis": {
           "automargin": true,
           "gridcolor": "white",
           "linecolor": "white",
           "ticks": "",
           "title": {
            "standoff": 15
           },
           "zerolinecolor": "white",
           "zerolinewidth": 2
          },
          "yaxis": {
           "automargin": true,
           "gridcolor": "white",
           "linecolor": "white",
           "ticks": "",
           "title": {
            "standoff": 15
           },
           "zerolinecolor": "white",
           "zerolinewidth": 2
          }
         }
        },
        "title": {
         "text": "Top 10 Drivers by Wins",
         "x": 0.5
        },
        "xaxis": {
         "title": {
          "text": "Year"
         }
        },
        "yaxis": {
         "title": {
          "text": "Wins"
         }
        }
       }
      }
     },
     "metadata": {},
     "output_type": "display_data"
    },
    {
     "data": {
      "application/vnd.plotly.v1+json": {
       "config": {
        "plotlyServerURL": "https://plot.ly"
       },
       "data": [
        {
         "hoverinfo": "text",
         "marker": {
          "color": "#2B4562",
          "size": 2
         },
         "mode": "markers",
         "name": "AlphaTauri",
         "text": [
          "AlphaTauri<br>Points Finishes: 87<br>Podiums: 4<br>Wins: 1"
         ],
         "type": "scatter",
         "x": [
          87
         ],
         "y": [
          4
         ]
        },
        {
         "hoverinfo": "text",
         "marker": {
          "color": "#0090FF",
          "size": 2
         },
         "mode": "markers",
         "name": "Alpine",
         "text": [
          "Alpine<br>Points Finishes: 132<br>Podiums: 7<br>Wins: 1"
         ],
         "type": "scatter",
         "x": [
          132
         ],
         "y": [
          7
         ]
        },
        {
         "hoverinfo": "text",
         "marker": {
          "color": "#006F62",
          "size": 2
         },
         "mode": "markers",
         "name": "Aston Martin",
         "text": [
          "Aston Martin<br>Points Finishes: 122<br>Podiums: 13<br>Wins: 1"
         ],
         "type": "scatter",
         "x": [
          122
         ],
         "y": [
          13
         ]
        },
        {
         "hoverinfo": "text",
         "marker": {
          "color": "#DC0000",
          "size": 20
         },
         "mode": "markers",
         "name": "Ferrari",
         "text": [
          "Ferrari<br>Points Finishes: 182<br>Podiums: 67<br>Wins: 10"
         ],
         "type": "scatter",
         "x": [
          182
         ],
         "y": [
          67
         ]
        },
        {
         "hoverinfo": "text",
         "marker": {
          "color": "#F0D787",
          "size": 0
         },
         "mode": "markers",
         "name": "Haas",
         "text": [
          "Haas<br>Points Finishes: 28<br>Podiums: 0<br>Wins: 0"
         ],
         "type": "scatter",
         "x": [
          28
         ],
         "y": [
          0
         ]
        },
        {
         "hoverinfo": "text",
         "marker": {
          "color": "#000000",
          "size": 0
         },
         "mode": "markers",
         "name": "Kick Sauber",
         "text": [
          "Kick Sauber<br>Points Finishes: 43<br>Podiums: 0<br>Wins: 0"
         ],
         "type": "scatter",
         "x": [
          43
         ],
         "y": [
          0
         ]
        },
        {
         "hoverinfo": "text",
         "marker": {
          "color": "#FF8700",
          "size": 6
         },
         "mode": "markers",
         "name": "McLaren",
         "text": [
          "McLaren<br>Points Finishes: 159<br>Podiums: 30<br>Wins: 3"
         ],
         "type": "scatter",
         "x": [
          159
         ],
         "y": [
          30
         ]
        },
        {
         "hoverinfo": "text",
         "marker": {
          "color": "#00D2BE",
          "size": 82
         },
         "mode": "markers",
         "name": "Mercedes",
         "text": [
          "Mercedes<br>Points Finishes: 206<br>Podiums: 116<br>Wins: 41"
         ],
         "type": "scatter",
         "x": [
          206
         ],
         "y": [
          116
         ]
        },
        {
         "hoverinfo": "text",
         "marker": {
          "color": "#1E41FF",
          "size": 122
         },
         "mode": "markers",
         "name": "Red Bull",
         "text": [
          "Red Bull<br>Points Finishes: 199<br>Podiums: 116<br>Wins: 61"
         ],
         "type": "scatter",
         "x": [
          199
         ],
         "y": [
          116
         ]
        },
        {
         "hoverinfo": "text",
         "marker": {
          "color": "#005AFF",
          "size": 0
         },
         "mode": "markers",
         "name": "Williams",
         "text": [
          "Williams<br>Points Finishes: 22<br>Podiums: 1<br>Wins: 0"
         ],
         "type": "scatter",
         "x": [
          22
         ],
         "y": [
          1
         ]
        }
       ],
       "layout": {
        "template": {
         "data": {
          "bar": [
           {
            "error_x": {
             "color": "#2a3f5f"
            },
            "error_y": {
             "color": "#2a3f5f"
            },
            "marker": {
             "line": {
              "color": "#E5ECF6",
              "width": 0.5
             },
             "pattern": {
              "fillmode": "overlay",
              "size": 10,
              "solidity": 0.2
             }
            },
            "type": "bar"
           }
          ],
          "barpolar": [
           {
            "marker": {
             "line": {
              "color": "#E5ECF6",
              "width": 0.5
             },
             "pattern": {
              "fillmode": "overlay",
              "size": 10,
              "solidity": 0.2
             }
            },
            "type": "barpolar"
           }
          ],
          "carpet": [
           {
            "aaxis": {
             "endlinecolor": "#2a3f5f",
             "gridcolor": "white",
             "linecolor": "white",
             "minorgridcolor": "white",
             "startlinecolor": "#2a3f5f"
            },
            "baxis": {
             "endlinecolor": "#2a3f5f",
             "gridcolor": "white",
             "linecolor": "white",
             "minorgridcolor": "white",
             "startlinecolor": "#2a3f5f"
            },
            "type": "carpet"
           }
          ],
          "choropleth": [
           {
            "colorbar": {
             "outlinewidth": 0,
             "ticks": ""
            },
            "type": "choropleth"
           }
          ],
          "contour": [
           {
            "colorbar": {
             "outlinewidth": 0,
             "ticks": ""
            },
            "colorscale": [
             [
              0,
              "#0d0887"
             ],
             [
              0.1111111111111111,
              "#46039f"
             ],
             [
              0.2222222222222222,
              "#7201a8"
             ],
             [
              0.3333333333333333,
              "#9c179e"
             ],
             [
              0.4444444444444444,
              "#bd3786"
             ],
             [
              0.5555555555555556,
              "#d8576b"
             ],
             [
              0.6666666666666666,
              "#ed7953"
             ],
             [
              0.7777777777777778,
              "#fb9f3a"
             ],
             [
              0.8888888888888888,
              "#fdca26"
             ],
             [
              1,
              "#f0f921"
             ]
            ],
            "type": "contour"
           }
          ],
          "contourcarpet": [
           {
            "colorbar": {
             "outlinewidth": 0,
             "ticks": ""
            },
            "type": "contourcarpet"
           }
          ],
          "heatmap": [
           {
            "colorbar": {
             "outlinewidth": 0,
             "ticks": ""
            },
            "colorscale": [
             [
              0,
              "#0d0887"
             ],
             [
              0.1111111111111111,
              "#46039f"
             ],
             [
              0.2222222222222222,
              "#7201a8"
             ],
             [
              0.3333333333333333,
              "#9c179e"
             ],
             [
              0.4444444444444444,
              "#bd3786"
             ],
             [
              0.5555555555555556,
              "#d8576b"
             ],
             [
              0.6666666666666666,
              "#ed7953"
             ],
             [
              0.7777777777777778,
              "#fb9f3a"
             ],
             [
              0.8888888888888888,
              "#fdca26"
             ],
             [
              1,
              "#f0f921"
             ]
            ],
            "type": "heatmap"
           }
          ],
          "heatmapgl": [
           {
            "colorbar": {
             "outlinewidth": 0,
             "ticks": ""
            },
            "colorscale": [
             [
              0,
              "#0d0887"
             ],
             [
              0.1111111111111111,
              "#46039f"
             ],
             [
              0.2222222222222222,
              "#7201a8"
             ],
             [
              0.3333333333333333,
              "#9c179e"
             ],
             [
              0.4444444444444444,
              "#bd3786"
             ],
             [
              0.5555555555555556,
              "#d8576b"
             ],
             [
              0.6666666666666666,
              "#ed7953"
             ],
             [
              0.7777777777777778,
              "#fb9f3a"
             ],
             [
              0.8888888888888888,
              "#fdca26"
             ],
             [
              1,
              "#f0f921"
             ]
            ],
            "type": "heatmapgl"
           }
          ],
          "histogram": [
           {
            "marker": {
             "pattern": {
              "fillmode": "overlay",
              "size": 10,
              "solidity": 0.2
             }
            },
            "type": "histogram"
           }
          ],
          "histogram2d": [
           {
            "colorbar": {
             "outlinewidth": 0,
             "ticks": ""
            },
            "colorscale": [
             [
              0,
              "#0d0887"
             ],
             [
              0.1111111111111111,
              "#46039f"
             ],
             [
              0.2222222222222222,
              "#7201a8"
             ],
             [
              0.3333333333333333,
              "#9c179e"
             ],
             [
              0.4444444444444444,
              "#bd3786"
             ],
             [
              0.5555555555555556,
              "#d8576b"
             ],
             [
              0.6666666666666666,
              "#ed7953"
             ],
             [
              0.7777777777777778,
              "#fb9f3a"
             ],
             [
              0.8888888888888888,
              "#fdca26"
             ],
             [
              1,
              "#f0f921"
             ]
            ],
            "type": "histogram2d"
           }
          ],
          "histogram2dcontour": [
           {
            "colorbar": {
             "outlinewidth": 0,
             "ticks": ""
            },
            "colorscale": [
             [
              0,
              "#0d0887"
             ],
             [
              0.1111111111111111,
              "#46039f"
             ],
             [
              0.2222222222222222,
              "#7201a8"
             ],
             [
              0.3333333333333333,
              "#9c179e"
             ],
             [
              0.4444444444444444,
              "#bd3786"
             ],
             [
              0.5555555555555556,
              "#d8576b"
             ],
             [
              0.6666666666666666,
              "#ed7953"
             ],
             [
              0.7777777777777778,
              "#fb9f3a"
             ],
             [
              0.8888888888888888,
              "#fdca26"
             ],
             [
              1,
              "#f0f921"
             ]
            ],
            "type": "histogram2dcontour"
           }
          ],
          "mesh3d": [
           {
            "colorbar": {
             "outlinewidth": 0,
             "ticks": ""
            },
            "type": "mesh3d"
           }
          ],
          "parcoords": [
           {
            "line": {
             "colorbar": {
              "outlinewidth": 0,
              "ticks": ""
             }
            },
            "type": "parcoords"
           }
          ],
          "pie": [
           {
            "automargin": true,
            "type": "pie"
           }
          ],
          "scatter": [
           {
            "fillpattern": {
             "fillmode": "overlay",
             "size": 10,
             "solidity": 0.2
            },
            "type": "scatter"
           }
          ],
          "scatter3d": [
           {
            "line": {
             "colorbar": {
              "outlinewidth": 0,
              "ticks": ""
             }
            },
            "marker": {
             "colorbar": {
              "outlinewidth": 0,
              "ticks": ""
             }
            },
            "type": "scatter3d"
           }
          ],
          "scattercarpet": [
           {
            "marker": {
             "colorbar": {
              "outlinewidth": 0,
              "ticks": ""
             }
            },
            "type": "scattercarpet"
           }
          ],
          "scattergeo": [
           {
            "marker": {
             "colorbar": {
              "outlinewidth": 0,
              "ticks": ""
             }
            },
            "type": "scattergeo"
           }
          ],
          "scattergl": [
           {
            "marker": {
             "colorbar": {
              "outlinewidth": 0,
              "ticks": ""
             }
            },
            "type": "scattergl"
           }
          ],
          "scattermapbox": [
           {
            "marker": {
             "colorbar": {
              "outlinewidth": 0,
              "ticks": ""
             }
            },
            "type": "scattermapbox"
           }
          ],
          "scatterpolar": [
           {
            "marker": {
             "colorbar": {
              "outlinewidth": 0,
              "ticks": ""
             }
            },
            "type": "scatterpolar"
           }
          ],
          "scatterpolargl": [
           {
            "marker": {
             "colorbar": {
              "outlinewidth": 0,
              "ticks": ""
             }
            },
            "type": "scatterpolargl"
           }
          ],
          "scatterternary": [
           {
            "marker": {
             "colorbar": {
              "outlinewidth": 0,
              "ticks": ""
             }
            },
            "type": "scatterternary"
           }
          ],
          "surface": [
           {
            "colorbar": {
             "outlinewidth": 0,
             "ticks": ""
            },
            "colorscale": [
             [
              0,
              "#0d0887"
             ],
             [
              0.1111111111111111,
              "#46039f"
             ],
             [
              0.2222222222222222,
              "#7201a8"
             ],
             [
              0.3333333333333333,
              "#9c179e"
             ],
             [
              0.4444444444444444,
              "#bd3786"
             ],
             [
              0.5555555555555556,
              "#d8576b"
             ],
             [
              0.6666666666666666,
              "#ed7953"
             ],
             [
              0.7777777777777778,
              "#fb9f3a"
             ],
             [
              0.8888888888888888,
              "#fdca26"
             ],
             [
              1,
              "#f0f921"
             ]
            ],
            "type": "surface"
           }
          ],
          "table": [
           {
            "cells": {
             "fill": {
              "color": "#EBF0F8"
             },
             "line": {
              "color": "white"
             }
            },
            "header": {
             "fill": {
              "color": "#C8D4E3"
             },
             "line": {
              "color": "white"
             }
            },
            "type": "table"
           }
          ]
         },
         "layout": {
          "annotationdefaults": {
           "arrowcolor": "#2a3f5f",
           "arrowhead": 0,
           "arrowwidth": 1
          },
          "autotypenumbers": "strict",
          "coloraxis": {
           "colorbar": {
            "outlinewidth": 0,
            "ticks": ""
           }
          },
          "colorscale": {
           "diverging": [
            [
             0,
             "#8e0152"
            ],
            [
             0.1,
             "#c51b7d"
            ],
            [
             0.2,
             "#de77ae"
            ],
            [
             0.3,
             "#f1b6da"
            ],
            [
             0.4,
             "#fde0ef"
            ],
            [
             0.5,
             "#f7f7f7"
            ],
            [
             0.6,
             "#e6f5d0"
            ],
            [
             0.7,
             "#b8e186"
            ],
            [
             0.8,
             "#7fbc41"
            ],
            [
             0.9,
             "#4d9221"
            ],
            [
             1,
             "#276419"
            ]
           ],
           "sequential": [
            [
             0,
             "#0d0887"
            ],
            [
             0.1111111111111111,
             "#46039f"
            ],
            [
             0.2222222222222222,
             "#7201a8"
            ],
            [
             0.3333333333333333,
             "#9c179e"
            ],
            [
             0.4444444444444444,
             "#bd3786"
            ],
            [
             0.5555555555555556,
             "#d8576b"
            ],
            [
             0.6666666666666666,
             "#ed7953"
            ],
            [
             0.7777777777777778,
             "#fb9f3a"
            ],
            [
             0.8888888888888888,
             "#fdca26"
            ],
            [
             1,
             "#f0f921"
            ]
           ],
           "sequentialminus": [
            [
             0,
             "#0d0887"
            ],
            [
             0.1111111111111111,
             "#46039f"
            ],
            [
             0.2222222222222222,
             "#7201a8"
            ],
            [
             0.3333333333333333,
             "#9c179e"
            ],
            [
             0.4444444444444444,
             "#bd3786"
            ],
            [
             0.5555555555555556,
             "#d8576b"
            ],
            [
             0.6666666666666666,
             "#ed7953"
            ],
            [
             0.7777777777777778,
             "#fb9f3a"
            ],
            [
             0.8888888888888888,
             "#fdca26"
            ],
            [
             1,
             "#f0f921"
            ]
           ]
          },
          "colorway": [
           "#636efa",
           "#EF553B",
           "#00cc96",
           "#ab63fa",
           "#FFA15A",
           "#19d3f3",
           "#FF6692",
           "#B6E880",
           "#FF97FF",
           "#FECB52"
          ],
          "font": {
           "color": "#2a3f5f"
          },
          "geo": {
           "bgcolor": "white",
           "lakecolor": "white",
           "landcolor": "#E5ECF6",
           "showlakes": true,
           "showland": true,
           "subunitcolor": "white"
          },
          "hoverlabel": {
           "align": "left"
          },
          "hovermode": "closest",
          "mapbox": {
           "style": "light"
          },
          "paper_bgcolor": "white",
          "plot_bgcolor": "#E5ECF6",
          "polar": {
           "angularaxis": {
            "gridcolor": "white",
            "linecolor": "white",
            "ticks": ""
           },
           "bgcolor": "#E5ECF6",
           "radialaxis": {
            "gridcolor": "white",
            "linecolor": "white",
            "ticks": ""
           }
          },
          "scene": {
           "xaxis": {
            "backgroundcolor": "#E5ECF6",
            "gridcolor": "white",
            "gridwidth": 2,
            "linecolor": "white",
            "showbackground": true,
            "ticks": "",
            "zerolinecolor": "white"
           },
           "yaxis": {
            "backgroundcolor": "#E5ECF6",
            "gridcolor": "white",
            "gridwidth": 2,
            "linecolor": "white",
            "showbackground": true,
            "ticks": "",
            "zerolinecolor": "white"
           },
           "zaxis": {
            "backgroundcolor": "#E5ECF6",
            "gridcolor": "white",
            "gridwidth": 2,
            "linecolor": "white",
            "showbackground": true,
            "ticks": "",
            "zerolinecolor": "white"
           }
          },
          "shapedefaults": {
           "line": {
            "color": "#2a3f5f"
           }
          },
          "ternary": {
           "aaxis": {
            "gridcolor": "white",
            "linecolor": "white",
            "ticks": ""
           },
           "baxis": {
            "gridcolor": "white",
            "linecolor": "white",
            "ticks": ""
           },
           "bgcolor": "#E5ECF6",
           "caxis": {
            "gridcolor": "white",
            "linecolor": "white",
            "ticks": ""
           }
          },
          "title": {
           "x": 0.05
          },
          "xaxis": {
           "automargin": true,
           "gridcolor": "white",
           "linecolor": "white",
           "ticks": "",
           "title": {
            "standoff": 15
           },
           "zerolinecolor": "white",
           "zerolinewidth": 2
          },
          "yaxis": {
           "automargin": true,
           "gridcolor": "white",
           "linecolor": "white",
           "ticks": "",
           "title": {
            "standoff": 15
           },
           "zerolinecolor": "white",
           "zerolinewidth": 2
          }
         }
        },
        "title": {
         "text": "Team Performance in Races",
         "x": 0.5
        },
        "xaxis": {
         "title": {
          "text": "Points Finishes"
         }
        },
        "yaxis": {
         "title": {
          "text": "Podiums"
         }
        }
       }
      }
     },
     "metadata": {},
     "output_type": "display_data"
    }
   ],
   "source": [
    "import pandas as pd\n",
    "import plotly.graph_objects as go\n",
    "import plotly.express as px\n",
    "from collections import defaultdict\n",
    "\n",
    "def visualize_race_performance(race_df, team_mapping):\n",
    "    # Normalize team names\n",
    "    race_df['NormalizedTeam'] = race_df['Team'].apply(lambda x: normalize_team_name(x, team_mapping))\n",
    "    \n",
    "    # Convert Position to numeric, treating non-numeric values as NaN\n",
    "    race_df['NumericPosition'] = pd.to_numeric(race_df['Position'], errors='coerce')\n",
    "    \n",
    "    # 1. Cumulative Wins by Team\n",
    "    wins = race_df[race_df['NumericPosition'] == 1].groupby(['Year', 'NormalizedTeam']).size().unstack(fill_value=0).cumsum()\n",
    "    fig1 = go.Figure()\n",
    "    for team in wins.columns:\n",
    "        fig1.add_trace(go.Scatter(x=wins.index, y=wins[team],\n",
    "                                  mode='lines+markers', name=team,\n",
    "                                  line=dict(color=team_colors.get(team, '#000000'))))\n",
    "    fig1.update_layout(title='Cumulative Wins by Team',\n",
    "                       title_x=0.5,\n",
    "                       xaxis_title='Year', yaxis_title='Cumulative Wins')\n",
    "    fig1.show()\n",
    "\n",
    "    # 2. Total Wins by Team\n",
    "    total_wins = wins.iloc[-1].sort_values(ascending=False)\n",
    "    fig2 = go.Figure(go.Bar(x=total_wins.index, y=total_wins.values,\n",
    "                            marker_color=[team_colors.get(team, '#000000') for team in total_wins.index]))\n",
    "    fig2.update_layout(title='Total Wins by Team',\n",
    "                       title_x=0.5,\n",
    "                       xaxis_title='Team', yaxis_title='Total Wins')\n",
    "    fig2.show()\n",
    "\n",
    "    # 3. Top 10 Drivers by Wins (Line Plot)\n",
    "    driver_wins = race_df[race_df['NumericPosition'] == 1].groupby(['Driver', 'Year']).size().unstack(fill_value=0)\n",
    "    driver_wins['Total'] = driver_wins.sum(axis=1)\n",
    "    top_drivers = driver_wins.nlargest(10, 'Total')\n",
    "    fig3 = go.Figure()\n",
    "    for driver in top_drivers.index:\n",
    "        fig3.add_trace(go.Scatter(x=top_drivers.columns[:-1], y=top_drivers.loc[driver, top_drivers.columns[:-1]],\n",
    "                                  mode='lines+markers', name=driver))\n",
    "    fig3.update_layout(title='Top 10 Drivers by Wins',\n",
    "                       title_x=0.5,  # Center the title\n",
    "                       xaxis_title='Year', yaxis_title='Wins')\n",
    "    fig3.show()\n",
    "\n",
    "    # 4. Team Performance in Races\n",
    "    team_performance = race_df.groupby('NormalizedTeam').agg({\n",
    "        'NumericPosition': [('Wins', lambda x: (x == 1).sum()),\n",
    "                            ('Podiums', lambda x: x.isin([1, 2, 3]).sum()),\n",
    "                            ('Points', lambda x: x.between(1, 10).sum())]\n",
    "    })\n",
    "    team_performance.columns = ['Wins', 'Podiums', 'Points_Finishes']\n",
    "    fig4 = go.Figure()\n",
    "    for team in team_performance.index:\n",
    "        fig4.add_trace(go.Scatter(x=[team_performance.loc[team, 'Points_Finishes']],\n",
    "                                  y=[team_performance.loc[team, 'Podiums']],\n",
    "                                  mode='markers',\n",
    "                                  marker=dict(size=team_performance.loc[team, 'Wins']*2,\n",
    "                                              color=team_colors.get(team, '#000000')),\n",
    "                                  name=team,\n",
    "                                  text=[f\"{team}<br>Points Finishes: {team_performance.loc[team, 'Points_Finishes']}<br>\"\n",
    "                                        f\"Podiums: {team_performance.loc[team, 'Podiums']}<br>\"\n",
    "                                        f\"Wins: {team_performance.loc[team, 'Wins']}\"],\n",
    "                                  hoverinfo='text'))\n",
    "    fig4.update_layout(title='Team Performance in Races',\n",
    "                       title_x=0.5,  # Center the title\n",
    "                       xaxis_title='Points Finishes', yaxis_title='Podiums')\n",
    "    fig4.show()\n",
    "\n",
    "\n",
    "# Main execution\n",
    "if __name__ == \"__main__\":\n",
    "    race_df = get_race_results()\n",
    "    team_mapping = get_team_mapping()\n",
    "    visualize_race_performance(race_df, team_mapping)\n"
   ]
  }
 ],
 "metadata": {
  "kernelspec": {
   "display_name": "base",
   "language": "python",
   "name": "python3"
  },
  "language_info": {
   "codemirror_mode": {
    "name": "ipython",
    "version": 3
   },
   "file_extension": ".py",
   "mimetype": "text/x-python",
   "name": "python",
   "nbconvert_exporter": "python",
   "pygments_lexer": "ipython3",
   "version": "3.11.5"
  }
 },
 "nbformat": 4,
 "nbformat_minor": 2
}
